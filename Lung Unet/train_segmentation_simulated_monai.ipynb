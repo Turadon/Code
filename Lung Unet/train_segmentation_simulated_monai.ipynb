{
 "cells": [
  {
   "cell_type": "code",
   "execution_count": 1,
   "metadata": {},
   "outputs": [
    {
     "ename": "SyntaxError",
     "evalue": "invalid syntax (2347968427.py, line 4)",
     "output_type": "error",
     "traceback": [
      "\u001b[1;36m  Cell \u001b[1;32mIn[1], line 4\u001b[1;36m\u001b[0m\n\u001b[1;33m    os.environ['WANDB_NOTEBOOK_NAME'] =\u001b[0m\n\u001b[1;37m                                        ^\u001b[0m\n\u001b[1;31mSyntaxError\u001b[0m\u001b[1;31m:\u001b[0m invalid syntax\n"
     ]
    }
   ],
   "source": [
    "import wandb\n",
    "import os \n",
    "\n",
    "os.environ['WANDB_NOTEBOOK_NAME'] = \n",
    "%env WANDB_API_KEY = \n",
    "\n",
    "wandb.login()"
   ]
  },
  {
   "cell_type": "code",
   "execution_count": 2,
   "metadata": {},
   "outputs": [
    {
     "name": "stderr",
     "output_type": "stream",
     "text": [
      "INFO:albumentations.check_version:A new version of Albumentations is available: 1.4.18 (you have 1.4.12). Upgrade using: pip install -U albumentations. To disable automatic update checks, set the environment variable NO_ALBUMENTATIONS_UPDATE to 1.\n"
     ]
    }
   ],
   "source": [
    "import time\n",
    "from torch.nn import BCEWithLogitsLoss\n",
    "import torch\n",
    "import albumentations as A\n",
    "from albumentations.pytorch import ToTensorV2\n",
    "import matplotlib.pyplot as plt\n",
    "import gc  \n"
   ]
  },
  {
   "cell_type": "code",
   "execution_count": 3,
   "metadata": {},
   "outputs": [],
   "source": [
    "from utils import (\n",
    "    save_checkpoint,\n",
    "    load_checkpoint,\n",
    "    check_accuracy,\n",
    "    save_test_images,\n",
    "    get_loaders,\n",
    "    check_accuracy_val,\n",
    "    check_accuracy_test\n",
    ")\n",
    "\n",
    "from models import UNET\n",
    "from monai.networks.nets import UNet\n",
    "from train import train_epoch\n",
    "from simulated_lung_dataset_gaussian_std import get_loaders_simulated"
   ]
  },
  {
   "cell_type": "code",
   "execution_count": 8,
   "metadata": {},
   "outputs": [],
   "source": [
    "# HYPERPARAMETERS:\n",
    "LEARNING_RATE = 1e-4\n",
    "DEVICE = \"cuda\" if torch.cuda.is_available() else \"cpu\"\n",
    "PIN_MEMORY = False  # True if DEVICE == 'cuda' else False\n",
    "LOGGING = True\n",
    "BATCH_SIZE = 8\n",
    "NUM_EPOCHS = 10\n",
    "NUM_WORKERS = 0\n",
    "IMAGE_SIZE = 256"
   ]
  },
  {
   "cell_type": "markdown",
   "metadata": {},
   "source": [
    "# train"
   ]
  },
  {
   "cell_type": "code",
   "execution_count": 9,
   "metadata": {},
   "outputs": [],
   "source": [
    "def model_train(model_input, save_model_path, LOGGING, IMAGE_STD, NOISE_STD_RATIO, DEVICE):    \n",
    "    model = model_input\n",
    "    loss_fn = BCEWithLogitsLoss()\n",
    "    optimizer = torch.optim.Adam(model.parameters(), lr=LEARNING_RATE)\n",
    "    scaler = torch.cuda.amp.GradScaler()\n",
    "\n",
    "    # training\n",
    "    best_loss = 1_000_000_000\n",
    "    train_loader, test_loader, validation_loader = get_loaders_simulated(image_std = IMAGE_STD , noise_std_ratio= NOISE_STD_RATIO)\n",
    "    #check_accuracy(0, validation_loader, model, logging = LOGGING ,device=DEVICE)\n",
    "    for epoch in range(1, NUM_EPOCHS+1):\n",
    "        loss = train_epoch(train_loader, model, optimizer, loss_fn, scaler, DEVICE)\n",
    "        if epoch % 5 == 0:\n",
    "            check_accuracy_val(epoch, validation_loader, model, logging = LOGGING ,device=DEVICE)\n",
    "        del loss\n",
    "        torch.cuda.empty_cache() \n",
    "        \n",
    "    checkpoint = {\n",
    "            \"state_dict\": model.state_dict(),\n",
    "            \"optimizer\": optimizer.state_dict(),\n",
    "            }\n",
    "    check_accuracy_test(epoch, test_loader, model, logging = LOGGING ,device=DEVICE)\n",
    "    save_checkpoint(checkpoint, filename= save_model_path)"
   ]
  },
  {
   "cell_type": "markdown",
   "metadata": {},
   "source": [
    "# main"
   ]
  },
  {
   "cell_type": "code",
   "execution_count": 10,
   "metadata": {},
   "outputs": [],
   "source": [
    "def model_train_log(i, model, model_name, LOGGING, IMAGE_STD, NOISE_STD_RATIO,  DEVICE = 'cuda'):\n",
    "    model_save_path = f'/home/alex/Documents/new try/Data/Lung Unet/save_states/Monai_Unet_gaussian_test_{IMAGE_STD}_{NOISE_STD_RATIO}.pth.tar' \n",
    "    \n",
    "    #logging\n",
    "    if LOGGING:\n",
    "        run = wandb.init(\n",
    "            # set the wandb project where this run will be logged\n",
    "            #entity = \"alexander-ortlieb94\",\n",
    "            project = \"Compare continued simulations monai\",\n",
    "            group = \"Simulated\",\n",
    "            job_type = 'Gaussian',\n",
    "            name = 'Monai',\n",
    "\n",
    "            # track hyperparameters and run metadata\n",
    "            config={\n",
    "                \"try no.\" : i,\n",
    "                \"std_matching\" : IMAGE_STD,\n",
    "                \"std_noise_ratio\" : NOISE_STD_RATIO\n",
    "                },\n",
    "        )\n",
    "    else:\n",
    "        pass\n",
    " \n",
    "    \n",
    "    model_train(\n",
    "        model,\n",
    "        model_save_path,\n",
    "        LOGGING,\n",
    "        IMAGE_STD, \n",
    "        NOISE_STD_RATIO, \n",
    "        DEVICE)\n",
    "    \n",
    "    if LOGGING:\n",
    "        run.finish()\n",
    "\n",
    "    torch.cuda.empty_cache() \n",
    "   "
   ]
  },
  {
   "cell_type": "code",
   "execution_count": 11,
   "metadata": {},
   "outputs": [
    {
     "name": "stdout",
     "output_type": "stream",
     "text": [
      "=> Loading checkpoint\n"
     ]
    },
    {
     "data": {
      "text/html": [
       "wandb version 0.18.3 is available!  To upgrade, please run:\n",
       " $ pip install wandb --upgrade"
      ],
      "text/plain": [
       "<IPython.core.display.HTML object>"
      ]
     },
     "metadata": {},
     "output_type": "display_data"
    },
    {
     "data": {
      "text/html": [
       "Tracking run with wandb version 0.17.2"
      ],
      "text/plain": [
       "<IPython.core.display.HTML object>"
      ]
     },
     "metadata": {},
     "output_type": "display_data"
    },
    {
     "data": {
      "text/html": [
       "Run data is saved locally in <code>/home/alex/Documents/new try/Code/Lung Unet/wandb/run-20241010_130724-ly49bb30</code>"
      ],
      "text/plain": [
       "<IPython.core.display.HTML object>"
      ]
     },
     "metadata": {},
     "output_type": "display_data"
    },
    {
     "data": {
      "text/html": [
       "Syncing run <strong><a href='https://wandb.ai/ulm-university/Compare%20continued%20simulations%20monai/runs/ly49bb30' target=\"_blank\">Monai</a></strong> to <a href='https://wandb.ai/ulm-university/Compare%20continued%20simulations%20monai' target=\"_blank\">Weights & Biases</a> (<a href='https://wandb.me/run' target=\"_blank\">docs</a>)<br/>"
      ],
      "text/plain": [
       "<IPython.core.display.HTML object>"
      ]
     },
     "metadata": {},
     "output_type": "display_data"
    },
    {
     "data": {
      "text/html": [
       " View project at <a href='https://wandb.ai/ulm-university/Compare%20continued%20simulations%20monai' target=\"_blank\">https://wandb.ai/ulm-university/Compare%20continued%20simulations%20monai</a>"
      ],
      "text/plain": [
       "<IPython.core.display.HTML object>"
      ]
     },
     "metadata": {},
     "output_type": "display_data"
    },
    {
     "data": {
      "text/html": [
       " View run at <a href='https://wandb.ai/ulm-university/Compare%20continued%20simulations%20monai/runs/ly49bb30' target=\"_blank\">https://wandb.ai/ulm-university/Compare%20continued%20simulations%20monai/runs/ly49bb30</a>"
      ],
      "text/plain": [
       "<IPython.core.display.HTML object>"
      ]
     },
     "metadata": {},
     "output_type": "display_data"
    },
    {
     "name": "stderr",
     "output_type": "stream",
     "text": [
      "100%|██████████| 62/62 [02:16<00:00,  2.20s/it, loss=0.222]\n",
      "100%|██████████| 62/62 [02:11<00:00,  2.13s/it, loss=0.216]\n",
      "100%|██████████| 62/62 [02:10<00:00,  2.11s/it, loss=0.197]\n",
      "100%|██████████| 62/62 [02:09<00:00,  2.09s/it, loss=0.216]\n",
      "100%|██████████| 62/62 [02:12<00:00,  2.14s/it, loss=0.211]\n"
     ]
    },
    {
     "name": "stdout",
     "output_type": "stream",
     "text": [
      "Val-Epoch: 5, Acc: 0.90, and Dice score: 0.65, IoU: 0.68, hd: 32.60\n"
     ]
    },
    {
     "name": "stderr",
     "output_type": "stream",
     "text": [
      "100%|██████████| 62/62 [02:11<00:00,  2.11s/it, loss=0.207]\n",
      "100%|██████████| 62/62 [02:10<00:00,  2.10s/it, loss=0.19] \n",
      "100%|██████████| 62/62 [02:11<00:00,  2.12s/it, loss=0.186]\n",
      "100%|██████████| 62/62 [02:10<00:00,  2.10s/it, loss=0.197]\n",
      "100%|██████████| 62/62 [02:11<00:00,  2.12s/it, loss=0.174]\n"
     ]
    },
    {
     "name": "stdout",
     "output_type": "stream",
     "text": [
      "Val-Epoch: 10, Acc: 0.90, and Dice score: 0.66, IoU: 0.70, hd: 32.17\n",
      "Epoch: 10, Acc: 0.90, and Dice score: 0.69, IoU: 0.76, hd: 25.59\n",
      "=> Saving checkpoint\n"
     ]
    },
    {
     "data": {
      "text/html": [
       "<style>\n",
       "    table.wandb td:nth-child(1) { padding: 0 10px; text-align: left ; width: auto;} td:nth-child(2) {text-align: left ; width: 100%}\n",
       "    .wandb-row { display: flex; flex-direction: row; flex-wrap: wrap; justify-content: flex-start; width: 100% }\n",
       "    .wandb-col { display: flex; flex-direction: column; flex-basis: 100%; flex: 1; padding: 10px; }\n",
       "    </style>\n",
       "<div class=\"wandb-row\"><div class=\"wandb-col\"><h3>Run history:</h3><br/><table class=\"wandb\"><tr><td>epoch</td><td>▁</td></tr><tr><td>test_acc</td><td>▁</td></tr><tr><td>test_box_iou</td><td>▁</td></tr><tr><td>test_dice</td><td>▁</td></tr><tr><td>test_hd</td><td>▁</td></tr><tr><td>test_loss</td><td>▁</td></tr></table><br/></div><div class=\"wandb-col\"><h3>Run summary:</h3><br/><table class=\"wandb\"><tr><td>epoch</td><td>10</td></tr><tr><td>test_acc</td><td>0.90211</td></tr><tr><td>test_box_iou</td><td>0.76313</td></tr><tr><td>test_dice</td><td>0.69419</td></tr><tr><td>test_hd</td><td>25.59276</td></tr><tr><td>test_loss</td><td>9.49974</td></tr></table><br/></div></div>"
      ],
      "text/plain": [
       "<IPython.core.display.HTML object>"
      ]
     },
     "metadata": {},
     "output_type": "display_data"
    },
    {
     "data": {
      "text/html": [
       " View run <strong style=\"color:#cdcd00\">Monai</strong> at: <a href='https://wandb.ai/ulm-university/Compare%20continued%20simulations%20monai/runs/ly49bb30' target=\"_blank\">https://wandb.ai/ulm-university/Compare%20continued%20simulations%20monai/runs/ly49bb30</a><br/> View project at: <a href='https://wandb.ai/ulm-university/Compare%20continued%20simulations%20monai' target=\"_blank\">https://wandb.ai/ulm-university/Compare%20continued%20simulations%20monai</a><br/>Synced 5 W&B file(s), 0 media file(s), 0 artifact file(s) and 0 other file(s)"
      ],
      "text/plain": [
       "<IPython.core.display.HTML object>"
      ]
     },
     "metadata": {},
     "output_type": "display_data"
    },
    {
     "data": {
      "text/html": [
       "Find logs at: <code>./wandb/run-20241010_130724-ly49bb30/logs</code>"
      ],
      "text/plain": [
       "<IPython.core.display.HTML object>"
      ]
     },
     "metadata": {},
     "output_type": "display_data"
    },
    {
     "data": {
      "text/html": [
       "The new W&B backend becomes opt-out in version 0.18.0; try it out with `wandb.require(\"core\")`! See https://wandb.me/wandb-core for more information."
      ],
      "text/plain": [
       "<IPython.core.display.HTML object>"
      ]
     },
     "metadata": {},
     "output_type": "display_data"
    }
   ],
   "source": [
    "def run_tests():\n",
    "\n",
    "    for i in range(3,4):\n",
    "        for IMAGE_STD in [10]: #[3, 5, 7, 10]:\n",
    "            for NOISE_STD_RATIO in [0.1]:\n",
    "                LOGGING = True\n",
    "                #Own_unet = UNET(in_channels=1,out_channels=1, features= [16, 32, 64, 128]).to(DEVICE)\n",
    "                monai_UNet = UNet(spatial_dims=2, in_channels=1, out_channels=1, channels=(16, 32, 64, 128), strides=(2, 2, 2), bias = False, num_res_units = 0).to(device=DEVICE)\n",
    "                load_checkpoint(monai_UNet, r'/home/alex/Documents/new try/Data/Lung Unet/save_states/simulate_data/Monai_Unet_gaussian1.pth.tar')\n",
    "                model_train_log(i, monai_UNet, 'Own_unet', LOGGING, IMAGE_STD, NOISE_STD_RATIO, DEVICE)\n",
    "                \n",
    "\n",
    "if __name__ == \"__main__\":\n",
    "    run_tests()"
   ]
  }
 ],
 "metadata": {
  "kernelspec": {
   "display_name": "Python 3",
   "language": "python",
   "name": "python3"
  },
  "language_info": {
   "codemirror_mode": {
    "name": "ipython",
    "version": 3
   },
   "file_extension": ".py",
   "mimetype": "text/x-python",
   "name": "python",
   "nbconvert_exporter": "python",
   "pygments_lexer": "ipython3",
   "version": "3.10.5"
  }
 },
 "nbformat": 4,
 "nbformat_minor": 2
}
