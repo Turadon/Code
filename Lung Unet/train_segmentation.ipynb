{
 "cells": [
  {
   "cell_type": "code",
   "execution_count": null,
   "metadata": {},
   "outputs": [],
   "source": [
    "import wandb\n",
    "import os \n",
    "\n",
    "os.environ['WANDB_NOTEBOOK_NAME'] =\n",
    "%env WANDB_API_KEY = \n",
    "\n",
    "wandb.login()"
   ]
  },
  {
   "cell_type": "code",
   "execution_count": 2,
   "metadata": {},
   "outputs": [
    {
     "name": "stderr",
     "output_type": "stream",
     "text": [
      "INFO:albumentations.check_version:A new version of Albumentations is available: 1.4.18 (you have 1.4.12). Upgrade using: pip install -U albumentations. To disable automatic update checks, set the environment variable NO_ALBUMENTATIONS_UPDATE to 1.\n"
     ]
    }
   ],
   "source": [
    "import time\n",
    "from torch.nn import BCEWithLogitsLoss\n",
    "import torch\n",
    "import albumentations as A\n",
    "from albumentations.pytorch import ToTensorV2\n",
    "import matplotlib.pyplot as plt\n",
    "import gc  \n"
   ]
  },
  {
   "cell_type": "code",
   "execution_count": 3,
   "metadata": {},
   "outputs": [],
   "source": [
    "from utils import (\n",
    "    save_checkpoint,\n",
    "    load_checkpoint,\n",
    "    check_accuracy,\n",
    "    save_test_images,\n",
    "    check_accuracy_val,\n",
    "    check_accuracy_test\n",
    ")\n",
    "\n",
    "from models import UNET\n",
    "from monai.networks.nets import UNet\n",
    "from train import train_epoch\n",
    "from simulated_lung_dataset_gaussian import get_loaders_simulated\n",
    "from simulated_lung_dataset_extra import get_loaders"
   ]
  },
  {
   "cell_type": "code",
   "execution_count": 4,
   "metadata": {},
   "outputs": [],
   "source": [
    "# HYPERPARAMETERS:\n",
    "LEARNING_RATE = 1e-4\n",
    "DEVICE = \"cuda\" if torch.cuda.is_available() else \"cpu\"\n",
    "PIN_MEMORY = False  # True if DEVICE == 'cuda' else False\n",
    "LOGGING = True\n",
    "BATCH_SIZE = 8\n",
    "NUM_EPOCHS = 50\n",
    "NUM_WORKERS = 0\n",
    "IMAGE_SIZE = 256"
   ]
  },
  {
   "cell_type": "markdown",
   "metadata": {},
   "source": [
    "# train"
   ]
  },
  {
   "cell_type": "code",
   "execution_count": 5,
   "metadata": {},
   "outputs": [],
   "source": [
    "def model_train(model_input, save_model_path, LOGGING, DEVICE):    \n",
    "    model = model_input\n",
    "    loss_fn = BCEWithLogitsLoss()\n",
    "    optimizer = torch.optim.Adam(model.parameters(), lr=LEARNING_RATE)\n",
    "    scaler = torch.cuda.amp.GradScaler()\n",
    "\n",
    "    # training\n",
    "    train_loader, test_loader, validation_loader = get_loaders()\n",
    "    for epoch in range(1, NUM_EPOCHS+1):\n",
    "        loss = train_epoch(train_loader, model, optimizer, loss_fn, scaler, DEVICE)\n",
    "        if epoch % 5 == 0:\n",
    "            check_accuracy_val(epoch, validation_loader, model, logging = LOGGING ,device=DEVICE)\n",
    "        del loss\n",
    "        torch.cuda.empty_cache() \n",
    "        \n",
    "    checkpoint = {\n",
    "            \"state_dict\": model.state_dict(),\n",
    "            \"optimizer\": optimizer.state_dict(),\n",
    "            }\n",
    "    check_accuracy_test(epoch, test_loader, model, logging = LOGGING ,device=DEVICE)\n",
    "    save_checkpoint(checkpoint, filename= save_model_path)"
   ]
  },
  {
   "cell_type": "markdown",
   "metadata": {},
   "source": [
    "# main"
   ]
  },
  {
   "cell_type": "code",
   "execution_count": 6,
   "metadata": {},
   "outputs": [],
   "source": [
    "def model_train_log(i, model, FEATURES, IMAGE_SIZE, LOGGING, DEVICE = 'cuda'):\n",
    "    model_save_path = f'/home/alex/Documents/new try/Data/Lung Unet/save_states/Own_Unet_gaussian_test_123.pth.tar' \n",
    "    \n",
    "    #logging\n",
    "    if LOGGING:\n",
    "        run = wandb.init(\n",
    "            project = \"Segmentation normal\",\n",
    "            group = \"normal\",\n",
    "            job_type = 'normal',\n",
    "            name = 'monai_UNet',\n",
    "\n",
    "            # track hyperparameters and run metadata\n",
    "            config={\n",
    "                \"try no.\" : i,\n",
    "                \"features\" : FEATURES,\n",
    "                \"image_size\" : IMAGE_SIZE,\n",
    "                },\n",
    "        )\n",
    "    else:\n",
    "        pass\n",
    " \n",
    "    \n",
    "    model_train(\n",
    "        model,\n",
    "        model_save_path,\n",
    "        LOGGING,\n",
    "        DEVICE)\n",
    "    \n",
    "    if LOGGING:\n",
    "        run.finish()\n",
    "\n",
    "    torch.cuda.empty_cache() \n",
    "   "
   ]
  },
  {
   "cell_type": "code",
   "execution_count": 7,
   "metadata": {},
   "outputs": [
    {
     "data": {
      "text/html": [
       "wandb version 0.18.5 is available!  To upgrade, please run:\n",
       " $ pip install wandb --upgrade"
      ],
      "text/plain": [
       "<IPython.core.display.HTML object>"
      ]
     },
     "metadata": {},
     "output_type": "display_data"
    },
    {
     "data": {
      "text/html": [
       "Tracking run with wandb version 0.17.2"
      ],
      "text/plain": [
       "<IPython.core.display.HTML object>"
      ]
     },
     "metadata": {},
     "output_type": "display_data"
    },
    {
     "data": {
      "text/html": [
       "Run data is saved locally in <code>/home/alex/Documents/new try/Code/Lung Unet/wandb/run-20241020_131117-xjw6r7sa</code>"
      ],
      "text/plain": [
       "<IPython.core.display.HTML object>"
      ]
     },
     "metadata": {},
     "output_type": "display_data"
    },
    {
     "data": {
      "text/html": [
       "Syncing run <strong><a href='https://wandb.ai/ulm-university/Segmentation%20normal%20new/runs/xjw6r7sa' target=\"_blank\">monai_UNet</a></strong> to <a href='https://wandb.ai/ulm-university/Segmentation%20normal%20new' target=\"_blank\">Weights & Biases</a> (<a href='https://wandb.me/run' target=\"_blank\">docs</a>)<br/>"
      ],
      "text/plain": [
       "<IPython.core.display.HTML object>"
      ]
     },
     "metadata": {},
     "output_type": "display_data"
    },
    {
     "data": {
      "text/html": [
       " View project at <a href='https://wandb.ai/ulm-university/Segmentation%20normal%20new' target=\"_blank\">https://wandb.ai/ulm-university/Segmentation%20normal%20new</a>"
      ],
      "text/plain": [
       "<IPython.core.display.HTML object>"
      ]
     },
     "metadata": {},
     "output_type": "display_data"
    },
    {
     "data": {
      "text/html": [
       " View run at <a href='https://wandb.ai/ulm-university/Segmentation%20normal%20new/runs/xjw6r7sa' target=\"_blank\">https://wandb.ai/ulm-university/Segmentation%20normal%20new/runs/xjw6r7sa</a>"
      ],
      "text/plain": [
       "<IPython.core.display.HTML object>"
      ]
     },
     "metadata": {},
     "output_type": "display_data"
    },
    {
     "name": "stderr",
     "output_type": "stream",
     "text": [
      "100%|██████████| 62/62 [00:46<00:00,  1.33it/s, loss=0.639]\n",
      "100%|██████████| 62/62 [00:46<00:00,  1.35it/s, loss=0.589]\n",
      "100%|██████████| 62/62 [00:46<00:00,  1.34it/s, loss=0.548]\n",
      "100%|██████████| 62/62 [00:46<00:00,  1.33it/s, loss=0.523]\n",
      "100%|██████████| 62/62 [00:45<00:00,  1.35it/s, loss=0.498]\n"
     ]
    },
    {
     "name": "stdout",
     "output_type": "stream",
     "text": [
      "Val-Epoch: 5, Acc: 0.87, and Dice score: 0.57, IoU: 0.81, hd: 76.09\n"
     ]
    },
    {
     "name": "stderr",
     "output_type": "stream",
     "text": [
      "100%|██████████| 62/62 [00:46<00:00,  1.34it/s, loss=0.465]\n",
      "100%|██████████| 62/62 [00:44<00:00,  1.39it/s, loss=0.453]\n",
      "100%|██████████| 62/62 [00:44<00:00,  1.41it/s, loss=0.425]\n",
      "100%|██████████| 62/62 [00:44<00:00,  1.40it/s, loss=0.398]\n",
      "100%|██████████| 62/62 [00:44<00:00,  1.39it/s, loss=0.372]\n"
     ]
    },
    {
     "name": "stdout",
     "output_type": "stream",
     "text": [
      "Val-Epoch: 10, Acc: 0.95, and Dice score: 0.85, IoU: 0.83, hd: 25.44\n"
     ]
    },
    {
     "name": "stderr",
     "output_type": "stream",
     "text": [
      "100%|██████████| 62/62 [00:45<00:00,  1.35it/s, loss=0.37] \n",
      "100%|██████████| 62/62 [00:43<00:00,  1.43it/s, loss=0.334]\n",
      "100%|██████████| 62/62 [00:44<00:00,  1.39it/s, loss=0.317]\n",
      "100%|██████████| 62/62 [00:45<00:00,  1.35it/s, loss=0.314]\n",
      "100%|██████████| 62/62 [00:43<00:00,  1.44it/s, loss=0.292]\n"
     ]
    },
    {
     "name": "stdout",
     "output_type": "stream",
     "text": [
      "Val-Epoch: 15, Acc: 0.96, and Dice score: 0.88, IoU: 0.85, hd: 21.20\n"
     ]
    },
    {
     "name": "stderr",
     "output_type": "stream",
     "text": [
      "100%|██████████| 62/62 [00:45<00:00,  1.35it/s, loss=0.275]\n",
      "100%|██████████| 62/62 [00:45<00:00,  1.35it/s, loss=0.275]\n",
      "100%|██████████| 62/62 [00:44<00:00,  1.38it/s, loss=0.268]\n",
      "100%|██████████| 62/62 [00:45<00:00,  1.37it/s, loss=0.255]\n",
      "100%|██████████| 62/62 [00:45<00:00,  1.38it/s, loss=0.235]\n"
     ]
    },
    {
     "name": "stdout",
     "output_type": "stream",
     "text": [
      "Val-Epoch: 20, Acc: 0.97, and Dice score: 0.90, IoU: 0.88, hd: 18.32\n"
     ]
    },
    {
     "name": "stderr",
     "output_type": "stream",
     "text": [
      "100%|██████████| 62/62 [00:45<00:00,  1.37it/s, loss=0.232]\n",
      "100%|██████████| 62/62 [00:45<00:00,  1.38it/s, loss=0.213]\n",
      "100%|██████████| 62/62 [00:46<00:00,  1.35it/s, loss=0.215]\n",
      "100%|██████████| 62/62 [00:45<00:00,  1.36it/s, loss=0.196]\n",
      "100%|██████████| 62/62 [00:45<00:00,  1.35it/s, loss=0.185]\n"
     ]
    },
    {
     "name": "stdout",
     "output_type": "stream",
     "text": [
      "Val-Epoch: 25, Acc: 0.97, and Dice score: 0.91, IoU: 0.89, hd: 17.37\n"
     ]
    },
    {
     "name": "stderr",
     "output_type": "stream",
     "text": [
      "100%|██████████| 62/62 [00:45<00:00,  1.35it/s, loss=0.182]\n",
      "100%|██████████| 62/62 [00:45<00:00,  1.35it/s, loss=0.201]\n",
      "100%|██████████| 62/62 [00:45<00:00,  1.37it/s, loss=0.189]\n",
      "100%|██████████| 62/62 [00:45<00:00,  1.36it/s, loss=0.168]\n",
      "100%|██████████| 62/62 [00:45<00:00,  1.38it/s, loss=0.169]\n"
     ]
    },
    {
     "name": "stdout",
     "output_type": "stream",
     "text": [
      "Val-Epoch: 30, Acc: 0.97, and Dice score: 0.91, IoU: 0.90, hd: 16.95\n"
     ]
    },
    {
     "name": "stderr",
     "output_type": "stream",
     "text": [
      "100%|██████████| 62/62 [00:46<00:00,  1.33it/s, loss=0.15] \n",
      "100%|██████████| 62/62 [00:45<00:00,  1.36it/s, loss=0.14] \n",
      "100%|██████████| 62/62 [00:43<00:00,  1.41it/s, loss=0.142]\n",
      "100%|██████████| 62/62 [00:43<00:00,  1.41it/s, loss=0.14] \n",
      "100%|██████████| 62/62 [00:46<00:00,  1.33it/s, loss=0.14] \n"
     ]
    },
    {
     "name": "stdout",
     "output_type": "stream",
     "text": [
      "Val-Epoch: 35, Acc: 0.97, and Dice score: 0.92, IoU: 0.91, hd: 15.75\n"
     ]
    },
    {
     "name": "stderr",
     "output_type": "stream",
     "text": [
      "100%|██████████| 62/62 [00:44<00:00,  1.40it/s, loss=0.137]\n",
      "100%|██████████| 62/62 [00:45<00:00,  1.37it/s, loss=0.125]\n",
      "100%|██████████| 62/62 [00:44<00:00,  1.39it/s, loss=0.133]\n",
      "100%|██████████| 62/62 [00:43<00:00,  1.43it/s, loss=0.131]\n",
      "100%|██████████| 62/62 [00:43<00:00,  1.42it/s, loss=0.118]\n"
     ]
    },
    {
     "name": "stdout",
     "output_type": "stream",
     "text": [
      "Val-Epoch: 40, Acc: 0.98, and Dice score: 0.93, IoU: 0.92, hd: 14.58\n"
     ]
    },
    {
     "name": "stderr",
     "output_type": "stream",
     "text": [
      "100%|██████████| 62/62 [00:44<00:00,  1.39it/s, loss=0.159]\n",
      "100%|██████████| 62/62 [00:44<00:00,  1.39it/s, loss=0.135]\n",
      "100%|██████████| 62/62 [00:43<00:00,  1.42it/s, loss=0.11] \n",
      "100%|██████████| 62/62 [00:43<00:00,  1.41it/s, loss=0.11] \n",
      "100%|██████████| 62/62 [00:44<00:00,  1.40it/s, loss=0.104] \n"
     ]
    },
    {
     "name": "stdout",
     "output_type": "stream",
     "text": [
      "Val-Epoch: 45, Acc: 0.98, and Dice score: 0.93, IoU: 0.92, hd: 13.73\n"
     ]
    },
    {
     "name": "stderr",
     "output_type": "stream",
     "text": [
      "100%|██████████| 62/62 [00:45<00:00,  1.36it/s, loss=0.0965]\n",
      "100%|██████████| 62/62 [00:43<00:00,  1.42it/s, loss=0.0925]\n",
      "100%|██████████| 62/62 [00:44<00:00,  1.39it/s, loss=0.104] \n",
      "100%|██████████| 62/62 [00:43<00:00,  1.42it/s, loss=0.101] \n",
      "100%|██████████| 62/62 [00:44<00:00,  1.40it/s, loss=0.118] \n"
     ]
    },
    {
     "name": "stdout",
     "output_type": "stream",
     "text": [
      "Val-Epoch: 50, Acc: 0.98, and Dice score: 0.93, IoU: 0.93, hd: 12.90\n",
      "Epoch: 50, Acc: 0.97, and Dice score: 0.93, IoU: 0.93, hd: 13.54\n",
      "=> Saving checkpoint\n"
     ]
    },
    {
     "data": {
      "text/html": [
       "<style>\n",
       "    table.wandb td:nth-child(1) { padding: 0 10px; text-align: left ; width: auto;} td:nth-child(2) {text-align: left ; width: 100%}\n",
       "    .wandb-row { display: flex; flex-direction: row; flex-wrap: wrap; justify-content: flex-start; width: 100% }\n",
       "    .wandb-col { display: flex; flex-direction: column; flex-basis: 100%; flex: 1; padding: 10px; }\n",
       "    </style>\n",
       "<div class=\"wandb-row\"><div class=\"wandb-col\"><h3>Run history:</h3><br/><table class=\"wandb\"><tr><td>epoch</td><td>▁</td></tr><tr><td>test_acc</td><td>▁</td></tr><tr><td>test_box_iou</td><td>▁</td></tr><tr><td>test_dice</td><td>▁</td></tr><tr><td>test_hd</td><td>▁</td></tr><tr><td>test_loss</td><td>▁</td></tr></table><br/></div><div class=\"wandb-col\"><h3>Run summary:</h3><br/><table class=\"wandb\"><tr><td>epoch</td><td>50</td></tr><tr><td>test_acc</td><td>0.97474</td></tr><tr><td>test_box_iou</td><td>0.92908</td></tr><tr><td>test_dice</td><td>0.93056</td></tr><tr><td>test_hd</td><td>13.54497</td></tr><tr><td>test_loss</td><td>8.99351</td></tr></table><br/></div></div>"
      ],
      "text/plain": [
       "<IPython.core.display.HTML object>"
      ]
     },
     "metadata": {},
     "output_type": "display_data"
    },
    {
     "data": {
      "text/html": [
       " View run <strong style=\"color:#cdcd00\">monai_UNet</strong> at: <a href='https://wandb.ai/ulm-university/Segmentation%20normal%20new/runs/xjw6r7sa' target=\"_blank\">https://wandb.ai/ulm-university/Segmentation%20normal%20new/runs/xjw6r7sa</a><br/> View project at: <a href='https://wandb.ai/ulm-university/Segmentation%20normal%20new' target=\"_blank\">https://wandb.ai/ulm-university/Segmentation%20normal%20new</a><br/>Synced 5 W&B file(s), 0 media file(s), 0 artifact file(s) and 0 other file(s)"
      ],
      "text/plain": [
       "<IPython.core.display.HTML object>"
      ]
     },
     "metadata": {},
     "output_type": "display_data"
    },
    {
     "data": {
      "text/html": [
       "Find logs at: <code>./wandb/run-20241020_131117-xjw6r7sa/logs</code>"
      ],
      "text/plain": [
       "<IPython.core.display.HTML object>"
      ]
     },
     "metadata": {},
     "output_type": "display_data"
    },
    {
     "data": {
      "text/html": [
       "The new W&B backend becomes opt-out in version 0.18.0; try it out with `wandb.require(\"core\")`! See https://wandb.me/wandb-core for more information."
      ],
      "text/plain": [
       "<IPython.core.display.HTML object>"
      ]
     },
     "metadata": {},
     "output_type": "display_data"
    },
    {
     "data": {
      "text/html": [
       "wandb version 0.18.5 is available!  To upgrade, please run:\n",
       " $ pip install wandb --upgrade"
      ],
      "text/plain": [
       "<IPython.core.display.HTML object>"
      ]
     },
     "metadata": {},
     "output_type": "display_data"
    },
    {
     "data": {
      "text/html": [
       "Tracking run with wandb version 0.17.2"
      ],
      "text/plain": [
       "<IPython.core.display.HTML object>"
      ]
     },
     "metadata": {},
     "output_type": "display_data"
    },
    {
     "data": {
      "text/html": [
       "Run data is saved locally in <code>/home/alex/Documents/new try/Code/Lung Unet/wandb/run-20241020_135039-8fcmbklt</code>"
      ],
      "text/plain": [
       "<IPython.core.display.HTML object>"
      ]
     },
     "metadata": {},
     "output_type": "display_data"
    },
    {
     "data": {
      "text/html": [
       "Syncing run <strong><a href='https://wandb.ai/ulm-university/Segmentation%20normal%20new/runs/8fcmbklt' target=\"_blank\">monai_UNet</a></strong> to <a href='https://wandb.ai/ulm-university/Segmentation%20normal%20new' target=\"_blank\">Weights & Biases</a> (<a href='https://wandb.me/run' target=\"_blank\">docs</a>)<br/>"
      ],
      "text/plain": [
       "<IPython.core.display.HTML object>"
      ]
     },
     "metadata": {},
     "output_type": "display_data"
    },
    {
     "data": {
      "text/html": [
       " View project at <a href='https://wandb.ai/ulm-university/Segmentation%20normal%20new' target=\"_blank\">https://wandb.ai/ulm-university/Segmentation%20normal%20new</a>"
      ],
      "text/plain": [
       "<IPython.core.display.HTML object>"
      ]
     },
     "metadata": {},
     "output_type": "display_data"
    },
    {
     "data": {
      "text/html": [
       " View run at <a href='https://wandb.ai/ulm-university/Segmentation%20normal%20new/runs/8fcmbklt' target=\"_blank\">https://wandb.ai/ulm-university/Segmentation%20normal%20new/runs/8fcmbklt</a>"
      ],
      "text/plain": [
       "<IPython.core.display.HTML object>"
      ]
     },
     "metadata": {},
     "output_type": "display_data"
    },
    {
     "name": "stderr",
     "output_type": "stream",
     "text": [
      "100%|██████████| 62/62 [00:44<00:00,  1.41it/s, loss=0.618]\n",
      "100%|██████████| 62/62 [00:45<00:00,  1.35it/s, loss=0.552]\n",
      "100%|██████████| 62/62 [00:46<00:00,  1.34it/s, loss=0.484]\n",
      "100%|██████████| 62/62 [00:45<00:00,  1.36it/s, loss=0.455]\n",
      "100%|██████████| 62/62 [00:45<00:00,  1.36it/s, loss=0.415]\n"
     ]
    },
    {
     "name": "stdout",
     "output_type": "stream",
     "text": [
      "Val-Epoch: 5, Acc: 0.93, and Dice score: 0.78, IoU: 0.79, hd: 40.59\n"
     ]
    },
    {
     "name": "stderr",
     "output_type": "stream",
     "text": [
      "100%|██████████| 62/62 [00:45<00:00,  1.37it/s, loss=0.398]\n",
      "100%|██████████| 62/62 [00:44<00:00,  1.39it/s, loss=0.376]\n",
      "100%|██████████| 62/62 [00:44<00:00,  1.38it/s, loss=0.343]\n",
      "100%|██████████| 62/62 [00:45<00:00,  1.37it/s, loss=0.339]\n",
      "100%|██████████| 62/62 [00:45<00:00,  1.37it/s, loss=0.313]\n"
     ]
    },
    {
     "name": "stdout",
     "output_type": "stream",
     "text": [
      "Val-Epoch: 10, Acc: 0.96, and Dice score: 0.86, IoU: 0.83, hd: 48.63\n"
     ]
    },
    {
     "name": "stderr",
     "output_type": "stream",
     "text": [
      "100%|██████████| 62/62 [00:45<00:00,  1.37it/s, loss=0.297]\n",
      "100%|██████████| 62/62 [00:44<00:00,  1.39it/s, loss=0.285]\n",
      "100%|██████████| 62/62 [00:45<00:00,  1.35it/s, loss=0.271]\n",
      "100%|██████████| 62/62 [00:43<00:00,  1.42it/s, loss=0.258]\n",
      "100%|██████████| 62/62 [00:44<00:00,  1.40it/s, loss=0.267]\n"
     ]
    },
    {
     "name": "stdout",
     "output_type": "stream",
     "text": [
      "Val-Epoch: 15, Acc: 0.97, and Dice score: 0.89, IoU: 0.87, hd: 21.76\n"
     ]
    },
    {
     "name": "stderr",
     "output_type": "stream",
     "text": [
      "100%|██████████| 62/62 [00:43<00:00,  1.41it/s, loss=0.246]\n",
      "100%|██████████| 62/62 [00:44<00:00,  1.41it/s, loss=0.224]\n",
      "100%|██████████| 62/62 [00:44<00:00,  1.39it/s, loss=0.227]\n",
      "100%|██████████| 62/62 [00:43<00:00,  1.41it/s, loss=0.222]\n",
      "100%|██████████| 62/62 [00:44<00:00,  1.38it/s, loss=0.188]\n"
     ]
    },
    {
     "name": "stdout",
     "output_type": "stream",
     "text": [
      "Val-Epoch: 20, Acc: 0.97, and Dice score: 0.90, IoU: 0.88, hd: 20.31\n"
     ]
    },
    {
     "name": "stderr",
     "output_type": "stream",
     "text": [
      "100%|██████████| 62/62 [00:43<00:00,  1.41it/s, loss=0.202]\n",
      "100%|██████████| 62/62 [00:43<00:00,  1.42it/s, loss=0.186]\n",
      "100%|██████████| 62/62 [00:45<00:00,  1.37it/s, loss=0.198]\n",
      "100%|██████████| 62/62 [00:44<00:00,  1.39it/s, loss=0.172]\n",
      "100%|██████████| 62/62 [00:44<00:00,  1.39it/s, loss=0.166]\n"
     ]
    },
    {
     "name": "stdout",
     "output_type": "stream",
     "text": [
      "Val-Epoch: 25, Acc: 0.97, and Dice score: 0.91, IoU: 0.90, hd: 18.58\n"
     ]
    },
    {
     "name": "stderr",
     "output_type": "stream",
     "text": [
      "100%|██████████| 62/62 [00:45<00:00,  1.37it/s, loss=0.163]\n",
      "100%|██████████| 62/62 [00:43<00:00,  1.43it/s, loss=0.159]\n",
      "100%|██████████| 62/62 [00:43<00:00,  1.42it/s, loss=0.17] \n",
      "100%|██████████| 62/62 [00:44<00:00,  1.41it/s, loss=0.139]\n",
      "100%|██████████| 62/62 [00:44<00:00,  1.41it/s, loss=0.14] \n"
     ]
    },
    {
     "name": "stdout",
     "output_type": "stream",
     "text": [
      "Val-Epoch: 30, Acc: 0.98, and Dice score: 0.92, IoU: 0.92, hd: 15.75\n"
     ]
    },
    {
     "name": "stderr",
     "output_type": "stream",
     "text": [
      "100%|██████████| 62/62 [00:44<00:00,  1.38it/s, loss=0.148]\n",
      "100%|██████████| 62/62 [00:45<00:00,  1.36it/s, loss=0.141]\n",
      "100%|██████████| 62/62 [00:45<00:00,  1.37it/s, loss=0.127]\n",
      "100%|██████████| 62/62 [00:44<00:00,  1.40it/s, loss=0.129]\n",
      "100%|██████████| 62/62 [00:44<00:00,  1.40it/s, loss=0.127]\n"
     ]
    },
    {
     "name": "stdout",
     "output_type": "stream",
     "text": [
      "Val-Epoch: 35, Acc: 0.98, and Dice score: 0.92, IoU: 0.92, hd: 16.03\n"
     ]
    },
    {
     "name": "stderr",
     "output_type": "stream",
     "text": [
      "100%|██████████| 62/62 [00:44<00:00,  1.39it/s, loss=0.122]\n",
      "100%|██████████| 62/62 [00:45<00:00,  1.36it/s, loss=0.112]\n",
      "100%|██████████| 62/62 [00:43<00:00,  1.41it/s, loss=0.122]\n",
      "100%|██████████| 62/62 [00:45<00:00,  1.37it/s, loss=0.103]\n",
      "100%|██████████| 62/62 [00:43<00:00,  1.42it/s, loss=0.108] \n"
     ]
    },
    {
     "name": "stdout",
     "output_type": "stream",
     "text": [
      "Val-Epoch: 40, Acc: 0.98, and Dice score: 0.93, IoU: 0.92, hd: 13.80\n"
     ]
    },
    {
     "name": "stderr",
     "output_type": "stream",
     "text": [
      "100%|██████████| 62/62 [00:43<00:00,  1.43it/s, loss=0.11]  \n",
      "100%|██████████| 62/62 [00:43<00:00,  1.43it/s, loss=0.094] \n",
      "100%|██████████| 62/62 [00:44<00:00,  1.41it/s, loss=0.0939]\n",
      "100%|██████████| 62/62 [00:43<00:00,  1.42it/s, loss=0.119] \n",
      "100%|██████████| 62/62 [00:43<00:00,  1.42it/s, loss=0.111] \n"
     ]
    },
    {
     "name": "stdout",
     "output_type": "stream",
     "text": [
      "Val-Epoch: 45, Acc: 0.98, and Dice score: 0.93, IoU: 0.92, hd: 14.64\n"
     ]
    },
    {
     "name": "stderr",
     "output_type": "stream",
     "text": [
      "100%|██████████| 62/62 [00:44<00:00,  1.40it/s, loss=0.118] \n",
      "100%|██████████| 62/62 [00:44<00:00,  1.39it/s, loss=0.0825]\n",
      "100%|██████████| 62/62 [00:46<00:00,  1.33it/s, loss=0.0809]\n",
      "100%|██████████| 62/62 [00:44<00:00,  1.40it/s, loss=0.0842]\n",
      "100%|██████████| 62/62 [00:45<00:00,  1.37it/s, loss=0.102] \n"
     ]
    },
    {
     "name": "stdout",
     "output_type": "stream",
     "text": [
      "Val-Epoch: 50, Acc: 0.98, and Dice score: 0.94, IoU: 0.94, hd: 14.02\n",
      "Epoch: 50, Acc: 0.98, and Dice score: 0.93, IoU: 0.94, hd: 14.01\n",
      "=> Saving checkpoint\n"
     ]
    },
    {
     "data": {
      "text/html": [
       "<style>\n",
       "    table.wandb td:nth-child(1) { padding: 0 10px; text-align: left ; width: auto;} td:nth-child(2) {text-align: left ; width: 100%}\n",
       "    .wandb-row { display: flex; flex-direction: row; flex-wrap: wrap; justify-content: flex-start; width: 100% }\n",
       "    .wandb-col { display: flex; flex-direction: column; flex-basis: 100%; flex: 1; padding: 10px; }\n",
       "    </style>\n",
       "<div class=\"wandb-row\"><div class=\"wandb-col\"><h3>Run history:</h3><br/><table class=\"wandb\"><tr><td>epoch</td><td>▁</td></tr><tr><td>test_acc</td><td>▁</td></tr><tr><td>test_box_iou</td><td>▁</td></tr><tr><td>test_dice</td><td>▁</td></tr><tr><td>test_hd</td><td>▁</td></tr><tr><td>test_loss</td><td>▁</td></tr></table><br/></div><div class=\"wandb-col\"><h3>Run summary:</h3><br/><table class=\"wandb\"><tr><td>epoch</td><td>50</td></tr><tr><td>test_acc</td><td>0.97535</td></tr><tr><td>test_box_iou</td><td>0.93842</td></tr><tr><td>test_dice</td><td>0.93248</td></tr><tr><td>test_hd</td><td>14.00759</td></tr><tr><td>test_loss</td><td>9.00191</td></tr></table><br/></div></div>"
      ],
      "text/plain": [
       "<IPython.core.display.HTML object>"
      ]
     },
     "metadata": {},
     "output_type": "display_data"
    },
    {
     "data": {
      "text/html": [
       " View run <strong style=\"color:#cdcd00\">monai_UNet</strong> at: <a href='https://wandb.ai/ulm-university/Segmentation%20normal%20new/runs/8fcmbklt' target=\"_blank\">https://wandb.ai/ulm-university/Segmentation%20normal%20new/runs/8fcmbklt</a><br/> View project at: <a href='https://wandb.ai/ulm-university/Segmentation%20normal%20new' target=\"_blank\">https://wandb.ai/ulm-university/Segmentation%20normal%20new</a><br/>Synced 5 W&B file(s), 0 media file(s), 0 artifact file(s) and 0 other file(s)"
      ],
      "text/plain": [
       "<IPython.core.display.HTML object>"
      ]
     },
     "metadata": {},
     "output_type": "display_data"
    },
    {
     "data": {
      "text/html": [
       "Find logs at: <code>./wandb/run-20241020_135039-8fcmbklt/logs</code>"
      ],
      "text/plain": [
       "<IPython.core.display.HTML object>"
      ]
     },
     "metadata": {},
     "output_type": "display_data"
    },
    {
     "data": {
      "text/html": [
       "The new W&B backend becomes opt-out in version 0.18.0; try it out with `wandb.require(\"core\")`! See https://wandb.me/wandb-core for more information."
      ],
      "text/plain": [
       "<IPython.core.display.HTML object>"
      ]
     },
     "metadata": {},
     "output_type": "display_data"
    },
    {
     "data": {
      "text/html": [
       "wandb version 0.18.5 is available!  To upgrade, please run:\n",
       " $ pip install wandb --upgrade"
      ],
      "text/plain": [
       "<IPython.core.display.HTML object>"
      ]
     },
     "metadata": {},
     "output_type": "display_data"
    },
    {
     "data": {
      "text/html": [
       "Tracking run with wandb version 0.17.2"
      ],
      "text/plain": [
       "<IPython.core.display.HTML object>"
      ]
     },
     "metadata": {},
     "output_type": "display_data"
    },
    {
     "data": {
      "text/html": [
       "Run data is saved locally in <code>/home/alex/Documents/new try/Code/Lung Unet/wandb/run-20241020_142930-o6zmqagu</code>"
      ],
      "text/plain": [
       "<IPython.core.display.HTML object>"
      ]
     },
     "metadata": {},
     "output_type": "display_data"
    },
    {
     "data": {
      "text/html": [
       "Syncing run <strong><a href='https://wandb.ai/ulm-university/Segmentation%20normal%20new/runs/o6zmqagu' target=\"_blank\">monai_UNet</a></strong> to <a href='https://wandb.ai/ulm-university/Segmentation%20normal%20new' target=\"_blank\">Weights & Biases</a> (<a href='https://wandb.me/run' target=\"_blank\">docs</a>)<br/>"
      ],
      "text/plain": [
       "<IPython.core.display.HTML object>"
      ]
     },
     "metadata": {},
     "output_type": "display_data"
    },
    {
     "data": {
      "text/html": [
       " View project at <a href='https://wandb.ai/ulm-university/Segmentation%20normal%20new' target=\"_blank\">https://wandb.ai/ulm-university/Segmentation%20normal%20new</a>"
      ],
      "text/plain": [
       "<IPython.core.display.HTML object>"
      ]
     },
     "metadata": {},
     "output_type": "display_data"
    },
    {
     "data": {
      "text/html": [
       " View run at <a href='https://wandb.ai/ulm-university/Segmentation%20normal%20new/runs/o6zmqagu' target=\"_blank\">https://wandb.ai/ulm-university/Segmentation%20normal%20new/runs/o6zmqagu</a>"
      ],
      "text/plain": [
       "<IPython.core.display.HTML object>"
      ]
     },
     "metadata": {},
     "output_type": "display_data"
    },
    {
     "name": "stderr",
     "output_type": "stream",
     "text": [
      "100%|██████████| 62/62 [00:43<00:00,  1.43it/s, loss=0.74] \n",
      "100%|██████████| 62/62 [00:45<00:00,  1.37it/s, loss=0.661]\n",
      "100%|██████████| 62/62 [00:44<00:00,  1.40it/s, loss=0.588]\n",
      "100%|██████████| 62/62 [00:43<00:00,  1.42it/s, loss=0.554]\n",
      "100%|██████████| 62/62 [00:44<00:00,  1.39it/s, loss=0.526]\n"
     ]
    },
    {
     "name": "stdout",
     "output_type": "stream",
     "text": [
      "Val-Epoch: 5, Acc: 0.72, and Dice score: 0.47, IoU: 0.31, hd: 88.99\n"
     ]
    },
    {
     "name": "stderr",
     "output_type": "stream",
     "text": [
      "100%|██████████| 62/62 [00:44<00:00,  1.40it/s, loss=0.52] \n",
      "100%|██████████| 62/62 [00:43<00:00,  1.42it/s, loss=0.459]\n",
      "100%|██████████| 62/62 [00:43<00:00,  1.42it/s, loss=0.445]\n",
      "100%|██████████| 62/62 [00:44<00:00,  1.41it/s, loss=0.443]\n",
      "100%|██████████| 62/62 [00:43<00:00,  1.41it/s, loss=0.433]\n"
     ]
    },
    {
     "name": "stdout",
     "output_type": "stream",
     "text": [
      "Val-Epoch: 10, Acc: 0.90, and Dice score: 0.72, IoU: 0.80, hd: 91.68\n"
     ]
    },
    {
     "name": "stderr",
     "output_type": "stream",
     "text": [
      "100%|██████████| 62/62 [00:45<00:00,  1.36it/s, loss=0.392]\n",
      "100%|██████████| 62/62 [00:43<00:00,  1.42it/s, loss=0.379]\n",
      "100%|██████████| 62/62 [00:44<00:00,  1.39it/s, loss=0.355]\n",
      "100%|██████████| 62/62 [00:44<00:00,  1.41it/s, loss=0.334]\n",
      "100%|██████████| 62/62 [00:44<00:00,  1.40it/s, loss=0.334]\n"
     ]
    },
    {
     "name": "stdout",
     "output_type": "stream",
     "text": [
      "Val-Epoch: 15, Acc: 0.95, and Dice score: 0.84, IoU: 0.86, hd: 74.81\n"
     ]
    },
    {
     "name": "stderr",
     "output_type": "stream",
     "text": [
      "100%|██████████| 62/62 [00:45<00:00,  1.37it/s, loss=0.319]\n",
      "100%|██████████| 62/62 [00:44<00:00,  1.39it/s, loss=0.271]\n",
      "100%|██████████| 62/62 [00:44<00:00,  1.39it/s, loss=0.28] \n",
      "100%|██████████| 62/62 [00:43<00:00,  1.42it/s, loss=0.296]\n",
      "100%|██████████| 62/62 [00:44<00:00,  1.40it/s, loss=0.28] \n"
     ]
    },
    {
     "name": "stdout",
     "output_type": "stream",
     "text": [
      "Val-Epoch: 20, Acc: 0.97, and Dice score: 0.89, IoU: 0.88, hd: 22.31\n"
     ]
    },
    {
     "name": "stderr",
     "output_type": "stream",
     "text": [
      "100%|██████████| 62/62 [00:43<00:00,  1.41it/s, loss=0.238]\n",
      "100%|██████████| 62/62 [00:44<00:00,  1.39it/s, loss=0.223]\n",
      "100%|██████████| 62/62 [00:45<00:00,  1.35it/s, loss=0.215]\n",
      "100%|██████████| 62/62 [00:44<00:00,  1.39it/s, loss=0.214]\n",
      "100%|██████████| 62/62 [00:44<00:00,  1.39it/s, loss=0.213]\n"
     ]
    },
    {
     "name": "stdout",
     "output_type": "stream",
     "text": [
      "Val-Epoch: 25, Acc: 0.97, and Dice score: 0.90, IoU: 0.90, hd: 19.57\n"
     ]
    },
    {
     "name": "stderr",
     "output_type": "stream",
     "text": [
      "100%|██████████| 62/62 [00:44<00:00,  1.40it/s, loss=0.191]\n",
      "100%|██████████| 62/62 [00:44<00:00,  1.40it/s, loss=0.189]\n",
      "100%|██████████| 62/62 [00:44<00:00,  1.40it/s, loss=0.18] \n",
      "100%|██████████| 62/62 [00:44<00:00,  1.39it/s, loss=0.182]\n",
      "100%|██████████| 62/62 [00:45<00:00,  1.37it/s, loss=0.18] \n"
     ]
    },
    {
     "name": "stdout",
     "output_type": "stream",
     "text": [
      "Val-Epoch: 30, Acc: 0.97, and Dice score: 0.91, IoU: 0.91, hd: 17.91\n"
     ]
    },
    {
     "name": "stderr",
     "output_type": "stream",
     "text": [
      "100%|██████████| 62/62 [00:44<00:00,  1.39it/s, loss=0.162]\n",
      "100%|██████████| 62/62 [00:44<00:00,  1.39it/s, loss=0.163]\n",
      "100%|██████████| 62/62 [00:44<00:00,  1.39it/s, loss=0.145]\n",
      "100%|██████████| 62/62 [00:44<00:00,  1.39it/s, loss=0.147]\n",
      "100%|██████████| 62/62 [00:43<00:00,  1.43it/s, loss=0.134]\n"
     ]
    },
    {
     "name": "stdout",
     "output_type": "stream",
     "text": [
      "Val-Epoch: 35, Acc: 0.98, and Dice score: 0.93, IoU: 0.92, hd: 16.28\n"
     ]
    },
    {
     "name": "stderr",
     "output_type": "stream",
     "text": [
      "100%|██████████| 62/62 [00:44<00:00,  1.40it/s, loss=0.138]\n",
      "100%|██████████| 62/62 [00:43<00:00,  1.43it/s, loss=0.151]\n",
      "100%|██████████| 62/62 [00:44<00:00,  1.38it/s, loss=0.125]\n",
      "100%|██████████| 62/62 [00:44<00:00,  1.39it/s, loss=0.146]\n",
      "100%|██████████| 62/62 [00:45<00:00,  1.38it/s, loss=0.135]\n"
     ]
    },
    {
     "name": "stdout",
     "output_type": "stream",
     "text": [
      "Val-Epoch: 40, Acc: 0.98, and Dice score: 0.93, IoU: 0.93, hd: 15.77\n"
     ]
    },
    {
     "name": "stderr",
     "output_type": "stream",
     "text": [
      "100%|██████████| 62/62 [00:43<00:00,  1.41it/s, loss=0.111]\n",
      "100%|██████████| 62/62 [00:43<00:00,  1.43it/s, loss=0.132]\n",
      "100%|██████████| 62/62 [00:43<00:00,  1.41it/s, loss=0.119]\n",
      "100%|██████████| 62/62 [00:44<00:00,  1.39it/s, loss=0.128]\n",
      "100%|██████████| 62/62 [00:44<00:00,  1.39it/s, loss=0.12]  \n"
     ]
    },
    {
     "name": "stdout",
     "output_type": "stream",
     "text": [
      "Val-Epoch: 45, Acc: 0.98, and Dice score: 0.93, IoU: 0.93, hd: 14.89\n"
     ]
    },
    {
     "name": "stderr",
     "output_type": "stream",
     "text": [
      "100%|██████████| 62/62 [00:45<00:00,  1.38it/s, loss=0.106] \n",
      "100%|██████████| 62/62 [00:45<00:00,  1.36it/s, loss=0.0931]\n",
      "100%|██████████| 62/62 [00:43<00:00,  1.41it/s, loss=0.122] \n",
      "100%|██████████| 62/62 [00:44<00:00,  1.40it/s, loss=0.093] \n",
      "100%|██████████| 62/62 [00:45<00:00,  1.37it/s, loss=0.0833]\n"
     ]
    },
    {
     "name": "stdout",
     "output_type": "stream",
     "text": [
      "Val-Epoch: 50, Acc: 0.98, and Dice score: 0.93, IoU: 0.93, hd: 13.53\n",
      "Epoch: 50, Acc: 0.97, and Dice score: 0.93, IoU: 0.93, hd: 13.45\n",
      "=> Saving checkpoint\n"
     ]
    },
    {
     "data": {
      "text/html": [
       "<style>\n",
       "    table.wandb td:nth-child(1) { padding: 0 10px; text-align: left ; width: auto;} td:nth-child(2) {text-align: left ; width: 100%}\n",
       "    .wandb-row { display: flex; flex-direction: row; flex-wrap: wrap; justify-content: flex-start; width: 100% }\n",
       "    .wandb-col { display: flex; flex-direction: column; flex-basis: 100%; flex: 1; padding: 10px; }\n",
       "    </style>\n",
       "<div class=\"wandb-row\"><div class=\"wandb-col\"><h3>Run history:</h3><br/><table class=\"wandb\"><tr><td>epoch</td><td>▁</td></tr><tr><td>test_acc</td><td>▁</td></tr><tr><td>test_box_iou</td><td>▁</td></tr><tr><td>test_dice</td><td>▁</td></tr><tr><td>test_hd</td><td>▁</td></tr><tr><td>test_loss</td><td>▁</td></tr></table><br/></div><div class=\"wandb-col\"><h3>Run summary:</h3><br/><table class=\"wandb\"><tr><td>epoch</td><td>50</td></tr><tr><td>test_acc</td><td>0.97462</td></tr><tr><td>test_box_iou</td><td>0.92765</td></tr><tr><td>test_dice</td><td>0.92907</td></tr><tr><td>test_hd</td><td>13.44573</td></tr><tr><td>test_loss</td><td>8.9861</td></tr></table><br/></div></div>"
      ],
      "text/plain": [
       "<IPython.core.display.HTML object>"
      ]
     },
     "metadata": {},
     "output_type": "display_data"
    },
    {
     "data": {
      "text/html": [
       " View run <strong style=\"color:#cdcd00\">monai_UNet</strong> at: <a href='https://wandb.ai/ulm-university/Segmentation%20normal%20new/runs/o6zmqagu' target=\"_blank\">https://wandb.ai/ulm-university/Segmentation%20normal%20new/runs/o6zmqagu</a><br/> View project at: <a href='https://wandb.ai/ulm-university/Segmentation%20normal%20new' target=\"_blank\">https://wandb.ai/ulm-university/Segmentation%20normal%20new</a><br/>Synced 5 W&B file(s), 0 media file(s), 0 artifact file(s) and 0 other file(s)"
      ],
      "text/plain": [
       "<IPython.core.display.HTML object>"
      ]
     },
     "metadata": {},
     "output_type": "display_data"
    },
    {
     "data": {
      "text/html": [
       "Find logs at: <code>./wandb/run-20241020_142930-o6zmqagu/logs</code>"
      ],
      "text/plain": [
       "<IPython.core.display.HTML object>"
      ]
     },
     "metadata": {},
     "output_type": "display_data"
    },
    {
     "data": {
      "text/html": [
       "The new W&B backend becomes opt-out in version 0.18.0; try it out with `wandb.require(\"core\")`! See https://wandb.me/wandb-core for more information."
      ],
      "text/plain": [
       "<IPython.core.display.HTML object>"
      ]
     },
     "metadata": {},
     "output_type": "display_data"
    },
    {
     "ename": "",
     "evalue": "",
     "output_type": "error",
     "traceback": [
      "\u001b[1;31mThe Kernel crashed while executing code in the current cell or a previous cell. \n",
      "\u001b[1;31mPlease review the code in the cell(s) to identify a possible cause of the failure. \n",
      "\u001b[1;31mClick <a href='https://aka.ms/vscodeJupyterKernelCrash'>here</a> for more info. \n",
      "\u001b[1;31mView Jupyter <a href='command:jupyter.viewOutput'>log</a> for further details."
     ]
    }
   ],
   "source": [
    "def run_tests():\n",
    "    for i in range(3):\n",
    "        for IMAGE_SIZE in [256]:\n",
    "            for FEATURES in [(8,16, 32, 64)]:        \n",
    "                LOGGING = True\n",
    "                #wn_unet = UNET(in_channels=1,out_channels=1, features= FEATURES).to(DEVICE)\n",
    "                monai_UNet = UNet(spatial_dims=2, in_channels=1, out_channels=1, channels=FEATURES, strides=(2, 2, 2), bias = False, num_res_units = 0).to(device=DEVICE)\n",
    "                #load_checkpoint(Own_unet, r'/home/alex/Documents/new try/Data/Lung Unet/save_states/Own_unet_padding_1.pth.tar')\n",
    "                model_train_log(i, monai_UNet, FEATURES, IMAGE_SIZE, LOGGING, DEVICE)\n",
    "                \n",
    "\n",
    "if __name__ == \"__main__\":\n",
    "    run_tests()"
   ]
  },
  {
   "cell_type": "code",
   "execution_count": null,
   "metadata": {},
   "outputs": [],
   "source": [
    "from utils import plot_image_mask_box_pred_box\n",
    "train_loader, test_loader, validation_loader = get_loaders()\n",
    "monai_UNet = UNet(spatial_dims=2, in_channels=1, out_channels=1, channels=(4, 8, 16, 32), strides=(2, 2, 2), bias = False, num_res_units = 0).to(device=DEVICE)\n",
    "load_checkpoint(monai_UNet,r'/home/alex/Documents/new try/Data/Lung Unet/save_states/Monai_Unet_final_1.pth.tar')\n",
    "\n",
    "for image, target in test_loader:\n",
    "    plot_image_mask_box_pred_box(monai_UNet, image, target)"
   ]
  }
 ],
 "metadata": {
  "kernelspec": {
   "display_name": "Python 3",
   "language": "python",
   "name": "python3"
  },
  "language_info": {
   "codemirror_mode": {
    "name": "ipython",
    "version": 3
   },
   "file_extension": ".py",
   "mimetype": "text/x-python",
   "name": "python",
   "nbconvert_exporter": "python",
   "pygments_lexer": "ipython3",
   "version": "3.10.12"
  }
 },
 "nbformat": 4,
 "nbformat_minor": 2
}
