{
 "cells": [
  {
   "cell_type": "code",
   "execution_count": 76,
   "metadata": {},
   "outputs": [
    {
     "name": "stdout",
     "output_type": "stream",
     "text": [
      "env: WANDB_API_KEY=32ba2dfcae28d5229d9da5ea919130a28f8ab52c\n"
     ]
    },
    {
     "data": {
      "text/plain": [
       "True"
      ]
     },
     "execution_count": 76,
     "metadata": {},
     "output_type": "execute_result"
    }
   ],
   "source": [
    "import wandb\n",
    "import os \n",
    "\n",
    "os.environ['WANDB_NOTEBOOK_NAME'] = \n",
    "%env WANDB_API_KEY = \n",
    "\n",
    "wandb.login()"
   ]
  },
  {
   "cell_type": "code",
   "execution_count": 77,
   "metadata": {},
   "outputs": [],
   "source": [
    "import torch\n",
    "import matplotlib.pyplot as plt\n"
   ]
  },
  {
   "cell_type": "code",
   "execution_count": 78,
   "metadata": {},
   "outputs": [],
   "source": [
    "from utils import (\n",
    "    save_checkpoint,\n",
    "    load_checkpoint,\n",
    "    check_accuracy,\n",
    "    save_test_images,\n",
    "    get_loaders,\n",
    "    plot_image_mask_pred,\n",
    "    plot_image_mask_box_pred_box_tolerance,\n",
    "    get_largest_segments_bounding_box, \n",
    "    plot_image_mask_box_pred_box\n",
    ")\n",
    "\n",
    "from models import UNET\n",
    "from monai.networks.nets import UNet\n",
    "\n",
    "DEVICE = \"cuda\" if torch.cuda.is_available() else \"cpu\""
   ]
  },
  {
   "cell_type": "code",
   "execution_count": 79,
   "metadata": {},
   "outputs": [],
   "source": [
    "import matplotlib.patches as patches\n",
    "from copy import copy\n",
    "\n",
    "def calculate_cropped_area_with_tolerance(model, test_image, test_mask, tolerance, device=\"cuda\"):\n",
    "    x = test_image.to(device)\n",
    "    preds = model(x)\n",
    "    preds = torch.sigmoid(preds)\n",
    "    preds = (preds > 0.5).float()\n",
    "    gt_box = get_largest_segments_bounding_box(test_mask)[0]\n",
    "    pred_box = get_largest_segments_bounding_box(preds.cpu())[0]\n",
    "\n",
    "    # Coordinates for the predicted box and ground truth box\n",
    "    x1_pred, y1_pred, x2_pred, y2_pred = pred_box\n",
    "\n",
    "    # Add tolerance\n",
    "    x1_pred, y1_pred, x2_pred, y2_pred = x1_pred - tolerance, y1_pred - tolerance, x2_pred + tolerance, y2_pred + tolerance\n",
    "\n",
    "    # Calculate area of predicted box and ground truth box\n",
    "    pred_area = (x2_pred - x1_pred) * (y2_pred - y1_pred)\n",
    "\n",
    "    total_area = 195*195\n",
    "\n",
    "    return pred_area / total_area\n"
   ]
  },
  {
   "cell_type": "code",
   "execution_count": 80,
   "metadata": {},
   "outputs": [
    {
     "name": "stdout",
     "output_type": "stream",
     "text": [
      "=> Loading checkpoint\n",
      "=> Loading checkpoint\n"
     ]
    }
   ],
   "source": [
    "Own_unet = UNET(in_channels=1, out_channels=1, features= [16, 32, 64, 128]).to(DEVICE)\n",
    "load_checkpoint(Own_unet, f'/home/alex/Documents/new try/Data/Lung Unet/save_states/Own_Unet_gaussian_10.pth.tar')#r'/home/alex/Documents/new try/Data/Lung Unet/save_states/Own_unet_padding_2.pth.tar')\n",
    "Monai_unet = UNet(spatial_dims=2, in_channels=1, out_channels=1, channels=(16, 32, 64, 128), strides=(2, 2, 2), bias = False, num_res_units = 0).to(device=DEVICE)\n",
    "load_checkpoint(Monai_unet, r'/home/alex/Documents/new try/Data/Lung Unet/save_states/Monai_Unet_gaussian1_0.pth.tar')\n",
    "\n",
    "model = Own_unet\n",
    "\n",
    "from simulated_lung_dataset_gaussian import get_loaders_simulated\n",
    "train_loader, test_loader, validation_loader = get_loaders_simulated(batch_size = 1)"
   ]
  },
  {
   "cell_type": "code",
   "execution_count": 81,
   "metadata": {},
   "outputs": [
    {
     "data": {
      "text/plain": [
       "tensor(0.6263)"
      ]
     },
     "execution_count": 81,
     "metadata": {},
     "output_type": "execute_result"
    }
   ],
   "source": [
    "test_loader_iter = iter(test_loader)\n",
    "\n",
    "image, mask = next(test_loader_iter)\n",
    "\n",
    "calculate_cropped_area_with_tolerance(model, image, mask, 10)"
   ]
  },
  {
   "cell_type": "code",
   "execution_count": 82,
   "metadata": {},
   "outputs": [],
   "source": [
    "reduced_areas = []\n",
    "tolerance = 0\n",
    "\n",
    "for image, mask in test_loader:\n",
    "    reduced_area = 1 - calculate_cropped_area_with_tolerance(model, image, mask, tolerance = tolerance, device=\"cuda\")\n",
    "    reduced_areas.append(reduced_area)"
   ]
  },
  {
   "cell_type": "code",
   "execution_count": 83,
   "metadata": {},
   "outputs": [
    {
     "name": "stdout",
     "output_type": "stream",
     "text": [
      "0.4897482 0.07096529\n"
     ]
    }
   ],
   "source": [
    "import numpy as np\n",
    "mean = np.mean(reduced_areas)\n",
    "std = np.std(reduced_areas)\n",
    "print(mean, std)"
   ]
  },
  {
   "cell_type": "code",
   "execution_count": 84,
   "metadata": {},
   "outputs": [],
   "source": [
    "reduced_areas = 100* np.array(reduced_areas)"
   ]
  },
  {
   "cell_type": "code",
   "execution_count": 85,
   "metadata": {},
   "outputs": [
    {
     "name": "stdout",
     "output_type": "stream",
     "text": [
      "48.97482\n"
     ]
    },
    {
     "data": {
      "image/png": "[encoded data removed]",
      "text/plain": [
       "<Figure size 640x480 with 1 Axes>"
      ]
     },
     "metadata": {},
     "output_type": "display_data"
    }
   ],
   "source": [
    "print(np.mean(reduced_areas))\n",
    "plt.hist(reduced_areas, bins = 25, color = 'dodgerblue')#, range = (0, 0.5))\n",
    "plt.xticks(np.arange(0, 80, step= 10))\n",
    "plt.xlabel('Field of view reduction in %', size = 14)\n",
    "plt.ylabel('Number of images', size = 14, labelpad=10) \n",
    "plt.title('(a)', size = 14)\n",
    "plt.tick_params(axis='both', labelsize=14)\n",
    "#plt.savefig(r'/home/alex/Documents/Images_thesis/our_unet_fov_reduction_without_tolerance.svg', bbox_inches=\"tight\", format=\"svg\")\n",
    "plt.show()"
   ]
  },
  {
   "cell_type": "code",
   "execution_count": 86,
   "metadata": {},
   "outputs": [],
   "source": [
    "reduced_areas = []\n",
    "tolerance = 10\n",
    "\n",
    "for image, mask in test_loader:\n",
    "    reduced_area = 1 - calculate_cropped_area_with_tolerance(model, image, mask, tolerance = tolerance, device=\"cuda\")\n",
    "    reduced_areas.append(reduced_area)\n",
    "\n",
    "reduced_areas = 100* np.array(reduced_areas)"
   ]
  },
  {
   "cell_type": "code",
   "execution_count": 87,
   "metadata": {},
   "outputs": [
    {
     "name": "stdout",
     "output_type": "stream",
     "text": [
      "33.41313\n"
     ]
    },
    {
     "data": {
      "image/png": "[encoded data removed]",
      "text/plain": [
       "<Figure size 640x480 with 1 Axes>"
      ]
     },
     "metadata": {},
     "output_type": "display_data"
    }
   ],
   "source": [
    "print(np.mean(reduced_areas))\n",
    "plt.hist(reduced_areas, bins = 25, color = 'dodgerblue')#, range = (0, 0.5))\n",
    "plt.xticks(np.arange(0, 80, step= 10))\n",
    "plt.xlabel('Field of view reduction in %', size = 14)\n",
    "plt.ylabel('Number of images', size = 14, labelpad=10) \n",
    "plt.title('(b)', size = 14)\n",
    "plt.tick_params(axis='both', labelsize=14)\n",
    "#plt.savefig(r'/home/alex/Documents/Images_thesis/our_unet_fov_reduction_with_tolerance.svg', bbox_inches=\"tight\", format=\"svg\")\n",
    "plt.show()"
   ]
  },
  {
   "cell_type": "code",
   "execution_count": null,
   "metadata": {},
   "outputs": [],
   "source": []
  }
 ],
 "metadata": {
  "kernelspec": {
   "display_name": "Python 3",
   "language": "python",
   "name": "python3"
  },
  "language_info": {
   "codemirror_mode": {
    "name": "ipython",
    "version": 3
   },
   "file_extension": ".py",
   "mimetype": "text/x-python",
   "name": "python",
   "nbconvert_exporter": "python",
   "pygments_lexer": "ipython3",
   "version": "3.10.12"
  }
 },
 "nbformat": 4,
 "nbformat_minor": 2
}
