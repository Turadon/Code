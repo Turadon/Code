{
 "cells": [
  {
   "cell_type": "code",
   "execution_count": 1,
   "metadata": {},
   "outputs": [
    {
     "ename": "SyntaxError",
     "evalue": "invalid syntax (2347968427.py, line 4)",
     "output_type": "error",
     "traceback": [
      "\u001b[1;36m  Cell \u001b[1;32mIn[1], line 4\u001b[1;36m\u001b[0m\n\u001b[1;33m    os.environ['WANDB_NOTEBOOK_NAME'] =\u001b[0m\n\u001b[1;37m                                        ^\u001b[0m\n\u001b[1;31mSyntaxError\u001b[0m\u001b[1;31m:\u001b[0m invalid syntax\n"
     ]
    }
   ],
   "source": [
    "import wandb\n",
    "import os \n",
    "\n",
    "os.environ['WANDB_NOTEBOOK_NAME'] = \n",
    "%env WANDB_API_KEY = \n",
    "\n",
    "wandb.login()"
   ]
  },
  {
   "cell_type": "code",
   "execution_count": 2,
   "metadata": {},
   "outputs": [
    {
     "name": "stderr",
     "output_type": "stream",
     "text": [
      "INFO:albumentations.check_version:A new version of Albumentations is available: 1.4.18 (you have 1.4.12). Upgrade using: pip install -U albumentations. To disable automatic update checks, set the environment variable NO_ALBUMENTATIONS_UPDATE to 1.\n"
     ]
    }
   ],
   "source": [
    "import time\n",
    "from torch.nn import BCEWithLogitsLoss\n",
    "import torch\n",
    "import albumentations as A\n",
    "from albumentations.pytorch import ToTensorV2\n",
    "import matplotlib.pyplot as plt\n",
    "import gc  \n"
   ]
  },
  {
   "cell_type": "code",
   "execution_count": 3,
   "metadata": {},
   "outputs": [],
   "source": [
    "from utils import (\n",
    "    save_checkpoint,\n",
    "    load_checkpoint,\n",
    "    check_accuracy,\n",
    "    save_test_images,\n",
    "    get_loaders,\n",
    "    check_accuracy_val,\n",
    "    check_accuracy_test\n",
    ")\n",
    "\n",
    "from models import UNET\n",
    "from monai.networks.nets import UNet\n",
    "from train import train_epoch\n",
    "from simulated_lung_dataset_gaussian_std import get_loaders_simulated"
   ]
  },
  {
   "cell_type": "code",
   "execution_count": 4,
   "metadata": {},
   "outputs": [],
   "source": [
    "# HYPERPARAMETERS:\n",
    "LEARNING_RATE = 1e-4\n",
    "DEVICE = \"cuda\" if torch.cuda.is_available() else \"cpu\"\n",
    "PIN_MEMORY = False  # True if DEVICE == 'cuda' else False\n",
    "LOGGING = True\n",
    "BATCH_SIZE = 8\n",
    "NUM_EPOCHS = 5\n",
    "NUM_WORKERS = 0\n",
    "IMAGE_SIZE = 256"
   ]
  },
  {
   "cell_type": "markdown",
   "metadata": {},
   "source": [
    "# train"
   ]
  },
  {
   "cell_type": "code",
   "execution_count": 5,
   "metadata": {},
   "outputs": [],
   "source": [
    "def model_train(model_input, save_model_path, LOGGING, IMAGE_STD, NOISE_STD_RATIO, DEVICE):    \n",
    "    model = model_input\n",
    "    loss_fn = BCEWithLogitsLoss()\n",
    "    optimizer = torch.optim.Adam(model.parameters(), lr=LEARNING_RATE)\n",
    "    scaler = torch.cuda.amp.GradScaler()\n",
    "\n",
    "    train_loader, test_loader, validation_loader = get_loaders() #get_loaders_simulated(image_std = IMAGE_STD , noise_std_ratio= NOISE_STD_RATIO)\n",
    "    \n",
    "    for epoch in range(1, NUM_EPOCHS+1):\n",
    "        loss = train_epoch(train_loader, model, optimizer, loss_fn, scaler, DEVICE)\n",
    "        if epoch % 5 == 0:\n",
    "            check_accuracy_val(epoch, validation_loader, model, logging = LOGGING ,device=DEVICE)\n",
    "        del loss\n",
    "        torch.cuda.empty_cache() \n",
    "        \n",
    "    checkpoint = {\n",
    "            \"state_dict\": model.state_dict(),\n",
    "            \"optimizer\": optimizer.state_dict(),\n",
    "            }\n",
    "    check_accuracy_test(epoch, test_loader, model, logging = LOGGING ,device=DEVICE)\n",
    "    save_checkpoint(checkpoint, filename= save_model_path)"
   ]
  },
  {
   "cell_type": "markdown",
   "metadata": {},
   "source": [
    "# main"
   ]
  },
  {
   "cell_type": "code",
   "execution_count": 6,
   "metadata": {},
   "outputs": [],
   "source": [
    "def model_train_log(i, model, model_name, LOGGING, IMAGE_STD, NOISE_STD_RATIO,  DEVICE = 'cuda'):\n",
    "    model_save_path = f'/home/alex/Documents/new try/Data/Lung Unet/save_states/Own_Unet_gaussian_test_{IMAGE_STD}_{NOISE_STD_RATIO}.pth.tar' \n",
    "    \n",
    "    #logging\n",
    "    if LOGGING:\n",
    "        run = wandb.init(\n",
    "            # set the wandb project where this run will be logged\n",
    "            #entity = \"alexander-ortlieb94\",\n",
    "            project = \"Segmentation normal\",\n",
    "            group = \"Simulated\",\n",
    "            job_type = 'Gaussian',\n",
    "            name = 'Own_Unet',\n",
    "\n",
    "            # track hyperparameters and run metadata\n",
    "            config={\n",
    "                \"try no.\" : i,\n",
    "                \"std_matching\" : IMAGE_STD,\n",
    "                \"std_noise_ratio\" : NOISE_STD_RATIO\n",
    "                },\n",
    "        )\n",
    "    else:\n",
    "        pass\n",
    " \n",
    "    \n",
    "    model_train(\n",
    "        model,\n",
    "        model_save_path,\n",
    "        LOGGING,\n",
    "        IMAGE_STD, \n",
    "        NOISE_STD_RATIO, \n",
    "        DEVICE)\n",
    "    \n",
    "    if LOGGING:\n",
    "        run.finish()\n",
    "\n",
    "    torch.cuda.empty_cache() \n",
    "   "
   ]
  },
  {
   "cell_type": "code",
   "execution_count": 7,
   "metadata": {},
   "outputs": [
    {
     "name": "stdout",
     "output_type": "stream",
     "text": [
      "=> Loading checkpoint\n"
     ]
    },
    {
     "data": {
      "text/html": [
       "wandb version 0.18.3 is available!  To upgrade, please run:\n",
       " $ pip install wandb --upgrade"
      ],
      "text/plain": [
       "<IPython.core.display.HTML object>"
      ]
     },
     "metadata": {},
     "output_type": "display_data"
    },
    {
     "data": {
      "text/html": [
       "Tracking run with wandb version 0.17.2"
      ],
      "text/plain": [
       "<IPython.core.display.HTML object>"
      ]
     },
     "metadata": {},
     "output_type": "display_data"
    },
    {
     "data": {
      "text/html": [
       "Run data is saved locally in <code>/home/alex/Documents/new try/Code/Lung Unet/wandb/run-20241013_154327-ifqjzyku</code>"
      ],
      "text/plain": [
       "<IPython.core.display.HTML object>"
      ]
     },
     "metadata": {},
     "output_type": "display_data"
    },
    {
     "data": {
      "text/html": [
       "Syncing run <strong><a href='https://wandb.ai/ulm-university/Segmentation%20normal/runs/ifqjzyku' target=\"_blank\">Own_Unet</a></strong> to <a href='https://wandb.ai/ulm-university/Segmentation%20normal' target=\"_blank\">Weights & Biases</a> (<a href='https://wandb.me/run' target=\"_blank\">docs</a>)<br/>"
      ],
      "text/plain": [
       "<IPython.core.display.HTML object>"
      ]
     },
     "metadata": {},
     "output_type": "display_data"
    },
    {
     "data": {
      "text/html": [
       " View project at <a href='https://wandb.ai/ulm-university/Segmentation%20normal' target=\"_blank\">https://wandb.ai/ulm-university/Segmentation%20normal</a>"
      ],
      "text/plain": [
       "<IPython.core.display.HTML object>"
      ]
     },
     "metadata": {},
     "output_type": "display_data"
    },
    {
     "data": {
      "text/html": [
       " View run at <a href='https://wandb.ai/ulm-university/Segmentation%20normal/runs/ifqjzyku' target=\"_blank\">https://wandb.ai/ulm-university/Segmentation%20normal/runs/ifqjzyku</a>"
      ],
      "text/plain": [
       "<IPython.core.display.HTML object>"
      ]
     },
     "metadata": {},
     "output_type": "display_data"
    },
    {
     "name": "stderr",
     "output_type": "stream",
     "text": [
      "100%|██████████| 16/16 [00:48<00:00,  3.05s/it, loss=0.0403]\n",
      "100%|██████████| 16/16 [00:46<00:00,  2.94s/it, loss=0.0363]\n",
      "100%|██████████| 16/16 [00:47<00:00,  2.96s/it, loss=0.0393]\n",
      "100%|██████████| 16/16 [00:46<00:00,  2.89s/it, loss=0.0364]\n",
      "100%|██████████| 16/16 [00:47<00:00,  2.96s/it, loss=0.0342]\n"
     ]
    },
    {
     "name": "stdout",
     "output_type": "stream",
     "text": [
      "Val-Epoch: 5, Acc: 0.98, and Dice score: 0.95, IoU: 0.96, hd: 6.81\n",
      "Epoch: 5, Acc: 0.98, and Dice score: 0.96, IoU: 0.96, hd: 4.97\n",
      "=> Saving checkpoint\n"
     ]
    },
    {
     "data": {
      "text/html": [
       "<style>\n",
       "    table.wandb td:nth-child(1) { padding: 0 10px; text-align: left ; width: auto;} td:nth-child(2) {text-align: left ; width: 100%}\n",
       "    .wandb-row { display: flex; flex-direction: row; flex-wrap: wrap; justify-content: flex-start; width: 100% }\n",
       "    .wandb-col { display: flex; flex-direction: column; flex-basis: 100%; flex: 1; padding: 10px; }\n",
       "    </style>\n",
       "<div class=\"wandb-row\"><div class=\"wandb-col\"><h3>Run history:</h3><br/><table class=\"wandb\"><tr><td>epoch</td><td>▁</td></tr><tr><td>test_acc</td><td>▁</td></tr><tr><td>test_box_iou</td><td>▁</td></tr><tr><td>test_dice</td><td>▁</td></tr><tr><td>test_hd</td><td>▁</td></tr><tr><td>test_loss</td><td>▁</td></tr></table><br/></div><div class=\"wandb-col\"><h3>Run summary:</h3><br/><table class=\"wandb\"><tr><td>epoch</td><td>5</td></tr><tr><td>test_acc</td><td>0.98275</td></tr><tr><td>test_box_iou</td><td>0.96421</td></tr><tr><td>test_dice</td><td>0.95756</td></tr><tr><td>test_hd</td><td>4.97217</td></tr><tr><td>test_loss</td><td>2.55559</td></tr></table><br/></div></div>"
      ],
      "text/plain": [
       "<IPython.core.display.HTML object>"
      ]
     },
     "metadata": {},
     "output_type": "display_data"
    },
    {
     "data": {
      "text/html": [
       " View run <strong style=\"color:#cdcd00\">Own_Unet</strong> at: <a href='https://wandb.ai/ulm-university/Segmentation%20normal/runs/ifqjzyku' target=\"_blank\">https://wandb.ai/ulm-university/Segmentation%20normal/runs/ifqjzyku</a><br/> View project at: <a href='https://wandb.ai/ulm-university/Segmentation%20normal' target=\"_blank\">https://wandb.ai/ulm-university/Segmentation%20normal</a><br/>Synced 5 W&B file(s), 0 media file(s), 0 artifact file(s) and 0 other file(s)"
      ],
      "text/plain": [
       "<IPython.core.display.HTML object>"
      ]
     },
     "metadata": {},
     "output_type": "display_data"
    },
    {
     "data": {
      "text/html": [
       "Find logs at: <code>./wandb/run-20241013_154327-ifqjzyku/logs</code>"
      ],
      "text/plain": [
       "<IPython.core.display.HTML object>"
      ]
     },
     "metadata": {},
     "output_type": "display_data"
    },
    {
     "data": {
      "text/html": [
       "The new W&B backend becomes opt-out in version 0.18.0; try it out with `wandb.require(\"core\")`! See https://wandb.me/wandb-core for more information."
      ],
      "text/plain": [
       "<IPython.core.display.HTML object>"
      ]
     },
     "metadata": {},
     "output_type": "display_data"
    }
   ],
   "source": [
    "\n",
    "for i in range(5):\n",
    "        for IMAGE_STD, NOISE_STD_RATIO in [[10, 0.05]]:\n",
    "                LOGGING = True\n",
    "                Own_unet = UNET(in_channels=1,out_channels=1, features= [16, 32, 64, 128]).to(DEVICE)\n",
    "                #monai_UNet = UNet(spatial_dims=2, in_channels=1, out_channels=1, channels=(4, 8, 16, 32), strides=(2, 2, 2), bias = False, num_res_units = 0).to(device=DEVICE)\n",
    "                load_checkpoint(Own_unet, r'/home/alex/Documents/new try/Data/Lung Unet/save_states/Own_unet_padding_1.pth.tar')\n",
    "                model_train_log(i, Own_unet, 'Own_unet', LOGGING, IMAGE_STD, NOISE_STD_RATIO, DEVICE)\n",
    "                \n"
   ]
  }
 ],
 "metadata": {
  "kernelspec": {
   "display_name": "Python 3",
   "language": "python",
   "name": "python3"
  },
  "language_info": {
   "codemirror_mode": {
    "name": "ipython",
    "version": 3
   },
   "file_extension": ".py",
   "mimetype": "text/x-python",
   "name": "python",
   "nbconvert_exporter": "python",
   "pygments_lexer": "ipython3",
   "version": "3.10.5"
  }
 },
 "nbformat": 4,
 "nbformat_minor": 2
}
