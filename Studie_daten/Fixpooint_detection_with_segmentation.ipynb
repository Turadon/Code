{
 "cells": [
  {
   "cell_type": "code",
   "execution_count": 1,
   "metadata": {},
   "outputs": [
    {
     "name": "stderr",
     "output_type": "stream",
     "text": [
      "INFO:albumentations.check_version:A new version of Albumentations is available: 1.4.19 (you have 1.4.12). Upgrade using: pip install -U albumentations. To disable automatic update checks, set the environment variable NO_ALBUMENTATIONS_UPDATE to 1.\n",
      "/usr/lib/python3/dist-packages/requests/__init__.py:87: RequestsDependencyWarning: urllib3 (2.2.2) or chardet (4.0.0) doesn't match a supported version!\n",
      "  warnings.warn(\"urllib3 ({}) or chardet ({}) doesn't match a supported \"\n"
     ]
    }
   ],
   "source": [
    "import torch\n",
    "import torch.nn.functional as F\n",
    "import torch.nn as nn\n",
    "from torch import optim\n",
    "import numpy as np\n",
    "import pandas as pd\n",
    "import os\n",
    "import random\n",
    "from sklearn.model_selection import train_test_split\n",
    "from torch.utils.data import DataLoader, Subset\n",
    "from PIL import Image\n",
    "import albumentations as A\n",
    "from tqdm import tqdm\n",
    "import matplotlib.pyplot as plt\n",
    "from fixpoint_utils import (\n",
    "    keypoints_IoU_mult,\n",
    "    get_acc, \n",
    "    get_acc_EfficentNet,\n",
    "    save_checkpoint, \n",
    "    load_checkpoint, \n",
    "    get_loader_keypoint)\n",
    "from Keypoint_dataset_gaussian import get_loader_keypoint_simulated\n",
    "from torch.optim.lr_scheduler import StepLR, ReduceLROnPlateau\n",
    "from models_2 import KeypointModel, KeypointModel_with_segm, UNET, KeypointModel_3, EfficentNet"
   ]
  },
  {
   "cell_type": "code",
   "execution_count": 2,
   "metadata": {},
   "outputs": [
    {
     "name": "stderr",
     "output_type": "stream",
     "text": [
      "\u001b[34m\u001b[1mwandb\u001b[0m: \u001b[33mWARNING\u001b[0m WANDB_NOTEBOOK_NAME should be a path to a notebook file, couldn't find /home/alex/Documents/new try/Lung Unet/compare_models.ipynb.\n"
     ]
    },
    {
     "name": "stdout",
     "output_type": "stream",
     "text": [
      "env: WANDB_API_KEY=32ba2dfcae28d5229d9da5ea919130a28f8ab52c\n"
     ]
    },
    {
     "name": "stderr",
     "output_type": "stream",
     "text": [
      "/usr/lib/python3/dist-packages/requests/__init__.py:87: RequestsDependencyWarning: urllib3 (2.2.2) or chardet (4.0.0) doesn't match a supported version!\n",
      "  warnings.warn(\"urllib3 ({}) or chardet ({}) doesn't match a supported \"\n",
      "\u001b[34m\u001b[1mwandb\u001b[0m: Currently logged in as: \u001b[33malexander-ortlieb94\u001b[0m (\u001b[33mulm-university\u001b[0m). Use \u001b[1m`wandb login --relogin`\u001b[0m to force relogin\n"
     ]
    },
    {
     "data": {
      "text/plain": [
       "True"
      ]
     },
     "execution_count": 2,
     "metadata": {},
     "output_type": "execute_result"
    }
   ],
   "source": [
    "import wandb\n",
    "import os \n",
    "\n",
    "os.environ['WANDB_NOTEBOOK_NAME'] =\n",
    "%env WANDB_API_KEY = \n",
    "\n",
    "wandb.login()"
   ]
  },
  {
   "cell_type": "code",
   "execution_count": 3,
   "metadata": {},
   "outputs": [],
   "source": [
    "class weighted_MSELoss(nn.Module):\n",
    "    def __init__(self):\n",
    "        super().__init__()\n",
    "    def forward(self,inputs,targets,weights):\n",
    "        return ((inputs - targets)**2 ) * weights"
   ]
  },
  {
   "cell_type": "code",
   "execution_count": 4,
   "metadata": {},
   "outputs": [
    {
     "data": {
      "text/plain": [
       "<torch._C.Generator at 0x792a50d6b1b0>"
      ]
     },
     "execution_count": 4,
     "metadata": {},
     "output_type": "execute_result"
    }
   ],
   "source": [
    "# HYPERPARAMETERS:\n",
    "DEVICE = \"cuda\" if torch.cuda.is_available() else \"cpu\"\n",
    "LOGGING = False\n",
    "NUM_EPOCHS = 50\n",
    "random.seed(42)\n",
    "torch.manual_seed(42)"
   ]
  },
  {
   "cell_type": "code",
   "execution_count": 5,
   "metadata": {},
   "outputs": [],
   "source": [
    "def get_acc(model, seg_model, data_loader, loss_func, DEVICE = 'cuda:0'):\n",
    "    model.eval()\n",
    "    loss = 0\n",
    "    IoU = 0\n",
    "    with torch.no_grad():\n",
    "        for image, targ in data_loader:\n",
    "            img = image.to(device = DEVICE)\n",
    "            mask = seg_model(img)\n",
    "            pred_mask = (torch.sigmoid(mask) > 0.5)\n",
    "            added_tensor = img + pred_mask\n",
    "            concat_tensor = torch.cat((img, pred_mask, added_tensor), dim=1)\n",
    "            target = targ.to(DEVICE)\n",
    "            pred = model(concat_tensor)\n",
    "            loss += loss_func(pred, target.squeeze(1))\n",
    "            IoU += keypoints_IoU_mult(image, targ.squeeze(1), pred)\n",
    "    model.train()\n",
    "    print('Test loss:', loss.item()/len(data_loader), 'Test Box IoU:', IoU.item()/len(data_loader.dataset))\n",
    "    return loss.item()/len(data_loader), IoU.item()/len(data_loader.dataset)"
   ]
  },
  {
   "cell_type": "code",
   "execution_count": 6,
   "metadata": {},
   "outputs": [],
   "source": [
    "def training(i, model, seg_model, BATCH_SIZE):\n",
    "    train_loader, test_loader, validation_loader = get_loader_keypoint_simulated(BATCH_SIZE)\n",
    "    learning_rate = 0.001\n",
    "    optimizer = optim.Adam(model.parameters(), lr=learning_rate)\n",
    "    loss_func = nn.MSELoss()\n",
    "    min_loss = 1_000_000\n",
    "\n",
    "    scaler = torch.cuda.amp.GradScaler()\n",
    "\n",
    "    run = wandb.init(\n",
    "                # set the wandb project where this run will be logged\n",
    "                #entity = \"alexander-ortlieb94\",\n",
    "                project = \"Fixpoint detection + segmentation simulated\",\n",
    "                name = 'EffNet & Monai_unet',\n",
    "                job_type = 'gaussian',\n",
    "                \n",
    "                config={\n",
    "                \"try no.\": i\n",
    "                },\n",
    "    )\n",
    "\n",
    "    for epoch in range(NUM_EPOCHS):\n",
    "        loop = tqdm(train_loader)\n",
    "        for batch_idx, (img, target_keypoints) in enumerate(loop):\n",
    "            img = img.to(device = DEVICE)\n",
    "            target_keypoints = target_keypoints.to(DEVICE)\n",
    "            mask = seg_model(img)\n",
    "            pred_mask = (torch.sigmoid(mask) > 0.5)\n",
    "            added_tensor = img + pred_mask\n",
    "            concat_tensor = torch.cat((img, pred_mask, added_tensor), dim=1)\n",
    "            with torch.cuda.amp.autocast():\n",
    "                predictions = model(concat_tensor) # [k,8]\n",
    "                loss = loss_func(predictions, target_keypoints.squeeze(1)) #torch.mean(loss_func(predictions, target_keypoints.squeeze(1), weights))\n",
    "\n",
    "            \n",
    "            optimizer.zero_grad()\n",
    "            scaler.scale(loss).backward()\n",
    "            scaler.step(optimizer)\n",
    "            scaler.update()\n",
    "\n",
    "            loop.set_postfix(loss=loss.item())\n",
    "\n",
    "        val_loss, val_iou = get_acc(model, seg_model, validation_loader, loss_func)  #get_acc(model, validation_loader, loss_func) \n",
    "        wandb.log(\n",
    "            {\n",
    "                \"val loss\": val_loss,\n",
    "                \"val Box IoU\": val_iou\n",
    "            }\n",
    "        )\n",
    "       \n",
    "    \n",
    "    checkpoint = {\n",
    "            \"state_dict\": model.state_dict(),\n",
    "            \"optimizer\": optimizer.state_dict(),\n",
    "            }\n",
    "    save_path = f'/home/alex/Documents/new try/Data/Studie_daten/safe_states/EffNet_Own_unet_gaussian_{i}.pth.tar'\n",
    "    save_checkpoint(checkpoint, save_path)\n",
    "    \n",
    "    test_loss, test_iou = get_acc(model, seg_model, test_loader, loss_func) \n",
    "    wandb.log(\n",
    "            {\n",
    "                \"test loss\": test_loss,\n",
    "                \"test Box IoU\": test_iou\n",
    "            }\n",
    "        )\n",
    "    run.finish()\n",
    "    del loss, predictions, model, test_loss, test_iou, val_iou, val_loss\n",
    "    torch.cuda.empty_cache() "
   ]
  },
  {
   "cell_type": "code",
   "execution_count": 7,
   "metadata": {},
   "outputs": [
    {
     "name": "stdout",
     "output_type": "stream",
     "text": [
      "=> Loading checkpoint\n",
      "=> Loading checkpoint\n"
     ]
    },
    {
     "data": {
      "text/html": [
       "wandb version 0.18.5 is available!  To upgrade, please run:\n",
       " $ pip install wandb --upgrade"
      ],
      "text/plain": [
       "<IPython.core.display.HTML object>"
      ]
     },
     "metadata": {},
     "output_type": "display_data"
    },
    {
     "data": {
      "text/html": [
       "Tracking run with wandb version 0.17.2"
      ],
      "text/plain": [
       "<IPython.core.display.HTML object>"
      ]
     },
     "metadata": {},
     "output_type": "display_data"
    },
    {
     "data": {
      "text/html": [
       "Run data is saved locally in <code>/home/alex/Documents/new try/Code/Studie_daten/wandb/run-20241024_124509-zfmfl3ln</code>"
      ],
      "text/plain": [
       "<IPython.core.display.HTML object>"
      ]
     },
     "metadata": {},
     "output_type": "display_data"
    },
    {
     "data": {
      "text/html": [
       "Syncing run <strong><a href='https://wandb.ai/ulm-university/Fixpoint%20detection%20%2B%20segmentation%20simulated/runs/zfmfl3ln' target=\"_blank\">EffNet & Monai_unet</a></strong> to <a href='https://wandb.ai/ulm-university/Fixpoint%20detection%20%2B%20segmentation%20simulated' target=\"_blank\">Weights & Biases</a> (<a href='https://wandb.me/run' target=\"_blank\">docs</a>)<br/>"
      ],
      "text/plain": [
       "<IPython.core.display.HTML object>"
      ]
     },
     "metadata": {},
     "output_type": "display_data"
    },
    {
     "data": {
      "text/html": [
       " View project at <a href='https://wandb.ai/ulm-university/Fixpoint%20detection%20%2B%20segmentation%20simulated' target=\"_blank\">https://wandb.ai/ulm-university/Fixpoint%20detection%20%2B%20segmentation%20simulated</a>"
      ],
      "text/plain": [
       "<IPython.core.display.HTML object>"
      ]
     },
     "metadata": {},
     "output_type": "display_data"
    },
    {
     "data": {
      "text/html": [
       " View run at <a href='https://wandb.ai/ulm-university/Fixpoint%20detection%20%2B%20segmentation%20simulated/runs/zfmfl3ln' target=\"_blank\">https://wandb.ai/ulm-university/Fixpoint%20detection%20%2B%20segmentation%20simulated/runs/zfmfl3ln</a>"
      ],
      "text/plain": [
       "<IPython.core.display.HTML object>"
      ]
     },
     "metadata": {},
     "output_type": "display_data"
    },
    {
     "name": "stderr",
     "output_type": "stream",
     "text": [
      "100%|██████████| 43/43 [01:05<00:00,  1.52s/it, loss=107] \n"
     ]
    },
    {
     "name": "stdout",
     "output_type": "stream",
     "text": [
      "Test loss: 60.69521484375 Test Box IoU: 0.8578410736502033\n"
     ]
    },
    {
     "name": "stderr",
     "output_type": "stream",
     "text": [
      "100%|██████████| 43/43 [00:54<00:00,  1.26s/it, loss=35.9]\n"
     ]
    },
    {
     "name": "stdout",
     "output_type": "stream",
     "text": [
      "Test loss: 51.255889892578125 Test Box IoU: 0.8845180354706229\n"
     ]
    },
    {
     "name": "stderr",
     "output_type": "stream",
     "text": [
      "100%|██████████| 43/43 [00:54<00:00,  1.27s/it, loss=38]  \n"
     ]
    },
    {
     "name": "stdout",
     "output_type": "stream",
     "text": [
      "Test loss: 71.77984008789062 Test Box IoU: 0.8815598161253211\n"
     ]
    },
    {
     "name": "stderr",
     "output_type": "stream",
     "text": [
      "100%|██████████| 43/43 [00:54<00:00,  1.27s/it, loss=48.3]\n"
     ]
    },
    {
     "name": "stdout",
     "output_type": "stream",
     "text": [
      "Test loss: 43.89918518066406 Test Box IoU: 0.8823534821810788\n"
     ]
    },
    {
     "name": "stderr",
     "output_type": "stream",
     "text": [
      "100%|██████████| 43/43 [00:54<00:00,  1.26s/it, loss=34.9]\n"
     ]
    },
    {
     "name": "stdout",
     "output_type": "stream",
     "text": [
      "Test loss: 53.79119873046875 Test Box IoU: 0.874546469074406\n"
     ]
    },
    {
     "name": "stderr",
     "output_type": "stream",
     "text": [
      "100%|██████████| 43/43 [00:54<00:00,  1.26s/it, loss=65]  \n"
     ]
    },
    {
     "name": "stdout",
     "output_type": "stream",
     "text": [
      "Test loss: 52.877386474609374 Test Box IoU: 0.8757066596044253\n"
     ]
    },
    {
     "name": "stderr",
     "output_type": "stream",
     "text": [
      "100%|██████████| 43/43 [00:53<00:00,  1.25s/it, loss=63.1]\n"
     ]
    },
    {
     "name": "stdout",
     "output_type": "stream",
     "text": [
      "Test loss: 53.85546875 Test Box IoU: 0.8626643664216342\n"
     ]
    },
    {
     "name": "stderr",
     "output_type": "stream",
     "text": [
      "100%|██████████| 43/43 [00:50<00:00,  1.17s/it, loss=45.6]\n"
     ]
    },
    {
     "name": "stdout",
     "output_type": "stream",
     "text": [
      "Test loss: 58.953302001953126 Test Box IoU: 0.8744768116572131\n"
     ]
    },
    {
     "name": "stderr",
     "output_type": "stream",
     "text": [
      "100%|██████████| 43/43 [00:49<00:00,  1.16s/it, loss=90.2]\n"
     ]
    },
    {
     "name": "stdout",
     "output_type": "stream",
     "text": [
      "Test loss: 63.40199584960938 Test Box IoU: 0.8860585460924122\n"
     ]
    },
    {
     "name": "stderr",
     "output_type": "stream",
     "text": [
      "100%|██████████| 43/43 [00:49<00:00,  1.14s/it, loss=121] \n"
     ]
    },
    {
     "name": "stdout",
     "output_type": "stream",
     "text": [
      "Test loss: 56.92064208984375 Test Box IoU: 0.8852663432082085\n"
     ]
    },
    {
     "name": "stderr",
     "output_type": "stream",
     "text": [
      "100%|██████████| 43/43 [00:49<00:00,  1.15s/it, loss=40.4]\n"
     ]
    },
    {
     "name": "stdout",
     "output_type": "stream",
     "text": [
      "Test loss: 48.28055114746094 Test Box IoU: 0.8818755476442102\n"
     ]
    },
    {
     "name": "stderr",
     "output_type": "stream",
     "text": [
      "100%|██████████| 43/43 [00:50<00:00,  1.18s/it, loss=32.3]\n"
     ]
    },
    {
     "name": "stdout",
     "output_type": "stream",
     "text": [
      "Test loss: 53.523077392578124 Test Box IoU: 0.8866459049590646\n"
     ]
    },
    {
     "name": "stderr",
     "output_type": "stream",
     "text": [
      "100%|██████████| 43/43 [00:49<00:00,  1.14s/it, loss=24.3]\n"
     ]
    },
    {
     "name": "stdout",
     "output_type": "stream",
     "text": [
      "Test loss: 49.55101318359375 Test Box IoU: 0.8932027947412778\n"
     ]
    },
    {
     "name": "stderr",
     "output_type": "stream",
     "text": [
      "100%|██████████| 43/43 [00:48<00:00,  1.12s/it, loss=49.6]\n"
     ]
    },
    {
     "name": "stdout",
     "output_type": "stream",
     "text": [
      "Test loss: 43.86392822265625 Test Box IoU: 0.8895878203927654\n"
     ]
    },
    {
     "name": "stderr",
     "output_type": "stream",
     "text": [
      "100%|██████████| 43/43 [00:48<00:00,  1.12s/it, loss=50.2]\n"
     ]
    },
    {
     "name": "stdout",
     "output_type": "stream",
     "text": [
      "Test loss: 52.43511962890625 Test Box IoU: 0.8788071723833476\n"
     ]
    },
    {
     "name": "stderr",
     "output_type": "stream",
     "text": [
      "100%|██████████| 43/43 [00:48<00:00,  1.13s/it, loss=52.4]\n"
     ]
    },
    {
     "name": "stdout",
     "output_type": "stream",
     "text": [
      "Test loss: 53.3019287109375 Test Box IoU: 0.8987943048346533\n"
     ]
    },
    {
     "name": "stderr",
     "output_type": "stream",
     "text": [
      "100%|██████████| 43/43 [00:49<00:00,  1.15s/it, loss=25.8]\n"
     ]
    },
    {
     "name": "stdout",
     "output_type": "stream",
     "text": [
      "Test loss: 49.865359497070315 Test Box IoU: 0.8718788460509418\n"
     ]
    },
    {
     "name": "stderr",
     "output_type": "stream",
     "text": [
      "100%|██████████| 43/43 [00:48<00:00,  1.13s/it, loss=52.8]\n"
     ]
    },
    {
     "name": "stdout",
     "output_type": "stream",
     "text": [
      "Test loss: 46.7876708984375 Test Box IoU: 0.9028872137200342\n"
     ]
    },
    {
     "name": "stderr",
     "output_type": "stream",
     "text": [
      "100%|██████████| 43/43 [00:49<00:00,  1.14s/it, loss=41.8]\n"
     ]
    },
    {
     "name": "stdout",
     "output_type": "stream",
     "text": [
      "Test loss: 43.3509765625 Test Box IoU: 0.9055035734829837\n"
     ]
    },
    {
     "name": "stderr",
     "output_type": "stream",
     "text": [
      "100%|██████████| 43/43 [00:49<00:00,  1.16s/it, loss=36.2]\n"
     ]
    },
    {
     "name": "stdout",
     "output_type": "stream",
     "text": [
      "Test loss: 59.4165283203125 Test Box IoU: 0.8843427684209119\n"
     ]
    },
    {
     "name": "stderr",
     "output_type": "stream",
     "text": [
      "100%|██████████| 43/43 [00:49<00:00,  1.14s/it, loss=46.6]\n"
     ]
    },
    {
     "name": "stdout",
     "output_type": "stream",
     "text": [
      "Test loss: 49.68335876464844 Test Box IoU: 0.8858680202536386\n"
     ]
    },
    {
     "name": "stderr",
     "output_type": "stream",
     "text": [
      "100%|██████████| 43/43 [00:48<00:00,  1.14s/it, loss=64.9]\n"
     ]
    },
    {
     "name": "stdout",
     "output_type": "stream",
     "text": [
      "Test loss: 54.459228515625 Test Box IoU: 0.853142307229238\n"
     ]
    },
    {
     "name": "stderr",
     "output_type": "stream",
     "text": [
      "100%|██████████| 43/43 [00:48<00:00,  1.13s/it, loss=55.4]\n"
     ]
    },
    {
     "name": "stdout",
     "output_type": "stream",
     "text": [
      "Test loss: 53.18019409179688 Test Box IoU: 0.8728174706027932\n"
     ]
    },
    {
     "name": "stderr",
     "output_type": "stream",
     "text": [
      "100%|██████████| 43/43 [00:49<00:00,  1.14s/it, loss=38.9]\n"
     ]
    },
    {
     "name": "stdout",
     "output_type": "stream",
     "text": [
      "Test loss: 48.86265563964844 Test Box IoU: 0.9005156216556078\n"
     ]
    },
    {
     "name": "stderr",
     "output_type": "stream",
     "text": [
      "100%|██████████| 43/43 [00:50<00:00,  1.18s/it, loss=37.1]\n"
     ]
    },
    {
     "name": "stdout",
     "output_type": "stream",
     "text": [
      "Test loss: 54.3548095703125 Test Box IoU: 0.8789054139019692\n"
     ]
    },
    {
     "name": "stderr",
     "output_type": "stream",
     "text": [
      "100%|██████████| 43/43 [00:51<00:00,  1.19s/it, loss=19.5]\n"
     ]
    },
    {
     "name": "stdout",
     "output_type": "stream",
     "text": [
      "Test loss: 50.62321472167969 Test Box IoU: 0.8754158020019531\n"
     ]
    },
    {
     "name": "stderr",
     "output_type": "stream",
     "text": [
      "100%|██████████| 43/43 [00:49<00:00,  1.15s/it, loss=58.8]\n"
     ]
    },
    {
     "name": "stdout",
     "output_type": "stream",
     "text": [
      "Test loss: 50.19254150390625 Test Box IoU: 0.9018520198456229\n"
     ]
    },
    {
     "name": "stderr",
     "output_type": "stream",
     "text": [
      "100%|██████████| 43/43 [00:50<00:00,  1.17s/it, loss=54.5]\n"
     ]
    },
    {
     "name": "stdout",
     "output_type": "stream",
     "text": [
      "Test loss: 47.01225280761719 Test Box IoU: 0.8974179829636665\n"
     ]
    },
    {
     "name": "stderr",
     "output_type": "stream",
     "text": [
      "100%|██████████| 43/43 [00:49<00:00,  1.15s/it, loss=26.3]\n"
     ]
    },
    {
     "name": "stdout",
     "output_type": "stream",
     "text": [
      "Test loss: 59.48516845703125 Test Box IoU: 0.8780639857462008\n"
     ]
    },
    {
     "name": "stderr",
     "output_type": "stream",
     "text": [
      "100%|██████████| 43/43 [00:52<00:00,  1.22s/it, loss=20]  \n"
     ]
    },
    {
     "name": "stdout",
     "output_type": "stream",
     "text": [
      "Test loss: 49.43486633300781 Test Box IoU: 0.8994341288527398\n"
     ]
    },
    {
     "name": "stderr",
     "output_type": "stream",
     "text": [
      "100%|██████████| 43/43 [00:49<00:00,  1.15s/it, loss=42.6]\n"
     ]
    },
    {
     "name": "stdout",
     "output_type": "stream",
     "text": [
      "Test loss: 47.87804260253906 Test Box IoU: 0.8970651495946597\n"
     ]
    },
    {
     "name": "stderr",
     "output_type": "stream",
     "text": [
      "100%|██████████| 43/43 [00:49<00:00,  1.16s/it, loss=43.8]\n"
     ]
    },
    {
     "name": "stdout",
     "output_type": "stream",
     "text": [
      "Test loss: 45.12600402832031 Test Box IoU: 0.8881766959412457\n"
     ]
    },
    {
     "name": "stderr",
     "output_type": "stream",
     "text": [
      "100%|██████████| 43/43 [00:51<00:00,  1.20s/it, loss=46.5]\n"
     ]
    },
    {
     "name": "stdout",
     "output_type": "stream",
     "text": [
      "Test loss: 47.152435302734375 Test Box IoU: 0.8989606883427869\n"
     ]
    },
    {
     "name": "stderr",
     "output_type": "stream",
     "text": [
      "100%|██████████| 43/43 [00:50<00:00,  1.16s/it, loss=22.1]\n"
     ]
    },
    {
     "name": "stdout",
     "output_type": "stream",
     "text": [
      "Test loss: 58.5265625 Test Box IoU: 0.9013131546647581\n"
     ]
    },
    {
     "name": "stderr",
     "output_type": "stream",
     "text": [
      "100%|██████████| 43/43 [00:51<00:00,  1.19s/it, loss=35.4]\n"
     ]
    },
    {
     "name": "stdout",
     "output_type": "stream",
     "text": [
      "Test loss: 56.346063232421876 Test Box IoU: 0.8644839770173374\n"
     ]
    },
    {
     "name": "stderr",
     "output_type": "stream",
     "text": [
      "100%|██████████| 43/43 [00:51<00:00,  1.21s/it, loss=34.7]\n"
     ]
    },
    {
     "name": "stdout",
     "output_type": "stream",
     "text": [
      "Test loss: 41.867425537109376 Test Box IoU: 0.9053616458422518\n"
     ]
    },
    {
     "name": "stderr",
     "output_type": "stream",
     "text": [
      "100%|██████████| 43/43 [00:51<00:00,  1.20s/it, loss=24.7]\n"
     ]
    },
    {
     "name": "stdout",
     "output_type": "stream",
     "text": [
      "Test loss: 44.83404541015625 Test Box IoU: 0.8912454892511237\n"
     ]
    },
    {
     "name": "stderr",
     "output_type": "stream",
     "text": [
      "100%|██████████| 43/43 [00:51<00:00,  1.19s/it, loss=37.7]\n"
     ]
    },
    {
     "name": "stdout",
     "output_type": "stream",
     "text": [
      "Test loss: 41.361325073242185 Test Box IoU: 0.8964500949807364\n"
     ]
    },
    {
     "name": "stderr",
     "output_type": "stream",
     "text": [
      "100%|██████████| 43/43 [00:50<00:00,  1.18s/it, loss=33.4]\n"
     ]
    },
    {
     "name": "stdout",
     "output_type": "stream",
     "text": [
      "Test loss: 41.777825927734376 Test Box IoU: 0.8825127588559504\n"
     ]
    },
    {
     "name": "stderr",
     "output_type": "stream",
     "text": [
      "100%|██████████| 43/43 [00:53<00:00,  1.23s/it, loss=56.7]\n"
     ]
    },
    {
     "name": "stdout",
     "output_type": "stream",
     "text": [
      "Test loss: 45.90889892578125 Test Box IoU: 0.8754836827108304\n"
     ]
    },
    {
     "name": "stderr",
     "output_type": "stream",
     "text": [
      "100%|██████████| 43/43 [00:52<00:00,  1.22s/it, loss=33]  \n"
     ]
    },
    {
     "name": "stdout",
     "output_type": "stream",
     "text": [
      "Test loss: 47.277346801757815 Test Box IoU: 0.8784185958235231\n"
     ]
    },
    {
     "name": "stderr",
     "output_type": "stream",
     "text": [
      "100%|██████████| 43/43 [00:52<00:00,  1.21s/it, loss=42.8]\n"
     ]
    },
    {
     "name": "stdout",
     "output_type": "stream",
     "text": [
      "Test loss: 46.66471862792969 Test Box IoU: 0.8862651668182792\n"
     ]
    },
    {
     "name": "stderr",
     "output_type": "stream",
     "text": [
      "100%|██████████| 43/43 [00:53<00:00,  1.24s/it, loss=43.3]\n"
     ]
    },
    {
     "name": "stdout",
     "output_type": "stream",
     "text": [
      "Test loss: 56.584197998046875 Test Box IoU: 0.8597824932777718\n"
     ]
    },
    {
     "name": "stderr",
     "output_type": "stream",
     "text": [
      "100%|██████████| 43/43 [00:52<00:00,  1.23s/it, loss=36.2]\n"
     ]
    },
    {
     "name": "stdout",
     "output_type": "stream",
     "text": [
      "Test loss: 47.948211669921875 Test Box IoU: 0.8987067235659246\n"
     ]
    },
    {
     "name": "stderr",
     "output_type": "stream",
     "text": [
      "100%|██████████| 43/43 [00:49<00:00,  1.15s/it, loss=22.3]\n"
     ]
    },
    {
     "name": "stdout",
     "output_type": "stream",
     "text": [
      "Test loss: 45.771185302734374 Test Box IoU: 0.8933778527664812\n"
     ]
    },
    {
     "name": "stderr",
     "output_type": "stream",
     "text": [
      "100%|██████████| 43/43 [00:49<00:00,  1.15s/it, loss=23.3]\n"
     ]
    },
    {
     "name": "stdout",
     "output_type": "stream",
     "text": [
      "Test loss: 47.735311889648436 Test Box IoU: 0.9031979286507384\n"
     ]
    },
    {
     "name": "stderr",
     "output_type": "stream",
     "text": [
      "100%|██████████| 43/43 [00:48<00:00,  1.13s/it, loss=26.9]\n"
     ]
    },
    {
     "name": "stdout",
     "output_type": "stream",
     "text": [
      "Test loss: 46.25868530273438 Test Box IoU: 0.8889043102525684\n"
     ]
    },
    {
     "name": "stderr",
     "output_type": "stream",
     "text": [
      "100%|██████████| 43/43 [00:49<00:00,  1.14s/it, loss=35.7]\n"
     ]
    },
    {
     "name": "stdout",
     "output_type": "stream",
     "text": [
      "Test loss: 38.24711608886719 Test Box IoU: 0.8960699839134739\n"
     ]
    },
    {
     "name": "stderr",
     "output_type": "stream",
     "text": [
      "100%|██████████| 43/43 [00:49<00:00,  1.16s/it, loss=37.9]\n"
     ]
    },
    {
     "name": "stdout",
     "output_type": "stream",
     "text": [
      "Test loss: 52.05369262695312 Test Box IoU: 0.8981104811576948\n"
     ]
    },
    {
     "name": "stderr",
     "output_type": "stream",
     "text": [
      "100%|██████████| 43/43 [00:52<00:00,  1.23s/it, loss=14.1]\n"
     ]
    },
    {
     "name": "stdout",
     "output_type": "stream",
     "text": [
      "Test loss: 39.58152465820312 Test Box IoU: 0.9018528559436537\n",
      "=> Saving checkpoint\n",
      "Test loss: 43.21382141113281 Test Box IoU: 0.8896510503063463\n"
     ]
    },
    {
     "data": {
      "text/html": [
       "<style>\n",
       "    table.wandb td:nth-child(1) { padding: 0 10px; text-align: left ; width: auto;} td:nth-child(2) {text-align: left ; width: 100%}\n",
       "    .wandb-row { display: flex; flex-direction: row; flex-wrap: wrap; justify-content: flex-start; width: 100% }\n",
       "    .wandb-col { display: flex; flex-direction: column; flex-basis: 100%; flex: 1; padding: 10px; }\n",
       "    </style>\n",
       "<div class=\"wandb-row\"><div class=\"wandb-col\"><h3>Run history:</h3><br/><table class=\"wandb\"><tr><td>test Box IoU</td><td>▁</td></tr><tr><td>test loss</td><td>▁</td></tr><tr><td>val Box IoU</td><td>▂▅▅▅▄▂▄▅▅▅▆▆▇▄██▅▁▄▇▄█▇▄▇▆▇▇█▆▇▅▄▅▂▇█▆▇█</td></tr><tr><td>val loss</td><td>▆▄█▂▄▄▅▆▃▄▃▂▄▃▃▂▃▄▄▃▄▃▃▅▃▂▃▅▂▂▂▂▃▃▅▃▃▃▁▁</td></tr></table><br/></div><div class=\"wandb-col\"><h3>Run summary:</h3><br/><table class=\"wandb\"><tr><td>test Box IoU</td><td>0.88965</td></tr><tr><td>test loss</td><td>43.21382</td></tr><tr><td>val Box IoU</td><td>0.90185</td></tr><tr><td>val loss</td><td>39.58152</td></tr></table><br/></div></div>"
      ],
      "text/plain": [
       "<IPython.core.display.HTML object>"
      ]
     },
     "metadata": {},
     "output_type": "display_data"
    },
    {
     "data": {
      "text/html": [
       " View run <strong style=\"color:#cdcd00\">EffNet & Monai_unet</strong> at: <a href='https://wandb.ai/ulm-university/Fixpoint%20detection%20%2B%20segmentation%20simulated/runs/zfmfl3ln' target=\"_blank\">https://wandb.ai/ulm-university/Fixpoint%20detection%20%2B%20segmentation%20simulated/runs/zfmfl3ln</a><br/> View project at: <a href='https://wandb.ai/ulm-university/Fixpoint%20detection%20%2B%20segmentation%20simulated' target=\"_blank\">https://wandb.ai/ulm-university/Fixpoint%20detection%20%2B%20segmentation%20simulated</a><br/>Synced 5 W&B file(s), 0 media file(s), 0 artifact file(s) and 0 other file(s)"
      ],
      "text/plain": [
       "<IPython.core.display.HTML object>"
      ]
     },
     "metadata": {},
     "output_type": "display_data"
    },
    {
     "data": {
      "text/html": [
       "Find logs at: <code>./wandb/run-20241024_124509-zfmfl3ln/logs</code>"
      ],
      "text/plain": [
       "<IPython.core.display.HTML object>"
      ]
     },
     "metadata": {},
     "output_type": "display_data"
    },
    {
     "data": {
      "text/html": [
       "The new W&B backend becomes opt-out in version 0.18.0; try it out with `wandb.require(\"core\")`! See https://wandb.me/wandb-core for more information."
      ],
      "text/plain": [
       "<IPython.core.display.HTML object>"
      ]
     },
     "metadata": {},
     "output_type": "display_data"
    },
    {
     "name": "stdout",
     "output_type": "stream",
     "text": [
      "=> Loading checkpoint\n",
      "=> Loading checkpoint\n"
     ]
    },
    {
     "data": {
      "text/html": [
       "wandb version 0.18.5 is available!  To upgrade, please run:\n",
       " $ pip install wandb --upgrade"
      ],
      "text/plain": [
       "<IPython.core.display.HTML object>"
      ]
     },
     "metadata": {},
     "output_type": "display_data"
    },
    {
     "data": {
      "text/html": [
       "Tracking run with wandb version 0.17.2"
      ],
      "text/plain": [
       "<IPython.core.display.HTML object>"
      ]
     },
     "metadata": {},
     "output_type": "display_data"
    },
    {
     "data": {
      "text/html": [
       "Run data is saved locally in <code>/home/alex/Documents/new try/Code/Studie_daten/wandb/run-20241024_133702-e1zgj88l</code>"
      ],
      "text/plain": [
       "<IPython.core.display.HTML object>"
      ]
     },
     "metadata": {},
     "output_type": "display_data"
    },
    {
     "data": {
      "text/html": [
       "Syncing run <strong><a href='https://wandb.ai/ulm-university/Fixpoint%20detection%20%2B%20segmentation%20simulated/runs/e1zgj88l' target=\"_blank\">EffNet & Monai_unet</a></strong> to <a href='https://wandb.ai/ulm-university/Fixpoint%20detection%20%2B%20segmentation%20simulated' target=\"_blank\">Weights & Biases</a> (<a href='https://wandb.me/run' target=\"_blank\">docs</a>)<br/>"
      ],
      "text/plain": [
       "<IPython.core.display.HTML object>"
      ]
     },
     "metadata": {},
     "output_type": "display_data"
    },
    {
     "data": {
      "text/html": [
       " View project at <a href='https://wandb.ai/ulm-university/Fixpoint%20detection%20%2B%20segmentation%20simulated' target=\"_blank\">https://wandb.ai/ulm-university/Fixpoint%20detection%20%2B%20segmentation%20simulated</a>"
      ],
      "text/plain": [
       "<IPython.core.display.HTML object>"
      ]
     },
     "metadata": {},
     "output_type": "display_data"
    },
    {
     "data": {
      "text/html": [
       " View run at <a href='https://wandb.ai/ulm-university/Fixpoint%20detection%20%2B%20segmentation%20simulated/runs/e1zgj88l' target=\"_blank\">https://wandb.ai/ulm-university/Fixpoint%20detection%20%2B%20segmentation%20simulated/runs/e1zgj88l</a>"
      ],
      "text/plain": [
       "<IPython.core.display.HTML object>"
      ]
     },
     "metadata": {},
     "output_type": "display_data"
    },
    {
     "name": "stderr",
     "output_type": "stream",
     "text": [
      "100%|██████████| 43/43 [00:54<00:00,  1.26s/it, loss=58.8]\n"
     ]
    },
    {
     "name": "stdout",
     "output_type": "stream",
     "text": [
      "Test loss: 56.19801025390625 Test Box IoU: 0.8886403122993365\n"
     ]
    },
    {
     "name": "stderr",
     "output_type": "stream",
     "text": [
      "100%|██████████| 43/43 [00:53<00:00,  1.24s/it, loss=90.9]\n"
     ]
    },
    {
     "name": "stdout",
     "output_type": "stream",
     "text": [
      "Test loss: 78.295751953125 Test Box IoU: 0.8624020929205908\n"
     ]
    },
    {
     "name": "stderr",
     "output_type": "stream",
     "text": [
      "100%|██████████| 43/43 [00:54<00:00,  1.26s/it, loss=73.5]\n"
     ]
    },
    {
     "name": "stdout",
     "output_type": "stream",
     "text": [
      "Test loss: 82.42914428710938 Test Box IoU: 0.8664199097515786\n"
     ]
    },
    {
     "name": "stderr",
     "output_type": "stream",
     "text": [
      "100%|██████████| 43/43 [00:53<00:00,  1.25s/it, loss=49]  \n"
     ]
    },
    {
     "name": "stdout",
     "output_type": "stream",
     "text": [
      "Test loss: 66.2784912109375 Test Box IoU: 0.8822600482261345\n"
     ]
    },
    {
     "name": "stderr",
     "output_type": "stream",
     "text": [
      "100%|██████████| 43/43 [00:53<00:00,  1.25s/it, loss=131] \n"
     ]
    },
    {
     "name": "stdout",
     "output_type": "stream",
     "text": [
      "Test loss: 84.43700561523437 Test Box IoU: 0.8563955124110392\n"
     ]
    },
    {
     "name": "stderr",
     "output_type": "stream",
     "text": [
      "100%|██████████| 43/43 [00:51<00:00,  1.21s/it, loss=45.2]\n"
     ]
    },
    {
     "name": "stdout",
     "output_type": "stream",
     "text": [
      "Test loss: 65.82355346679688 Test Box IoU: 0.8738063132926209\n"
     ]
    },
    {
     "name": "stderr",
     "output_type": "stream",
     "text": [
      "100%|██████████| 43/43 [00:52<00:00,  1.23s/it, loss=110] \n"
     ]
    },
    {
     "name": "stdout",
     "output_type": "stream",
     "text": [
      "Test loss: 66.78453369140625 Test Box IoU: 0.8737943988956817\n"
     ]
    },
    {
     "name": "stderr",
     "output_type": "stream",
     "text": [
      "100%|██████████| 43/43 [00:52<00:00,  1.23s/it, loss=38.3]\n"
     ]
    },
    {
     "name": "stdout",
     "output_type": "stream",
     "text": [
      "Test loss: 51.027706909179685 Test Box IoU: 0.8875570427881528\n"
     ]
    },
    {
     "name": "stderr",
     "output_type": "stream",
     "text": [
      "100%|██████████| 43/43 [00:52<00:00,  1.23s/it, loss=59.3]\n"
     ]
    },
    {
     "name": "stdout",
     "output_type": "stream",
     "text": [
      "Test loss: 55.177679443359374 Test Box IoU: 0.8864037500668879\n"
     ]
    },
    {
     "name": "stderr",
     "output_type": "stream",
     "text": [
      "100%|██████████| 43/43 [00:51<00:00,  1.20s/it, loss=71.9]\n"
     ]
    },
    {
     "name": "stdout",
     "output_type": "stream",
     "text": [
      "Test loss: 56.68089599609375 Test Box IoU: 0.885976399460884\n"
     ]
    },
    {
     "name": "stderr",
     "output_type": "stream",
     "text": [
      "100%|██████████| 43/43 [00:51<00:00,  1.20s/it, loss=53.8]\n"
     ]
    },
    {
     "name": "stdout",
     "output_type": "stream",
     "text": [
      "Test loss: 53.45054931640625 Test Box IoU: 0.8761192739826359\n"
     ]
    },
    {
     "name": "stderr",
     "output_type": "stream",
     "text": [
      "100%|██████████| 43/43 [00:52<00:00,  1.21s/it, loss=131] \n"
     ]
    },
    {
     "name": "stdout",
     "output_type": "stream",
     "text": [
      "Test loss: 56.43064575195312 Test Box IoU: 0.8942469766695206\n"
     ]
    },
    {
     "name": "stderr",
     "output_type": "stream",
     "text": [
      "100%|██████████| 43/43 [00:53<00:00,  1.23s/it, loss=43.1]\n"
     ]
    },
    {
     "name": "stdout",
     "output_type": "stream",
     "text": [
      "Test loss: 57.2088623046875 Test Box IoU: 0.8821657781731592\n"
     ]
    },
    {
     "name": "stderr",
     "output_type": "stream",
     "text": [
      "100%|██████████| 43/43 [00:52<00:00,  1.22s/it, loss=42]  \n"
     ]
    },
    {
     "name": "stdout",
     "output_type": "stream",
     "text": [
      "Test loss: 75.05052490234375 Test Box IoU: 0.8610001655474101\n"
     ]
    },
    {
     "name": "stderr",
     "output_type": "stream",
     "text": [
      "100%|██████████| 43/43 [00:52<00:00,  1.22s/it, loss=74.2]\n"
     ]
    },
    {
     "name": "stdout",
     "output_type": "stream",
     "text": [
      "Test loss: 45.14946594238281 Test Box IoU: 0.8963814304299551\n"
     ]
    },
    {
     "name": "stderr",
     "output_type": "stream",
     "text": [
      "100%|██████████| 43/43 [00:51<00:00,  1.21s/it, loss=52.2]\n"
     ]
    },
    {
     "name": "stdout",
     "output_type": "stream",
     "text": [
      "Test loss: 41.9400390625 Test Box IoU: 0.8923446446248929\n"
     ]
    },
    {
     "name": "stderr",
     "output_type": "stream",
     "text": [
      "100%|██████████| 43/43 [00:52<00:00,  1.22s/it, loss=57.6]\n"
     ]
    },
    {
     "name": "stdout",
     "output_type": "stream",
     "text": [
      "Test loss: 46.844296264648435 Test Box IoU: 0.8940895812152183\n"
     ]
    },
    {
     "name": "stderr",
     "output_type": "stream",
     "text": [
      "100%|██████████| 43/43 [00:52<00:00,  1.21s/it, loss=27.8]\n"
     ]
    },
    {
     "name": "stdout",
     "output_type": "stream",
     "text": [
      "Test loss: 52.30770263671875 Test Box IoU: 0.8704115462629762\n"
     ]
    },
    {
     "name": "stderr",
     "output_type": "stream",
     "text": [
      "100%|██████████| 43/43 [00:51<00:00,  1.21s/it, loss=82.2]\n"
     ]
    },
    {
     "name": "stdout",
     "output_type": "stream",
     "text": [
      "Test loss: 47.97294311523437 Test Box IoU: 0.8841966602900256\n"
     ]
    },
    {
     "name": "stderr",
     "output_type": "stream",
     "text": [
      "100%|██████████| 43/43 [00:51<00:00,  1.20s/it, loss=48.4]\n"
     ]
    },
    {
     "name": "stdout",
     "output_type": "stream",
     "text": [
      "Test loss: 54.51167602539063 Test Box IoU: 0.8895546900082941\n"
     ]
    },
    {
     "name": "stderr",
     "output_type": "stream",
     "text": [
      "100%|██████████| 43/43 [00:51<00:00,  1.20s/it, loss=41]  \n"
     ]
    },
    {
     "name": "stdout",
     "output_type": "stream",
     "text": [
      "Test loss: 51.47130126953125 Test Box IoU: 0.8804507320874357\n"
     ]
    },
    {
     "name": "stderr",
     "output_type": "stream",
     "text": [
      "100%|██████████| 43/43 [00:52<00:00,  1.23s/it, loss=57.2]\n"
     ]
    },
    {
     "name": "stdout",
     "output_type": "stream",
     "text": [
      "Test loss: 50.82243957519531 Test Box IoU: 0.873020642424283\n"
     ]
    },
    {
     "name": "stderr",
     "output_type": "stream",
     "text": [
      "100%|██████████| 43/43 [00:52<00:00,  1.23s/it, loss=21.9]\n"
     ]
    },
    {
     "name": "stdout",
     "output_type": "stream",
     "text": [
      "Test loss: 63.2055908203125 Test Box IoU: 0.8823638288942102\n"
     ]
    },
    {
     "name": "stderr",
     "output_type": "stream",
     "text": [
      "100%|██████████| 43/43 [00:51<00:00,  1.19s/it, loss=33.1]\n"
     ]
    },
    {
     "name": "stdout",
     "output_type": "stream",
     "text": [
      "Test loss: 44.096197509765624 Test Box IoU: 0.8870980249692316\n"
     ]
    },
    {
     "name": "stderr",
     "output_type": "stream",
     "text": [
      "100%|██████████| 43/43 [00:52<00:00,  1.21s/it, loss=75.8]\n"
     ]
    },
    {
     "name": "stdout",
     "output_type": "stream",
     "text": [
      "Test loss: 48.95962219238281 Test Box IoU: 0.8913802055463399\n"
     ]
    },
    {
     "name": "stderr",
     "output_type": "stream",
     "text": [
      "100%|██████████| 43/43 [00:51<00:00,  1.21s/it, loss=56.7]\n"
     ]
    },
    {
     "name": "stdout",
     "output_type": "stream",
     "text": [
      "Test loss: 53.286370849609376 Test Box IoU: 0.8873728921968643\n"
     ]
    },
    {
     "name": "stderr",
     "output_type": "stream",
     "text": [
      "100%|██████████| 43/43 [00:53<00:00,  1.24s/it, loss=41.5]\n"
     ]
    },
    {
     "name": "stdout",
     "output_type": "stream",
     "text": [
      "Test loss: 45.41133422851563 Test Box IoU: 0.8953968204864083\n"
     ]
    },
    {
     "name": "stderr",
     "output_type": "stream",
     "text": [
      "100%|██████████| 43/43 [00:53<00:00,  1.24s/it, loss=47]  \n"
     ]
    },
    {
     "name": "stdout",
     "output_type": "stream",
     "text": [
      "Test loss: 43.337823486328126 Test Box IoU: 0.8944899676597282\n"
     ]
    },
    {
     "name": "stderr",
     "output_type": "stream",
     "text": [
      "100%|██████████| 43/43 [00:52<00:00,  1.23s/it, loss=14.8]\n"
     ]
    },
    {
     "name": "stdout",
     "output_type": "stream",
     "text": [
      "Test loss: 46.06807250976563 Test Box IoU: 0.8989983127541739\n"
     ]
    },
    {
     "name": "stderr",
     "output_type": "stream",
     "text": [
      "100%|██████████| 43/43 [00:52<00:00,  1.22s/it, loss=26.1]\n"
     ]
    },
    {
     "name": "stdout",
     "output_type": "stream",
     "text": [
      "Test loss: 46.10440368652344 Test Box IoU: 0.8958557337930758\n"
     ]
    },
    {
     "name": "stderr",
     "output_type": "stream",
     "text": [
      "100%|██████████| 43/43 [00:52<00:00,  1.22s/it, loss=33]  \n"
     ]
    },
    {
     "name": "stdout",
     "output_type": "stream",
     "text": [
      "Test loss: 45.007565307617185 Test Box IoU: 0.9063355955359054\n"
     ]
    },
    {
     "name": "stderr",
     "output_type": "stream",
     "text": [
      "100%|██████████| 43/43 [00:51<00:00,  1.20s/it, loss=31.5]\n"
     ]
    },
    {
     "name": "stdout",
     "output_type": "stream",
     "text": [
      "Test loss: 43.86098022460938 Test Box IoU: 0.8938831695138592\n"
     ]
    },
    {
     "name": "stderr",
     "output_type": "stream",
     "text": [
      "100%|██████████| 43/43 [00:51<00:00,  1.20s/it, loss=37.3]\n"
     ]
    },
    {
     "name": "stdout",
     "output_type": "stream",
     "text": [
      "Test loss: 42.469601440429685 Test Box IoU: 0.891727917814908\n"
     ]
    },
    {
     "name": "stderr",
     "output_type": "stream",
     "text": [
      "100%|██████████| 43/43 [00:51<00:00,  1.20s/it, loss=58.8]\n"
     ]
    },
    {
     "name": "stdout",
     "output_type": "stream",
     "text": [
      "Test loss: 52.56209106445313 Test Box IoU: 0.8831397278668129\n"
     ]
    },
    {
     "name": "stderr",
     "output_type": "stream",
     "text": [
      "100%|██████████| 43/43 [00:51<00:00,  1.19s/it, loss=31]  \n"
     ]
    },
    {
     "name": "stdout",
     "output_type": "stream",
     "text": [
      "Test loss: 53.80377197265625 Test Box IoU: 0.8499799754521619\n"
     ]
    },
    {
     "name": "stderr",
     "output_type": "stream",
     "text": [
      "100%|██████████| 43/43 [00:52<00:00,  1.23s/it, loss=27.6]\n"
     ]
    },
    {
     "name": "stdout",
     "output_type": "stream",
     "text": [
      "Test loss: 43.25145568847656 Test Box IoU: 0.8934201802292915\n"
     ]
    },
    {
     "name": "stderr",
     "output_type": "stream",
     "text": [
      "100%|██████████| 43/43 [00:53<00:00,  1.24s/it, loss=39]  \n"
     ]
    },
    {
     "name": "stdout",
     "output_type": "stream",
     "text": [
      "Test loss: 57.73710327148437 Test Box IoU: 0.8863286057563677\n"
     ]
    },
    {
     "name": "stderr",
     "output_type": "stream",
     "text": [
      "100%|██████████| 43/43 [00:52<00:00,  1.23s/it, loss=34.7]\n"
     ]
    },
    {
     "name": "stdout",
     "output_type": "stream",
     "text": [
      "Test loss: 43.940859985351565 Test Box IoU: 0.894209770307149\n"
     ]
    },
    {
     "name": "stderr",
     "output_type": "stream",
     "text": [
      "100%|██████████| 43/43 [00:52<00:00,  1.23s/it, loss=41.5]\n"
     ]
    },
    {
     "name": "stdout",
     "output_type": "stream",
     "text": [
      "Test loss: 52.15073852539062 Test Box IoU: 0.9006361242843001\n"
     ]
    },
    {
     "name": "stderr",
     "output_type": "stream",
     "text": [
      "100%|██████████| 43/43 [00:50<00:00,  1.19s/it, loss=23.7]\n"
     ]
    },
    {
     "name": "stdout",
     "output_type": "stream",
     "text": [
      "Test loss: 42.571435546875 Test Box IoU: 0.9021936704034674\n"
     ]
    },
    {
     "name": "stderr",
     "output_type": "stream",
     "text": [
      "100%|██████████| 43/43 [00:49<00:00,  1.14s/it, loss=34.6]\n"
     ]
    },
    {
     "name": "stdout",
     "output_type": "stream",
     "text": [
      "Test loss: 42.19087524414063 Test Box IoU: 0.8985355324941139\n"
     ]
    },
    {
     "name": "stderr",
     "output_type": "stream",
     "text": [
      "100%|██████████| 43/43 [00:48<00:00,  1.13s/it, loss=32.7]\n"
     ]
    },
    {
     "name": "stdout",
     "output_type": "stream",
     "text": [
      "Test loss: 72.12755126953125 Test Box IoU: 0.8893312428095569\n"
     ]
    },
    {
     "name": "stderr",
     "output_type": "stream",
     "text": [
      "100%|██████████| 43/43 [00:48<00:00,  1.13s/it, loss=54.4]\n"
     ]
    },
    {
     "name": "stdout",
     "output_type": "stream",
     "text": [
      "Test loss: 51.45857543945313 Test Box IoU: 0.8967484774654859\n"
     ]
    },
    {
     "name": "stderr",
     "output_type": "stream",
     "text": [
      "100%|██████████| 43/43 [00:48<00:00,  1.12s/it, loss=29.3]\n"
     ]
    },
    {
     "name": "stdout",
     "output_type": "stream",
     "text": [
      "Test loss: 52.083404541015625 Test Box IoU: 0.867085966345382\n"
     ]
    },
    {
     "name": "stderr",
     "output_type": "stream",
     "text": [
      "100%|██████████| 43/43 [00:48<00:00,  1.14s/it, loss=27.9]\n"
     ]
    },
    {
     "name": "stdout",
     "output_type": "stream",
     "text": [
      "Test loss: 49.9264404296875 Test Box IoU: 0.8835883989726028\n"
     ]
    },
    {
     "name": "stderr",
     "output_type": "stream",
     "text": [
      "100%|██████████| 43/43 [00:48<00:00,  1.13s/it, loss=59.4]\n"
     ]
    },
    {
     "name": "stdout",
     "output_type": "stream",
     "text": [
      "Test loss: 47.29732971191406 Test Box IoU: 0.883152478361783\n"
     ]
    },
    {
     "name": "stderr",
     "output_type": "stream",
     "text": [
      "100%|██████████| 43/43 [00:49<00:00,  1.15s/it, loss=35.9]\n"
     ]
    },
    {
     "name": "stdout",
     "output_type": "stream",
     "text": [
      "Test loss: 54.0433349609375 Test Box IoU: 0.900353000588613\n"
     ]
    },
    {
     "name": "stderr",
     "output_type": "stream",
     "text": [
      "100%|██████████| 43/43 [00:48<00:00,  1.13s/it, loss=32.2]\n"
     ]
    },
    {
     "name": "stdout",
     "output_type": "stream",
     "text": [
      "Test loss: 44.1378662109375 Test Box IoU: 0.8954661121107128\n"
     ]
    },
    {
     "name": "stderr",
     "output_type": "stream",
     "text": [
      "100%|██████████| 43/43 [00:49<00:00,  1.14s/it, loss=44.1]\n"
     ]
    },
    {
     "name": "stdout",
     "output_type": "stream",
     "text": [
      "Test loss: 55.871728515625 Test Box IoU: 0.8914642333984375\n"
     ]
    },
    {
     "name": "stderr",
     "output_type": "stream",
     "text": [
      "100%|██████████| 43/43 [00:48<00:00,  1.13s/it, loss=36.8]\n"
     ]
    },
    {
     "name": "stdout",
     "output_type": "stream",
     "text": [
      "Test loss: 47.82119445800781 Test Box IoU: 0.8974440065148759\n",
      "=> Saving checkpoint\n",
      "Test loss: 48.720159912109374 Test Box IoU: 0.8967808762641802\n"
     ]
    },
    {
     "data": {
      "text/html": [
       "<style>\n",
       "    table.wandb td:nth-child(1) { padding: 0 10px; text-align: left ; width: auto;} td:nth-child(2) {text-align: left ; width: 100%}\n",
       "    .wandb-row { display: flex; flex-direction: row; flex-wrap: wrap; justify-content: flex-start; width: 100% }\n",
       "    .wandb-col { display: flex; flex-direction: column; flex-basis: 100%; flex: 1; padding: 10px; }\n",
       "    </style>\n",
       "<div class=\"wandb-row\"><div class=\"wandb-col\"><h3>Run history:</h3><br/><table class=\"wandb\"><tr><td>test Box IoU</td><td>▁</td></tr><tr><td>test loss</td><td>▁</td></tr><tr><td>val Box IoU</td><td>▅▁▂▄▃▃▅▅▃▆▄▁▆▆▂▅▄▃▄▅▅▆▆▇█▆▆▄▆▅▆▇▇▅▇▂▄▇▆▇</td></tr><tr><td>val loss</td><td>▃▇█▅▅▅▃▃▃▄▄▇▁▂▃▂▃▃▅▁▃▂▁▂▂▁▁▃▁▄▁▃▁▆▃▃▂▃▁▂</td></tr></table><br/></div><div class=\"wandb-col\"><h3>Run summary:</h3><br/><table class=\"wandb\"><tr><td>test Box IoU</td><td>0.89678</td></tr><tr><td>test loss</td><td>48.72016</td></tr><tr><td>val Box IoU</td><td>0.89744</td></tr><tr><td>val loss</td><td>47.82119</td></tr></table><br/></div></div>"
      ],
      "text/plain": [
       "<IPython.core.display.HTML object>"
      ]
     },
     "metadata": {},
     "output_type": "display_data"
    },
    {
     "data": {
      "text/html": [
       " View run <strong style=\"color:#cdcd00\">EffNet & Monai_unet</strong> at: <a href='https://wandb.ai/ulm-university/Fixpoint%20detection%20%2B%20segmentation%20simulated/runs/e1zgj88l' target=\"_blank\">https://wandb.ai/ulm-university/Fixpoint%20detection%20%2B%20segmentation%20simulated/runs/e1zgj88l</a><br/> View project at: <a href='https://wandb.ai/ulm-university/Fixpoint%20detection%20%2B%20segmentation%20simulated' target=\"_blank\">https://wandb.ai/ulm-university/Fixpoint%20detection%20%2B%20segmentation%20simulated</a><br/>Synced 5 W&B file(s), 0 media file(s), 0 artifact file(s) and 0 other file(s)"
      ],
      "text/plain": [
       "<IPython.core.display.HTML object>"
      ]
     },
     "metadata": {},
     "output_type": "display_data"
    },
    {
     "data": {
      "text/html": [
       "Find logs at: <code>./wandb/run-20241024_133702-e1zgj88l/logs</code>"
      ],
      "text/plain": [
       "<IPython.core.display.HTML object>"
      ]
     },
     "metadata": {},
     "output_type": "display_data"
    },
    {
     "data": {
      "text/html": [
       "The new W&B backend becomes opt-out in version 0.18.0; try it out with `wandb.require(\"core\")`! See https://wandb.me/wandb-core for more information."
      ],
      "text/plain": [
       "<IPython.core.display.HTML object>"
      ]
     },
     "metadata": {},
     "output_type": "display_data"
    },
    {
     "name": "stdout",
     "output_type": "stream",
     "text": [
      "=> Loading checkpoint\n",
      "=> Loading checkpoint\n"
     ]
    },
    {
     "data": {
      "text/html": [
       "wandb version 0.18.5 is available!  To upgrade, please run:\n",
       " $ pip install wandb --upgrade"
      ],
      "text/plain": [
       "<IPython.core.display.HTML object>"
      ]
     },
     "metadata": {},
     "output_type": "display_data"
    },
    {
     "data": {
      "text/html": [
       "Tracking run with wandb version 0.17.2"
      ],
      "text/plain": [
       "<IPython.core.display.HTML object>"
      ]
     },
     "metadata": {},
     "output_type": "display_data"
    },
    {
     "data": {
      "text/html": [
       "Run data is saved locally in <code>/home/alex/Documents/new try/Code/Studie_daten/wandb/run-20241024_142932-j1myfppi</code>"
      ],
      "text/plain": [
       "<IPython.core.display.HTML object>"
      ]
     },
     "metadata": {},
     "output_type": "display_data"
    },
    {
     "data": {
      "text/html": [
       "Syncing run <strong><a href='https://wandb.ai/ulm-university/Fixpoint%20detection%20%2B%20segmentation%20simulated/runs/j1myfppi' target=\"_blank\">EffNet & Monai_unet</a></strong> to <a href='https://wandb.ai/ulm-university/Fixpoint%20detection%20%2B%20segmentation%20simulated' target=\"_blank\">Weights & Biases</a> (<a href='https://wandb.me/run' target=\"_blank\">docs</a>)<br/>"
      ],
      "text/plain": [
       "<IPython.core.display.HTML object>"
      ]
     },
     "metadata": {},
     "output_type": "display_data"
    },
    {
     "data": {
      "text/html": [
       " View project at <a href='https://wandb.ai/ulm-university/Fixpoint%20detection%20%2B%20segmentation%20simulated' target=\"_blank\">https://wandb.ai/ulm-university/Fixpoint%20detection%20%2B%20segmentation%20simulated</a>"
      ],
      "text/plain": [
       "<IPython.core.display.HTML object>"
      ]
     },
     "metadata": {},
     "output_type": "display_data"
    },
    {
     "data": {
      "text/html": [
       " View run at <a href='https://wandb.ai/ulm-university/Fixpoint%20detection%20%2B%20segmentation%20simulated/runs/j1myfppi' target=\"_blank\">https://wandb.ai/ulm-university/Fixpoint%20detection%20%2B%20segmentation%20simulated/runs/j1myfppi</a>"
      ],
      "text/plain": [
       "<IPython.core.display.HTML object>"
      ]
     },
     "metadata": {},
     "output_type": "display_data"
    },
    {
     "name": "stderr",
     "output_type": "stream",
     "text": [
      "100%|██████████| 43/43 [00:48<00:00,  1.13s/it, loss=42]  \n"
     ]
    },
    {
     "name": "stdout",
     "output_type": "stream",
     "text": [
      "Test loss: 62.11726684570313 Test Box IoU: 0.8726049449345837\n"
     ]
    },
    {
     "name": "stderr",
     "output_type": "stream",
     "text": [
      "100%|██████████| 43/43 [00:49<00:00,  1.14s/it, loss=54.5]\n"
     ]
    },
    {
     "name": "stdout",
     "output_type": "stream",
     "text": [
      "Test loss: 70.93429565429688 Test Box IoU: 0.867782226980549\n"
     ]
    },
    {
     "name": "stderr",
     "output_type": "stream",
     "text": [
      "100%|██████████| 43/43 [00:48<00:00,  1.13s/it, loss=51.2]\n"
     ]
    },
    {
     "name": "stdout",
     "output_type": "stream",
     "text": [
      "Test loss: 73.48843994140626 Test Box IoU: 0.8787656810185681\n"
     ]
    },
    {
     "name": "stderr",
     "output_type": "stream",
     "text": [
      "100%|██████████| 43/43 [00:51<00:00,  1.19s/it, loss=55]  \n"
     ]
    },
    {
     "name": "stdout",
     "output_type": "stream",
     "text": [
      "Test loss: 47.68677978515625 Test Box IoU: 0.8965531440630351\n"
     ]
    },
    {
     "name": "stderr",
     "output_type": "stream",
     "text": [
      "100%|██████████| 43/43 [00:48<00:00,  1.13s/it, loss=68.3]\n"
     ]
    },
    {
     "name": "stdout",
     "output_type": "stream",
     "text": [
      "Test loss: 45.63033752441406 Test Box IoU: 0.8904316523303725\n"
     ]
    },
    {
     "name": "stderr",
     "output_type": "stream",
     "text": [
      "100%|██████████| 43/43 [00:48<00:00,  1.13s/it, loss=73.3]\n"
     ]
    },
    {
     "name": "stdout",
     "output_type": "stream",
     "text": [
      "Test loss: 67.68373413085938 Test Box IoU: 0.8700744419881742\n"
     ]
    },
    {
     "name": "stderr",
     "output_type": "stream",
     "text": [
      "100%|██████████| 43/43 [00:49<00:00,  1.15s/it, loss=55.9]\n"
     ]
    },
    {
     "name": "stdout",
     "output_type": "stream",
     "text": [
      "Test loss: 95.97711181640625 Test Box IoU: 0.8119505790814961\n"
     ]
    },
    {
     "name": "stderr",
     "output_type": "stream",
     "text": [
      "100%|██████████| 43/43 [00:48<00:00,  1.13s/it, loss=55.5]\n"
     ]
    },
    {
     "name": "stdout",
     "output_type": "stream",
     "text": [
      "Test loss: 65.25333862304687 Test Box IoU: 0.880589001799283\n"
     ]
    },
    {
     "name": "stderr",
     "output_type": "stream",
     "text": [
      "100%|██████████| 43/43 [00:48<00:00,  1.13s/it, loss=40.8]\n"
     ]
    },
    {
     "name": "stdout",
     "output_type": "stream",
     "text": [
      "Test loss: 52.01431884765625 Test Box IoU: 0.870695610568948\n"
     ]
    },
    {
     "name": "stderr",
     "output_type": "stream",
     "text": [
      "100%|██████████| 43/43 [00:48<00:00,  1.13s/it, loss=33.2]\n"
     ]
    },
    {
     "name": "stdout",
     "output_type": "stream",
     "text": [
      "Test loss: 68.6331787109375 Test Box IoU: 0.8399460152403949\n"
     ]
    },
    {
     "name": "stderr",
     "output_type": "stream",
     "text": [
      "100%|██████████| 43/43 [00:49<00:00,  1.15s/it, loss=49.9]\n"
     ]
    },
    {
     "name": "stdout",
     "output_type": "stream",
     "text": [
      "Test loss: 57.502191162109376 Test Box IoU: 0.8967018650002676\n"
     ]
    },
    {
     "name": "stderr",
     "output_type": "stream",
     "text": [
      "100%|██████████| 43/43 [00:48<00:00,  1.13s/it, loss=42.8]\n"
     ]
    },
    {
     "name": "stdout",
     "output_type": "stream",
     "text": [
      "Test loss: 50.7706298828125 Test Box IoU: 0.8986770420858304\n"
     ]
    },
    {
     "name": "stderr",
     "output_type": "stream",
     "text": [
      "100%|██████████| 43/43 [00:49<00:00,  1.14s/it, loss=40.5]\n"
     ]
    },
    {
     "name": "stdout",
     "output_type": "stream",
     "text": [
      "Test loss: 55.3705078125 Test Box IoU: 0.89227294921875\n"
     ]
    },
    {
     "name": "stderr",
     "output_type": "stream",
     "text": [
      "100%|██████████| 43/43 [00:48<00:00,  1.14s/it, loss=39.4]\n"
     ]
    },
    {
     "name": "stdout",
     "output_type": "stream",
     "text": [
      "Test loss: 41.73588256835937 Test Box IoU: 0.8944308137240475\n"
     ]
    },
    {
     "name": "stderr",
     "output_type": "stream",
     "text": [
      "100%|██████████| 43/43 [00:49<00:00,  1.15s/it, loss=56.3]\n"
     ]
    },
    {
     "name": "stdout",
     "output_type": "stream",
     "text": [
      "Test loss: 58.2849853515625 Test Box IoU: 0.8927180669079088\n"
     ]
    },
    {
     "name": "stderr",
     "output_type": "stream",
     "text": [
      "100%|██████████| 43/43 [00:49<00:00,  1.15s/it, loss=84.7]\n"
     ]
    },
    {
     "name": "stdout",
     "output_type": "stream",
     "text": [
      "Test loss: 50.94975891113281 Test Box IoU: 0.8701262278099583\n"
     ]
    },
    {
     "name": "stderr",
     "output_type": "stream",
     "text": [
      "100%|██████████| 43/43 [00:48<00:00,  1.12s/it, loss=28.7]\n"
     ]
    },
    {
     "name": "stdout",
     "output_type": "stream",
     "text": [
      "Test loss: 50.06178283691406 Test Box IoU: 0.8818134673654217\n"
     ]
    },
    {
     "name": "stderr",
     "output_type": "stream",
     "text": [
      "100%|██████████| 43/43 [00:49<00:00,  1.15s/it, loss=48.2]\n"
     ]
    },
    {
     "name": "stdout",
     "output_type": "stream",
     "text": [
      "Test loss: 48.84867858886719 Test Box IoU: 0.8698757641936001\n"
     ]
    },
    {
     "name": "stderr",
     "output_type": "stream",
     "text": [
      "100%|██████████| 43/43 [00:48<00:00,  1.13s/it, loss=52.4]\n"
     ]
    },
    {
     "name": "stdout",
     "output_type": "stream",
     "text": [
      "Test loss: 56.37965087890625 Test Box IoU: 0.8821811414744756\n"
     ]
    },
    {
     "name": "stderr",
     "output_type": "stream",
     "text": [
      "100%|██████████| 43/43 [00:49<00:00,  1.15s/it, loss=42.9]\n"
     ]
    },
    {
     "name": "stdout",
     "output_type": "stream",
     "text": [
      "Test loss: 45.644326782226564 Test Box IoU: 0.8921140905928938\n"
     ]
    },
    {
     "name": "stderr",
     "output_type": "stream",
     "text": [
      "100%|██████████| 43/43 [00:48<00:00,  1.13s/it, loss=24.1]\n"
     ]
    },
    {
     "name": "stdout",
     "output_type": "stream",
     "text": [
      "Test loss: 49.09658203125 Test Box IoU: 0.8892909010795698\n"
     ]
    },
    {
     "name": "stderr",
     "output_type": "stream",
     "text": [
      "100%|██████████| 43/43 [00:48<00:00,  1.13s/it, loss=24.6]\n"
     ]
    },
    {
     "name": "stdout",
     "output_type": "stream",
     "text": [
      "Test loss: 63.7368408203125 Test Box IoU: 0.8659186167259739\n"
     ]
    },
    {
     "name": "stderr",
     "output_type": "stream",
     "text": [
      "100%|██████████| 43/43 [00:48<00:00,  1.13s/it, loss=40.3]\n"
     ]
    },
    {
     "name": "stdout",
     "output_type": "stream",
     "text": [
      "Test loss: 53.589532470703126 Test Box IoU: 0.8945080482796447\n"
     ]
    },
    {
     "name": "stderr",
     "output_type": "stream",
     "text": [
      "100%|██████████| 43/43 [00:48<00:00,  1.13s/it, loss=40.9]\n"
     ]
    },
    {
     "name": "stdout",
     "output_type": "stream",
     "text": [
      "Test loss: 58.887152099609374 Test Box IoU: 0.8605872376324379\n"
     ]
    },
    {
     "name": "stderr",
     "output_type": "stream",
     "text": [
      "100%|██████████| 43/43 [00:48<00:00,  1.13s/it, loss=53.2]\n"
     ]
    },
    {
     "name": "stdout",
     "output_type": "stream",
     "text": [
      "Test loss: 42.57002258300781 Test Box IoU: 0.8907539681212543\n"
     ]
    },
    {
     "name": "stderr",
     "output_type": "stream",
     "text": [
      "100%|██████████| 43/43 [00:48<00:00,  1.14s/it, loss=34.1]\n"
     ]
    },
    {
     "name": "stdout",
     "output_type": "stream",
     "text": [
      "Test loss: 55.25528564453125 Test Box IoU: 0.8839001590258455\n"
     ]
    },
    {
     "name": "stderr",
     "output_type": "stream",
     "text": [
      "100%|██████████| 43/43 [00:48<00:00,  1.13s/it, loss=33.2]\n"
     ]
    },
    {
     "name": "stdout",
     "output_type": "stream",
     "text": [
      "Test loss: 64.40228271484375 Test Box IoU: 0.8761605563229078\n"
     ]
    },
    {
     "name": "stderr",
     "output_type": "stream",
     "text": [
      "100%|██████████| 43/43 [00:48<00:00,  1.13s/it, loss=41]  \n"
     ]
    },
    {
     "name": "stdout",
     "output_type": "stream",
     "text": [
      "Test loss: 50.43954162597656 Test Box IoU: 0.9015520696770655\n"
     ]
    },
    {
     "name": "stderr",
     "output_type": "stream",
     "text": [
      "100%|██████████| 43/43 [00:48<00:00,  1.14s/it, loss=31.3]\n"
     ]
    },
    {
     "name": "stdout",
     "output_type": "stream",
     "text": [
      "Test loss: 49.280096435546874 Test Box IoU: 0.8978007068372753\n"
     ]
    },
    {
     "name": "stderr",
     "output_type": "stream",
     "text": [
      "100%|██████████| 43/43 [00:48<00:00,  1.13s/it, loss=40.6]\n"
     ]
    },
    {
     "name": "stdout",
     "output_type": "stream",
     "text": [
      "Test loss: 49.215203857421876 Test Box IoU: 0.8922934336205052\n"
     ]
    },
    {
     "name": "stderr",
     "output_type": "stream",
     "text": [
      "100%|██████████| 43/43 [00:49<00:00,  1.16s/it, loss=18.2]\n"
     ]
    },
    {
     "name": "stdout",
     "output_type": "stream",
     "text": [
      "Test loss: 42.88826293945313 Test Box IoU: 0.8880196140237051\n"
     ]
    },
    {
     "name": "stderr",
     "output_type": "stream",
     "text": [
      "100%|██████████| 43/43 [00:49<00:00,  1.15s/it, loss=29.2]\n"
     ]
    },
    {
     "name": "stdout",
     "output_type": "stream",
     "text": [
      "Test loss: 43.82340087890625 Test Box IoU: 0.8922896711793664\n"
     ]
    },
    {
     "name": "stderr",
     "output_type": "stream",
     "text": [
      "100%|██████████| 43/43 [00:49<00:00,  1.15s/it, loss=37.2]\n"
     ]
    },
    {
     "name": "stdout",
     "output_type": "stream",
     "text": [
      "Test loss: 46.90185546875 Test Box IoU: 0.8922916569121896\n"
     ]
    },
    {
     "name": "stderr",
     "output_type": "stream",
     "text": [
      "100%|██████████| 43/43 [00:48<00:00,  1.13s/it, loss=36.5]\n"
     ]
    },
    {
     "name": "stdout",
     "output_type": "stream",
     "text": [
      "Test loss: 44.990606689453124 Test Box IoU: 0.8929593857020548\n"
     ]
    },
    {
     "name": "stderr",
     "output_type": "stream",
     "text": [
      "100%|██████████| 43/43 [00:48<00:00,  1.13s/it, loss=21.6]\n"
     ]
    },
    {
     "name": "stdout",
     "output_type": "stream",
     "text": [
      "Test loss: 45.13041381835937 Test Box IoU: 0.8927724132799122\n"
     ]
    },
    {
     "name": "stderr",
     "output_type": "stream",
     "text": [
      "100%|██████████| 43/43 [00:49<00:00,  1.16s/it, loss=38.7]\n"
     ]
    },
    {
     "name": "stdout",
     "output_type": "stream",
     "text": [
      "Test loss: 41.7737060546875 Test Box IoU: 0.8882388807322881\n"
     ]
    },
    {
     "name": "stderr",
     "output_type": "stream",
     "text": [
      "100%|██████████| 43/43 [00:50<00:00,  1.16s/it, loss=53]  \n"
     ]
    },
    {
     "name": "stdout",
     "output_type": "stream",
     "text": [
      "Test loss: 41.958779907226564 Test Box IoU: 0.9028337034460616\n"
     ]
    },
    {
     "name": "stderr",
     "output_type": "stream",
     "text": [
      "100%|██████████| 43/43 [00:48<00:00,  1.13s/it, loss=22.2]\n"
     ]
    },
    {
     "name": "stdout",
     "output_type": "stream",
     "text": [
      "Test loss: 43.82137756347656 Test Box IoU: 0.8997359602418664\n"
     ]
    },
    {
     "name": "stderr",
     "output_type": "stream",
     "text": [
      "100%|██████████| 43/43 [00:48<00:00,  1.13s/it, loss=43.2]\n"
     ]
    },
    {
     "name": "stdout",
     "output_type": "stream",
     "text": [
      "Test loss: 63.60228271484375 Test Box IoU: 0.8790841298560573\n"
     ]
    },
    {
     "name": "stderr",
     "output_type": "stream",
     "text": [
      "100%|██████████| 43/43 [00:49<00:00,  1.16s/it, loss=18.4]\n"
     ]
    },
    {
     "name": "stdout",
     "output_type": "stream",
     "text": [
      "Test loss: 45.674127197265626 Test Box IoU: 0.886549858197774\n"
     ]
    },
    {
     "name": "stderr",
     "output_type": "stream",
     "text": [
      "100%|██████████| 43/43 [00:48<00:00,  1.14s/it, loss=24.4]\n"
     ]
    },
    {
     "name": "stdout",
     "output_type": "stream",
     "text": [
      "Test loss: 50.6965576171875 Test Box IoU: 0.8563681824566567\n"
     ]
    },
    {
     "name": "stderr",
     "output_type": "stream",
     "text": [
      "100%|██████████| 43/43 [00:49<00:00,  1.15s/it, loss=37]  \n"
     ]
    },
    {
     "name": "stdout",
     "output_type": "stream",
     "text": [
      "Test loss: 40.29758911132812 Test Box IoU: 0.9035459544560681\n"
     ]
    },
    {
     "name": "stderr",
     "output_type": "stream",
     "text": [
      "100%|██████████| 43/43 [00:48<00:00,  1.13s/it, loss=38.2]\n"
     ]
    },
    {
     "name": "stdout",
     "output_type": "stream",
     "text": [
      "Test loss: 50.7966796875 Test Box IoU: 0.888782657989084\n"
     ]
    },
    {
     "name": "stderr",
     "output_type": "stream",
     "text": [
      "100%|██████████| 43/43 [00:49<00:00,  1.14s/it, loss=45.2]\n"
     ]
    },
    {
     "name": "stdout",
     "output_type": "stream",
     "text": [
      "Test loss: 41.962039184570315 Test Box IoU: 0.8923500792620933\n"
     ]
    },
    {
     "name": "stderr",
     "output_type": "stream",
     "text": [
      "100%|██████████| 43/43 [00:51<00:00,  1.19s/it, loss=18.9]\n"
     ]
    },
    {
     "name": "stdout",
     "output_type": "stream",
     "text": [
      "Test loss: 41.452947998046874 Test Box IoU: 0.8983809588706657\n"
     ]
    },
    {
     "name": "stderr",
     "output_type": "stream",
     "text": [
      "100%|██████████| 43/43 [00:53<00:00,  1.25s/it, loss=13.5]\n"
     ]
    },
    {
     "name": "stdout",
     "output_type": "stream",
     "text": [
      "Test loss: 56.938934326171875 Test Box IoU: 0.893725669547303\n"
     ]
    },
    {
     "name": "stderr",
     "output_type": "stream",
     "text": [
      "100%|██████████| 43/43 [00:50<00:00,  1.18s/it, loss=43.6]\n"
     ]
    },
    {
     "name": "stdout",
     "output_type": "stream",
     "text": [
      "Test loss: 43.268316650390624 Test Box IoU: 0.8953264837395655\n"
     ]
    },
    {
     "name": "stderr",
     "output_type": "stream",
     "text": [
      "100%|██████████| 43/43 [00:53<00:00,  1.23s/it, loss=29.7]\n"
     ]
    },
    {
     "name": "stdout",
     "output_type": "stream",
     "text": [
      "Test loss: 47.11753540039062 Test Box IoU: 0.8873756095154645\n"
     ]
    },
    {
     "name": "stderr",
     "output_type": "stream",
     "text": [
      "100%|██████████| 43/43 [00:53<00:00,  1.23s/it, loss=26.8]\n"
     ]
    },
    {
     "name": "stdout",
     "output_type": "stream",
     "text": [
      "Test loss: 47.045013427734375 Test Box IoU: 0.8771130287483947\n"
     ]
    },
    {
     "name": "stderr",
     "output_type": "stream",
     "text": [
      "100%|██████████| 43/43 [00:53<00:00,  1.25s/it, loss=16.9]\n"
     ]
    },
    {
     "name": "stdout",
     "output_type": "stream",
     "text": [
      "Test loss: 39.011053466796874 Test Box IoU: 0.8971742603876819\n",
      "=> Saving checkpoint\n",
      "Test loss: 39.084103393554685 Test Box IoU: 0.8886240083877355\n"
     ]
    },
    {
     "data": {
      "text/html": [
       "<style>\n",
       "    table.wandb td:nth-child(1) { padding: 0 10px; text-align: left ; width: auto;} td:nth-child(2) {text-align: left ; width: 100%}\n",
       "    .wandb-row { display: flex; flex-direction: row; flex-wrap: wrap; justify-content: flex-start; width: 100% }\n",
       "    .wandb-col { display: flex; flex-direction: column; flex-basis: 100%; flex: 1; padding: 10px; }\n",
       "    </style>\n",
       "<div class=\"wandb-row\"><div class=\"wandb-col\"><h3>Run history:</h3><br/><table class=\"wandb\"><tr><td>test Box IoU</td><td>▁</td></tr><tr><td>test loss</td><td>▁</td></tr><tr><td>val Box IoU</td><td>▆▅▆▇▅▁▆▅▇█▇▇▅▆▅▆▇▅▇▅▆▆██▇▇▇▇▇██▆▄█▇▇▇▇▇█</td></tr><tr><td>val loss</td><td>▄▅▅▂▅█▄▃▃▂▃▁▂▂▂▃▂▄▃▃▃▄▂▂▁▂▂▂▁▁▂▄▂▁▂▁▃▂▂▁</td></tr></table><br/></div><div class=\"wandb-col\"><h3>Run summary:</h3><br/><table class=\"wandb\"><tr><td>test Box IoU</td><td>0.88862</td></tr><tr><td>test loss</td><td>39.0841</td></tr><tr><td>val Box IoU</td><td>0.89717</td></tr><tr><td>val loss</td><td>39.01105</td></tr></table><br/></div></div>"
      ],
      "text/plain": [
       "<IPython.core.display.HTML object>"
      ]
     },
     "metadata": {},
     "output_type": "display_data"
    },
    {
     "data": {
      "text/html": [
       " View run <strong style=\"color:#cdcd00\">EffNet & Monai_unet</strong> at: <a href='https://wandb.ai/ulm-university/Fixpoint%20detection%20%2B%20segmentation%20simulated/runs/j1myfppi' target=\"_blank\">https://wandb.ai/ulm-university/Fixpoint%20detection%20%2B%20segmentation%20simulated/runs/j1myfppi</a><br/> View project at: <a href='https://wandb.ai/ulm-university/Fixpoint%20detection%20%2B%20segmentation%20simulated' target=\"_blank\">https://wandb.ai/ulm-university/Fixpoint%20detection%20%2B%20segmentation%20simulated</a><br/>Synced 5 W&B file(s), 0 media file(s), 0 artifact file(s) and 0 other file(s)"
      ],
      "text/plain": [
       "<IPython.core.display.HTML object>"
      ]
     },
     "metadata": {},
     "output_type": "display_data"
    },
    {
     "data": {
      "text/html": [
       "Find logs at: <code>./wandb/run-20241024_142932-j1myfppi/logs</code>"
      ],
      "text/plain": [
       "<IPython.core.display.HTML object>"
      ]
     },
     "metadata": {},
     "output_type": "display_data"
    },
    {
     "data": {
      "text/html": [
       "The new W&B backend becomes opt-out in version 0.18.0; try it out with `wandb.require(\"core\")`! See https://wandb.me/wandb-core for more information."
      ],
      "text/plain": [
       "<IPython.core.display.HTML object>"
      ]
     },
     "metadata": {},
     "output_type": "display_data"
    },
    {
     "name": "stdout",
     "output_type": "stream",
     "text": [
      "=> Loading checkpoint\n",
      "=> Loading checkpoint\n"
     ]
    },
    {
     "data": {
      "text/html": [
       "wandb version 0.18.5 is available!  To upgrade, please run:\n",
       " $ pip install wandb --upgrade"
      ],
      "text/plain": [
       "<IPython.core.display.HTML object>"
      ]
     },
     "metadata": {},
     "output_type": "display_data"
    },
    {
     "data": {
      "text/html": [
       "Tracking run with wandb version 0.17.2"
      ],
      "text/plain": [
       "<IPython.core.display.HTML object>"
      ]
     },
     "metadata": {},
     "output_type": "display_data"
    },
    {
     "data": {
      "text/html": [
       "Run data is saved locally in <code>/home/alex/Documents/new try/Code/Studie_daten/wandb/run-20241024_151943-y880ezba</code>"
      ],
      "text/plain": [
       "<IPython.core.display.HTML object>"
      ]
     },
     "metadata": {},
     "output_type": "display_data"
    },
    {
     "data": {
      "text/html": [
       "Syncing run <strong><a href='https://wandb.ai/ulm-university/Fixpoint%20detection%20%2B%20segmentation%20simulated/runs/y880ezba' target=\"_blank\">EffNet & Monai_unet</a></strong> to <a href='https://wandb.ai/ulm-university/Fixpoint%20detection%20%2B%20segmentation%20simulated' target=\"_blank\">Weights & Biases</a> (<a href='https://wandb.me/run' target=\"_blank\">docs</a>)<br/>"
      ],
      "text/plain": [
       "<IPython.core.display.HTML object>"
      ]
     },
     "metadata": {},
     "output_type": "display_data"
    },
    {
     "data": {
      "text/html": [
       " View project at <a href='https://wandb.ai/ulm-university/Fixpoint%20detection%20%2B%20segmentation%20simulated' target=\"_blank\">https://wandb.ai/ulm-university/Fixpoint%20detection%20%2B%20segmentation%20simulated</a>"
      ],
      "text/plain": [
       "<IPython.core.display.HTML object>"
      ]
     },
     "metadata": {},
     "output_type": "display_data"
    },
    {
     "data": {
      "text/html": [
       " View run at <a href='https://wandb.ai/ulm-university/Fixpoint%20detection%20%2B%20segmentation%20simulated/runs/y880ezba' target=\"_blank\">https://wandb.ai/ulm-university/Fixpoint%20detection%20%2B%20segmentation%20simulated/runs/y880ezba</a>"
      ],
      "text/plain": [
       "<IPython.core.display.HTML object>"
      ]
     },
     "metadata": {},
     "output_type": "display_data"
    },
    {
     "name": "stderr",
     "output_type": "stream",
     "text": [
      "100%|██████████| 43/43 [00:52<00:00,  1.21s/it, loss=56.9]\n"
     ]
    },
    {
     "name": "stdout",
     "output_type": "stream",
     "text": [
      "Test loss: 67.60908203125 Test Box IoU: 0.8630192377795912\n"
     ]
    },
    {
     "name": "stderr",
     "output_type": "stream",
     "text": [
      "100%|██████████| 43/43 [00:52<00:00,  1.23s/it, loss=45.2]\n"
     ]
    },
    {
     "name": "stdout",
     "output_type": "stream",
     "text": [
      "Test loss: 81.36753540039062 Test Box IoU: 0.8675604519778735\n"
     ]
    },
    {
     "name": "stderr",
     "output_type": "stream",
     "text": [
      "100%|██████████| 43/43 [00:52<00:00,  1.22s/it, loss=36.1]\n"
     ]
    },
    {
     "name": "stdout",
     "output_type": "stream",
     "text": [
      "Test loss: 52.64426879882812 Test Box IoU: 0.8951434827830693\n"
     ]
    },
    {
     "name": "stderr",
     "output_type": "stream",
     "text": [
      "100%|██████████| 43/43 [00:50<00:00,  1.18s/it, loss=48.7]\n"
     ]
    },
    {
     "name": "stdout",
     "output_type": "stream",
     "text": [
      "Test loss: 42.548703002929685 Test Box IoU: 0.8901180110565604\n"
     ]
    },
    {
     "name": "stderr",
     "output_type": "stream",
     "text": [
      "100%|██████████| 43/43 [00:50<00:00,  1.18s/it, loss=62.3]\n"
     ]
    },
    {
     "name": "stdout",
     "output_type": "stream",
     "text": [
      "Test loss: 54.00016479492187 Test Box IoU: 0.8721539745592091\n"
     ]
    },
    {
     "name": "stderr",
     "output_type": "stream",
     "text": [
      "100%|██████████| 43/43 [00:52<00:00,  1.22s/it, loss=46.7]\n"
     ]
    },
    {
     "name": "stdout",
     "output_type": "stream",
     "text": [
      "Test loss: 54.52916259765625 Test Box IoU: 0.8804393402517658\n"
     ]
    },
    {
     "name": "stderr",
     "output_type": "stream",
     "text": [
      "100%|██████████| 43/43 [00:53<00:00,  1.24s/it, loss=24.9]\n"
     ]
    },
    {
     "name": "stdout",
     "output_type": "stream",
     "text": [
      "Test loss: 66.73153076171874 Test Box IoU: 0.8865139059824486\n"
     ]
    },
    {
     "name": "stderr",
     "output_type": "stream",
     "text": [
      "100%|██████████| 43/43 [00:54<00:00,  1.26s/it, loss=123] \n"
     ]
    },
    {
     "name": "stdout",
     "output_type": "stream",
     "text": [
      "Test loss: 48.36256103515625 Test Box IoU: 0.8819960502729024\n"
     ]
    },
    {
     "name": "stderr",
     "output_type": "stream",
     "text": [
      "100%|██████████| 43/43 [00:53<00:00,  1.23s/it, loss=67.7]\n"
     ]
    },
    {
     "name": "stdout",
     "output_type": "stream",
     "text": [
      "Test loss: 58.19459838867188 Test Box IoU: 0.8599649194168718\n"
     ]
    },
    {
     "name": "stderr",
     "output_type": "stream",
     "text": [
      "100%|██████████| 43/43 [00:54<00:00,  1.27s/it, loss=32.3]\n"
     ]
    },
    {
     "name": "stdout",
     "output_type": "stream",
     "text": [
      "Test loss: 51.9223388671875 Test Box IoU: 0.8979564300955158\n"
     ]
    },
    {
     "name": "stderr",
     "output_type": "stream",
     "text": [
      "100%|██████████| 43/43 [00:52<00:00,  1.22s/it, loss=37]  \n"
     ]
    },
    {
     "name": "stdout",
     "output_type": "stream",
     "text": [
      "Test loss: 56.20638427734375 Test Box IoU: 0.8742982524715058\n"
     ]
    },
    {
     "name": "stderr",
     "output_type": "stream",
     "text": [
      "100%|██████████| 43/43 [00:53<00:00,  1.25s/it, loss=76.1]\n"
     ]
    },
    {
     "name": "stdout",
     "output_type": "stream",
     "text": [
      "Test loss: 60.829046630859374 Test Box IoU: 0.8923038848458904\n"
     ]
    },
    {
     "name": "stderr",
     "output_type": "stream",
     "text": [
      "100%|██████████| 43/43 [00:54<00:00,  1.26s/it, loss=23.3]\n"
     ]
    },
    {
     "name": "stdout",
     "output_type": "stream",
     "text": [
      "Test loss: 48.39912414550781 Test Box IoU: 0.8894487145828874\n"
     ]
    },
    {
     "name": "stderr",
     "output_type": "stream",
     "text": [
      "100%|██████████| 43/43 [00:53<00:00,  1.24s/it, loss=120] \n"
     ]
    },
    {
     "name": "stdout",
     "output_type": "stream",
     "text": [
      "Test loss: 52.14601440429688 Test Box IoU: 0.8667674652517658\n"
     ]
    },
    {
     "name": "stderr",
     "output_type": "stream",
     "text": [
      "100%|██████████| 43/43 [00:51<00:00,  1.20s/it, loss=59.4]\n"
     ]
    },
    {
     "name": "stdout",
     "output_type": "stream",
     "text": [
      "Test loss: 52.616815185546876 Test Box IoU: 0.8880518037978917\n"
     ]
    },
    {
     "name": "stderr",
     "output_type": "stream",
     "text": [
      "100%|██████████| 43/43 [00:51<00:00,  1.20s/it, loss=41.2]\n"
     ]
    },
    {
     "name": "stdout",
     "output_type": "stream",
     "text": [
      "Test loss: 54.07855224609375 Test Box IoU: 0.8822803236033818\n"
     ]
    },
    {
     "name": "stderr",
     "output_type": "stream",
     "text": [
      "100%|██████████| 43/43 [00:53<00:00,  1.24s/it, loss=30.5]\n"
     ]
    },
    {
     "name": "stdout",
     "output_type": "stream",
     "text": [
      "Test loss: 47.76454467773438 Test Box IoU: 0.8960644447640197\n"
     ]
    },
    {
     "name": "stderr",
     "output_type": "stream",
     "text": [
      "100%|██████████| 43/43 [00:52<00:00,  1.23s/it, loss=37.1]\n"
     ]
    },
    {
     "name": "stdout",
     "output_type": "stream",
     "text": [
      "Test loss: 49.756246948242186 Test Box IoU: 0.8910256999812715\n"
     ]
    },
    {
     "name": "stderr",
     "output_type": "stream",
     "text": [
      "100%|██████████| 43/43 [00:52<00:00,  1.23s/it, loss=33.2]\n"
     ]
    },
    {
     "name": "stdout",
     "output_type": "stream",
     "text": [
      "Test loss: 42.54337158203125 Test Box IoU: 0.9022886720422196\n"
     ]
    },
    {
     "name": "stderr",
     "output_type": "stream",
     "text": [
      "100%|██████████| 43/43 [00:53<00:00,  1.25s/it, loss=61.7]\n"
     ]
    },
    {
     "name": "stdout",
     "output_type": "stream",
     "text": [
      "Test loss: 49.5125244140625 Test Box IoU: 0.8721230911881956\n"
     ]
    },
    {
     "name": "stderr",
     "output_type": "stream",
     "text": [
      "100%|██████████| 43/43 [00:53<00:00,  1.24s/it, loss=80.6]\n"
     ]
    },
    {
     "name": "stdout",
     "output_type": "stream",
     "text": [
      "Test loss: 46.8816650390625 Test Box IoU: 0.8947300323068279\n"
     ]
    },
    {
     "name": "stderr",
     "output_type": "stream",
     "text": [
      "100%|██████████| 43/43 [00:50<00:00,  1.17s/it, loss=36.5]\n"
     ]
    },
    {
     "name": "stdout",
     "output_type": "stream",
     "text": [
      "Test loss: 46.5817138671875 Test Box IoU: 0.8944906992455052\n"
     ]
    },
    {
     "name": "stderr",
     "output_type": "stream",
     "text": [
      "100%|██████████| 43/43 [00:50<00:00,  1.18s/it, loss=31.1]\n"
     ]
    },
    {
     "name": "stdout",
     "output_type": "stream",
     "text": [
      "Test loss: 60.814263916015626 Test Box IoU: 0.8934352299938463\n"
     ]
    },
    {
     "name": "stderr",
     "output_type": "stream",
     "text": [
      "100%|██████████| 43/43 [00:50<00:00,  1.17s/it, loss=31.1]\n"
     ]
    },
    {
     "name": "stdout",
     "output_type": "stream",
     "text": [
      "Test loss: 45.32392272949219 Test Box IoU: 0.8985696034888698\n"
     ]
    },
    {
     "name": "stderr",
     "output_type": "stream",
     "text": [
      "100%|██████████| 43/43 [00:50<00:00,  1.17s/it, loss=43.7]\n"
     ]
    },
    {
     "name": "stdout",
     "output_type": "stream",
     "text": [
      "Test loss: 54.41148071289062 Test Box IoU: 0.8788312102017337\n"
     ]
    },
    {
     "name": "stderr",
     "output_type": "stream",
     "text": [
      "100%|██████████| 43/43 [00:50<00:00,  1.17s/it, loss=56.2]\n"
     ]
    },
    {
     "name": "stdout",
     "output_type": "stream",
     "text": [
      "Test loss: 45.46931457519531 Test Box IoU: 0.8969297017136665\n"
     ]
    },
    {
     "name": "stderr",
     "output_type": "stream",
     "text": [
      "100%|██████████| 43/43 [00:50<00:00,  1.17s/it, loss=20.6]\n"
     ]
    },
    {
     "name": "stdout",
     "output_type": "stream",
     "text": [
      "Test loss: 51.655389404296876 Test Box IoU: 0.893747721632866\n"
     ]
    },
    {
     "name": "stderr",
     "output_type": "stream",
     "text": [
      "100%|██████████| 43/43 [00:51<00:00,  1.21s/it, loss=44.4]\n"
     ]
    },
    {
     "name": "stdout",
     "output_type": "stream",
     "text": [
      "Test loss: 57.136907958984374 Test Box IoU: 0.8798170742923266\n"
     ]
    },
    {
     "name": "stderr",
     "output_type": "stream",
     "text": [
      "100%|██████████| 43/43 [00:52<00:00,  1.22s/it, loss=25.2]\n"
     ]
    },
    {
     "name": "stdout",
     "output_type": "stream",
     "text": [
      "Test loss: 41.93765869140625 Test Box IoU: 0.8949970611154217\n"
     ]
    },
    {
     "name": "stderr",
     "output_type": "stream",
     "text": [
      "100%|██████████| 43/43 [00:53<00:00,  1.24s/it, loss=64.1]\n"
     ]
    },
    {
     "name": "stdout",
     "output_type": "stream",
     "text": [
      "Test loss: 42.91261291503906 Test Box IoU: 0.902189071864298\n"
     ]
    },
    {
     "name": "stderr",
     "output_type": "stream",
     "text": [
      "100%|██████████| 43/43 [00:52<00:00,  1.21s/it, loss=29]  \n"
     ]
    },
    {
     "name": "stdout",
     "output_type": "stream",
     "text": [
      "Test loss: 45.70651550292969 Test Box IoU: 0.8981343099515732\n"
     ]
    },
    {
     "name": "stderr",
     "output_type": "stream",
     "text": [
      "100%|██████████| 43/43 [00:52<00:00,  1.23s/it, loss=34.3]\n"
     ]
    },
    {
     "name": "stdout",
     "output_type": "stream",
     "text": [
      "Test loss: 48.872073364257815 Test Box IoU: 0.8950569466368793\n"
     ]
    },
    {
     "name": "stderr",
     "output_type": "stream",
     "text": [
      "100%|██████████| 43/43 [00:54<00:00,  1.26s/it, loss=20.3]\n"
     ]
    },
    {
     "name": "stdout",
     "output_type": "stream",
     "text": [
      "Test loss: 49.25084228515625 Test Box IoU: 0.9026997187366225\n"
     ]
    },
    {
     "name": "stderr",
     "output_type": "stream",
     "text": [
      "100%|██████████| 43/43 [00:55<00:00,  1.29s/it, loss=77.8]\n"
     ]
    },
    {
     "name": "stdout",
     "output_type": "stream",
     "text": [
      "Test loss: 56.446893310546876 Test Box IoU: 0.8917476706308861\n"
     ]
    },
    {
     "name": "stderr",
     "output_type": "stream",
     "text": [
      "100%|██████████| 43/43 [00:50<00:00,  1.18s/it, loss=62.4]\n"
     ]
    },
    {
     "name": "stdout",
     "output_type": "stream",
     "text": [
      "Test loss: 45.89332275390625 Test Box IoU: 0.8860924080626605\n"
     ]
    },
    {
     "name": "stderr",
     "output_type": "stream",
     "text": [
      "100%|██████████| 43/43 [00:50<00:00,  1.19s/it, loss=38.6]\n"
     ]
    },
    {
     "name": "stdout",
     "output_type": "stream",
     "text": [
      "Test loss: 51.13529663085937 Test Box IoU: 0.8909104229652718\n"
     ]
    },
    {
     "name": "stderr",
     "output_type": "stream",
     "text": [
      "100%|██████████| 43/43 [00:50<00:00,  1.18s/it, loss=18.7]\n"
     ]
    },
    {
     "name": "stdout",
     "output_type": "stream",
     "text": [
      "Test loss: 51.607733154296874 Test Box IoU: 0.8927759666965432\n"
     ]
    },
    {
     "name": "stderr",
     "output_type": "stream",
     "text": [
      "100%|██████████| 43/43 [00:51<00:00,  1.19s/it, loss=21.7]\n"
     ]
    },
    {
     "name": "stdout",
     "output_type": "stream",
     "text": [
      "Test loss: 49.385946655273436 Test Box IoU: 0.8768512255524936\n"
     ]
    },
    {
     "name": "stderr",
     "output_type": "stream",
     "text": [
      "100%|██████████| 43/43 [00:49<00:00,  1.16s/it, loss=47.7]\n"
     ]
    },
    {
     "name": "stdout",
     "output_type": "stream",
     "text": [
      "Test loss: 44.42525634765625 Test Box IoU: 0.8740861448523116\n"
     ]
    },
    {
     "name": "stderr",
     "output_type": "stream",
     "text": [
      "100%|██████████| 43/43 [00:50<00:00,  1.18s/it, loss=36.8]\n"
     ]
    },
    {
     "name": "stdout",
     "output_type": "stream",
     "text": [
      "Test loss: 52.87208862304688 Test Box IoU: 0.8726161277457459\n"
     ]
    },
    {
     "name": "stderr",
     "output_type": "stream",
     "text": [
      "100%|██████████| 43/43 [00:50<00:00,  1.17s/it, loss=52.8]\n"
     ]
    },
    {
     "name": "stdout",
     "output_type": "stream",
     "text": [
      "Test loss: 63.965338134765624 Test Box IoU: 0.8779024098017444\n"
     ]
    },
    {
     "name": "stderr",
     "output_type": "stream",
     "text": [
      "100%|██████████| 43/43 [00:50<00:00,  1.17s/it, loss=43.1]\n"
     ]
    },
    {
     "name": "stdout",
     "output_type": "stream",
     "text": [
      "Test loss: 46.25594482421875 Test Box IoU: 0.9095584399079624\n"
     ]
    },
    {
     "name": "stderr",
     "output_type": "stream",
     "text": [
      "100%|██████████| 43/43 [00:50<00:00,  1.17s/it, loss=39.8]\n"
     ]
    },
    {
     "name": "stdout",
     "output_type": "stream",
     "text": [
      "Test loss: 42.246438598632814 Test Box IoU: 0.9057603600906999\n"
     ]
    },
    {
     "name": "stderr",
     "output_type": "stream",
     "text": [
      "100%|██████████| 43/43 [00:50<00:00,  1.17s/it, loss=24.9]\n"
     ]
    },
    {
     "name": "stdout",
     "output_type": "stream",
     "text": [
      "Test loss: 44.46037902832031 Test Box IoU: 0.8828777156464042\n"
     ]
    },
    {
     "name": "stderr",
     "output_type": "stream",
     "text": [
      "100%|██████████| 43/43 [00:50<00:00,  1.17s/it, loss=19.6]\n"
     ]
    },
    {
     "name": "stdout",
     "output_type": "stream",
     "text": [
      "Test loss: 39.63465881347656 Test Box IoU: 0.9079236592331977\n"
     ]
    },
    {
     "name": "stderr",
     "output_type": "stream",
     "text": [
      "100%|██████████| 43/43 [00:50<00:00,  1.17s/it, loss=58.7]\n"
     ]
    },
    {
     "name": "stdout",
     "output_type": "stream",
     "text": [
      "Test loss: 48.17659301757813 Test Box IoU: 0.8933189078553082\n"
     ]
    },
    {
     "name": "stderr",
     "output_type": "stream",
     "text": [
      "100%|██████████| 43/43 [00:49<00:00,  1.15s/it, loss=84.6]\n"
     ]
    },
    {
     "name": "stdout",
     "output_type": "stream",
     "text": [
      "Test loss: 61.168572998046876 Test Box IoU: 0.8835448173627461\n"
     ]
    },
    {
     "name": "stderr",
     "output_type": "stream",
     "text": [
      "100%|██████████| 43/43 [00:50<00:00,  1.17s/it, loss=60.1]\n"
     ]
    },
    {
     "name": "stdout",
     "output_type": "stream",
     "text": [
      "Test loss: 50.25082702636719 Test Box IoU: 0.8844248105401862\n"
     ]
    },
    {
     "name": "stderr",
     "output_type": "stream",
     "text": [
      "100%|██████████| 43/43 [00:50<00:00,  1.16s/it, loss=34.5]\n"
     ]
    },
    {
     "name": "stdout",
     "output_type": "stream",
     "text": [
      "Test loss: 46.93312377929688 Test Box IoU: 0.89699679858064\n"
     ]
    },
    {
     "name": "stderr",
     "output_type": "stream",
     "text": [
      "100%|██████████| 43/43 [00:50<00:00,  1.16s/it, loss=19.9]\n"
     ]
    },
    {
     "name": "stdout",
     "output_type": "stream",
     "text": [
      "Test loss: 41.62592468261719 Test Box IoU: 0.8967205726937072\n",
      "=> Saving checkpoint\n",
      "Test loss: 49.62057189941406 Test Box IoU: 0.8870297784674658\n"
     ]
    },
    {
     "data": {
      "text/html": [
       "<style>\n",
       "    table.wandb td:nth-child(1) { padding: 0 10px; text-align: left ; width: auto;} td:nth-child(2) {text-align: left ; width: 100%}\n",
       "    .wandb-row { display: flex; flex-direction: row; flex-wrap: wrap; justify-content: flex-start; width: 100% }\n",
       "    .wandb-col { display: flex; flex-direction: column; flex-basis: 100%; flex: 1; padding: 10px; }\n",
       "    </style>\n",
       "<div class=\"wandb-row\"><div class=\"wandb-col\"><h3>Run history:</h3><br/><table class=\"wandb\"><tr><td>test Box IoU</td><td>▁</td></tr><tr><td>test loss</td><td>▁</td></tr><tr><td>val Box IoU</td><td>▁▂▆▅▄▅▄▁▃▆▅▂▄▆▅▇▆▆▆▆▆▆▄▆▆▆▇▅▅▆▃▃▄█▇▄▆▄▄▆</td></tr><tr><td>val loss</td><td>▆█▃▁▃▅▂▄▄▄▂▃▃▂▂▁▂▂▄▂▂▃▄▁▂▂▂▄▃▃▂▁▅▂▁▁▂▄▃▁</td></tr></table><br/></div><div class=\"wandb-col\"><h3>Run summary:</h3><br/><table class=\"wandb\"><tr><td>test Box IoU</td><td>0.88703</td></tr><tr><td>test loss</td><td>49.62057</td></tr><tr><td>val Box IoU</td><td>0.89672</td></tr><tr><td>val loss</td><td>41.62592</td></tr></table><br/></div></div>"
      ],
      "text/plain": [
       "<IPython.core.display.HTML object>"
      ]
     },
     "metadata": {},
     "output_type": "display_data"
    },
    {
     "data": {
      "text/html": [
       " View run <strong style=\"color:#cdcd00\">EffNet & Monai_unet</strong> at: <a href='https://wandb.ai/ulm-university/Fixpoint%20detection%20%2B%20segmentation%20simulated/runs/y880ezba' target=\"_blank\">https://wandb.ai/ulm-university/Fixpoint%20detection%20%2B%20segmentation%20simulated/runs/y880ezba</a><br/> View project at: <a href='https://wandb.ai/ulm-university/Fixpoint%20detection%20%2B%20segmentation%20simulated' target=\"_blank\">https://wandb.ai/ulm-university/Fixpoint%20detection%20%2B%20segmentation%20simulated</a><br/>Synced 5 W&B file(s), 0 media file(s), 0 artifact file(s) and 0 other file(s)"
      ],
      "text/plain": [
       "<IPython.core.display.HTML object>"
      ]
     },
     "metadata": {},
     "output_type": "display_data"
    },
    {
     "data": {
      "text/html": [
       "Find logs at: <code>./wandb/run-20241024_151943-y880ezba/logs</code>"
      ],
      "text/plain": [
       "<IPython.core.display.HTML object>"
      ]
     },
     "metadata": {},
     "output_type": "display_data"
    },
    {
     "data": {
      "text/html": [
       "The new W&B backend becomes opt-out in version 0.18.0; try it out with `wandb.require(\"core\")`! See https://wandb.me/wandb-core for more information."
      ],
      "text/plain": [
       "<IPython.core.display.HTML object>"
      ]
     },
     "metadata": {},
     "output_type": "display_data"
    },
    {
     "name": "stdout",
     "output_type": "stream",
     "text": [
      "=> Loading checkpoint\n",
      "=> Loading checkpoint\n"
     ]
    },
    {
     "data": {
      "text/html": [
       "wandb version 0.18.5 is available!  To upgrade, please run:\n",
       " $ pip install wandb --upgrade"
      ],
      "text/plain": [
       "<IPython.core.display.HTML object>"
      ]
     },
     "metadata": {},
     "output_type": "display_data"
    },
    {
     "data": {
      "text/html": [
       "Tracking run with wandb version 0.17.2"
      ],
      "text/plain": [
       "<IPython.core.display.HTML object>"
      ]
     },
     "metadata": {},
     "output_type": "display_data"
    },
    {
     "data": {
      "text/html": [
       "Run data is saved locally in <code>/home/alex/Documents/new try/Code/Studie_daten/wandb/run-20241024_161220-3abfgmfk</code>"
      ],
      "text/plain": [
       "<IPython.core.display.HTML object>"
      ]
     },
     "metadata": {},
     "output_type": "display_data"
    },
    {
     "data": {
      "text/html": [
       "Syncing run <strong><a href='https://wandb.ai/ulm-university/Fixpoint%20detection%20%2B%20segmentation%20simulated/runs/3abfgmfk' target=\"_blank\">EffNet & Monai_unet</a></strong> to <a href='https://wandb.ai/ulm-university/Fixpoint%20detection%20%2B%20segmentation%20simulated' target=\"_blank\">Weights & Biases</a> (<a href='https://wandb.me/run' target=\"_blank\">docs</a>)<br/>"
      ],
      "text/plain": [
       "<IPython.core.display.HTML object>"
      ]
     },
     "metadata": {},
     "output_type": "display_data"
    },
    {
     "data": {
      "text/html": [
       " View project at <a href='https://wandb.ai/ulm-university/Fixpoint%20detection%20%2B%20segmentation%20simulated' target=\"_blank\">https://wandb.ai/ulm-university/Fixpoint%20detection%20%2B%20segmentation%20simulated</a>"
      ],
      "text/plain": [
       "<IPython.core.display.HTML object>"
      ]
     },
     "metadata": {},
     "output_type": "display_data"
    },
    {
     "data": {
      "text/html": [
       " View run at <a href='https://wandb.ai/ulm-university/Fixpoint%20detection%20%2B%20segmentation%20simulated/runs/3abfgmfk' target=\"_blank\">https://wandb.ai/ulm-university/Fixpoint%20detection%20%2B%20segmentation%20simulated/runs/3abfgmfk</a>"
      ],
      "text/plain": [
       "<IPython.core.display.HTML object>"
      ]
     },
     "metadata": {},
     "output_type": "display_data"
    },
    {
     "name": "stderr",
     "output_type": "stream",
     "text": [
      "100%|██████████| 43/43 [00:50<00:00,  1.16s/it, loss=48.1]\n"
     ]
    },
    {
     "name": "stdout",
     "output_type": "stream",
     "text": [
      "Test loss: 63.789703369140625 Test Box IoU: 0.8673011048199379\n"
     ]
    },
    {
     "name": "stderr",
     "output_type": "stream",
     "text": [
      "100%|██████████| 43/43 [00:50<00:00,  1.16s/it, loss=36.2]\n"
     ]
    },
    {
     "name": "stdout",
     "output_type": "stream",
     "text": [
      "Test loss: 46.34996337890625 Test Box IoU: 0.8994704991170804\n"
     ]
    },
    {
     "name": "stderr",
     "output_type": "stream",
     "text": [
      "100%|██████████| 43/43 [00:50<00:00,  1.17s/it, loss=77.1]\n"
     ]
    },
    {
     "name": "stdout",
     "output_type": "stream",
     "text": [
      "Test loss: 61.35062866210937 Test Box IoU: 0.866792861729452\n"
     ]
    },
    {
     "name": "stderr",
     "output_type": "stream",
     "text": [
      "100%|██████████| 43/43 [00:50<00:00,  1.16s/it, loss=117] \n"
     ]
    },
    {
     "name": "stdout",
     "output_type": "stream",
     "text": [
      "Test loss: 105.36658935546875 Test Box IoU: 0.7998753377836044\n"
     ]
    },
    {
     "name": "stderr",
     "output_type": "stream",
     "text": [
      "100%|██████████| 43/43 [00:50<00:00,  1.16s/it, loss=82]  \n"
     ]
    },
    {
     "name": "stdout",
     "output_type": "stream",
     "text": [
      "Test loss: 54.43428344726563 Test Box IoU: 0.8771148054567102\n"
     ]
    },
    {
     "name": "stderr",
     "output_type": "stream",
     "text": [
      "100%|██████████| 43/43 [00:49<00:00,  1.16s/it, loss=73.9]\n"
     ]
    },
    {
     "name": "stdout",
     "output_type": "stream",
     "text": [
      "Test loss: 56.94639282226562 Test Box IoU: 0.8850484351589255\n"
     ]
    },
    {
     "name": "stderr",
     "output_type": "stream",
     "text": [
      "100%|██████████| 43/43 [00:49<00:00,  1.15s/it, loss=31.8]\n"
     ]
    },
    {
     "name": "stdout",
     "output_type": "stream",
     "text": [
      "Test loss: 60.69835205078125 Test Box IoU: 0.8539347713940764\n"
     ]
    },
    {
     "name": "stderr",
     "output_type": "stream",
     "text": [
      "100%|██████████| 43/43 [00:50<00:00,  1.18s/it, loss=43.6]\n"
     ]
    },
    {
     "name": "stdout",
     "output_type": "stream",
     "text": [
      "Test loss: 62.360986328125 Test Box IoU: 0.8837773571275684\n"
     ]
    },
    {
     "name": "stderr",
     "output_type": "stream",
     "text": [
      "100%|██████████| 43/43 [00:49<00:00,  1.16s/it, loss=48.4]\n"
     ]
    },
    {
     "name": "stdout",
     "output_type": "stream",
     "text": [
      "Test loss: 51.34600830078125 Test Box IoU: 0.8801362547155929\n"
     ]
    },
    {
     "name": "stderr",
     "output_type": "stream",
     "text": [
      "100%|██████████| 43/43 [00:50<00:00,  1.17s/it, loss=89.6]\n"
     ]
    },
    {
     "name": "stdout",
     "output_type": "stream",
     "text": [
      "Test loss: 46.673004150390625 Test Box IoU: 0.8966231672731164\n"
     ]
    },
    {
     "name": "stderr",
     "output_type": "stream",
     "text": [
      "100%|██████████| 43/43 [00:50<00:00,  1.16s/it, loss=39.7]\n"
     ]
    },
    {
     "name": "stdout",
     "output_type": "stream",
     "text": [
      "Test loss: 61.6333984375 Test Box IoU: 0.8725170501290935\n"
     ]
    },
    {
     "name": "stderr",
     "output_type": "stream",
     "text": [
      "100%|██████████| 43/43 [00:50<00:00,  1.17s/it, loss=67.1]\n"
     ]
    },
    {
     "name": "stdout",
     "output_type": "stream",
     "text": [
      "Test loss: 51.54976806640625 Test Box IoU: 0.8897021567984803\n"
     ]
    },
    {
     "name": "stderr",
     "output_type": "stream",
     "text": [
      "100%|██████████| 43/43 [00:50<00:00,  1.17s/it, loss=39]  \n"
     ]
    },
    {
     "name": "stdout",
     "output_type": "stream",
     "text": [
      "Test loss: 49.14510498046875 Test Box IoU: 0.8991603067476456\n"
     ]
    },
    {
     "name": "stderr",
     "output_type": "stream",
     "text": [
      "100%|██████████| 43/43 [00:50<00:00,  1.17s/it, loss=43.9]\n"
     ]
    },
    {
     "name": "stdout",
     "output_type": "stream",
     "text": [
      "Test loss: 49.76399230957031 Test Box IoU: 0.9035852510635167\n"
     ]
    },
    {
     "name": "stderr",
     "output_type": "stream",
     "text": [
      "100%|██████████| 43/43 [00:50<00:00,  1.16s/it, loss=32]  \n"
     ]
    },
    {
     "name": "stdout",
     "output_type": "stream",
     "text": [
      "Test loss: 48.3465576171875 Test Box IoU: 0.8929376471532534\n"
     ]
    },
    {
     "name": "stderr",
     "output_type": "stream",
     "text": [
      "100%|██████████| 43/43 [00:50<00:00,  1.16s/it, loss=41.6]\n"
     ]
    },
    {
     "name": "stdout",
     "output_type": "stream",
     "text": [
      "Test loss: 50.902120971679686 Test Box IoU: 0.8850248153895548\n"
     ]
    },
    {
     "name": "stderr",
     "output_type": "stream",
     "text": [
      "100%|██████████| 43/43 [00:50<00:00,  1.17s/it, loss=36.3]\n"
     ]
    },
    {
     "name": "stdout",
     "output_type": "stream",
     "text": [
      "Test loss: 52.07411499023438 Test Box IoU: 0.8909007033256635\n"
     ]
    },
    {
     "name": "stderr",
     "output_type": "stream",
     "text": [
      "100%|██████████| 43/43 [00:49<00:00,  1.16s/it, loss=29]  \n"
     ]
    },
    {
     "name": "stdout",
     "output_type": "stream",
     "text": [
      "Test loss: 46.48432312011719 Test Box IoU: 0.8868561836138164\n"
     ]
    },
    {
     "name": "stderr",
     "output_type": "stream",
     "text": [
      "100%|██████████| 43/43 [00:49<00:00,  1.16s/it, loss=55.4]\n"
     ]
    },
    {
     "name": "stdout",
     "output_type": "stream",
     "text": [
      "Test loss: 93.4204345703125 Test Box IoU: 0.840839490498582\n"
     ]
    },
    {
     "name": "stderr",
     "output_type": "stream",
     "text": [
      "100%|██████████| 43/43 [00:49<00:00,  1.15s/it, loss=40]  \n"
     ]
    },
    {
     "name": "stdout",
     "output_type": "stream",
     "text": [
      "Test loss: 42.394415283203124 Test Box IoU: 0.8941269966020976\n"
     ]
    },
    {
     "name": "stderr",
     "output_type": "stream",
     "text": [
      "100%|██████████| 43/43 [00:50<00:00,  1.17s/it, loss=63.7]\n"
     ]
    },
    {
     "name": "stdout",
     "output_type": "stream",
     "text": [
      "Test loss: 55.17569580078125 Test Box IoU: 0.893270832218536\n"
     ]
    },
    {
     "name": "stderr",
     "output_type": "stream",
     "text": [
      "100%|██████████| 43/43 [00:49<00:00,  1.16s/it, loss=53.7]\n"
     ]
    },
    {
     "name": "stdout",
     "output_type": "stream",
     "text": [
      "Test loss: 54.715081787109376 Test Box IoU: 0.8805786550861515\n"
     ]
    },
    {
     "name": "stderr",
     "output_type": "stream",
     "text": [
      "100%|██████████| 43/43 [00:50<00:00,  1.18s/it, loss=56.2]\n"
     ]
    },
    {
     "name": "stdout",
     "output_type": "stream",
     "text": [
      "Test loss: 51.176580810546874 Test Box IoU: 0.8921781566045056\n"
     ]
    },
    {
     "name": "stderr",
     "output_type": "stream",
     "text": [
      "100%|██████████| 43/43 [00:50<00:00,  1.16s/it, loss=65]  \n"
     ]
    },
    {
     "name": "stdout",
     "output_type": "stream",
     "text": [
      "Test loss: 49.362799072265624 Test Box IoU: 0.8719413966348727\n"
     ]
    },
    {
     "name": "stderr",
     "output_type": "stream",
     "text": [
      "100%|██████████| 43/43 [00:53<00:00,  1.26s/it, loss=25.1]\n"
     ]
    },
    {
     "name": "stdout",
     "output_type": "stream",
     "text": [
      "Test loss: 44.662933349609375 Test Box IoU: 0.8987613834746896\n"
     ]
    },
    {
     "name": "stderr",
     "output_type": "stream",
     "text": [
      "100%|██████████| 43/43 [00:52<00:00,  1.23s/it, loss=24.2]\n"
     ]
    },
    {
     "name": "stdout",
     "output_type": "stream",
     "text": [
      "Test loss: 47.980368041992186 Test Box IoU: 0.899460152403949\n"
     ]
    },
    {
     "name": "stderr",
     "output_type": "stream",
     "text": [
      "100%|██████████| 43/43 [00:53<00:00,  1.24s/it, loss=21.6]\n"
     ]
    },
    {
     "name": "stdout",
     "output_type": "stream",
     "text": [
      "Test loss: 66.20324096679687 Test Box IoU: 0.8705163720535906\n"
     ]
    },
    {
     "name": "stderr",
     "output_type": "stream",
     "text": [
      "100%|██████████| 43/43 [00:53<00:00,  1.25s/it, loss=34.7]\n"
     ]
    },
    {
     "name": "stdout",
     "output_type": "stream",
     "text": [
      "Test loss: 70.36436157226562 Test Box IoU: 0.8792069317543343\n"
     ]
    },
    {
     "name": "stderr",
     "output_type": "stream",
     "text": [
      "100%|██████████| 43/43 [00:53<00:00,  1.25s/it, loss=35.6]\n"
     ]
    },
    {
     "name": "stdout",
     "output_type": "stream",
     "text": [
      "Test loss: 46.7938232421875 Test Box IoU: 0.9063180374772581\n"
     ]
    },
    {
     "name": "stderr",
     "output_type": "stream",
     "text": [
      "100%|██████████| 43/43 [00:53<00:00,  1.24s/it, loss=24.7]\n"
     ]
    },
    {
     "name": "stdout",
     "output_type": "stream",
     "text": [
      "Test loss: 47.47835693359375 Test Box IoU: 0.8934494436603703\n"
     ]
    },
    {
     "name": "stderr",
     "output_type": "stream",
     "text": [
      "100%|██████████| 43/43 [00:51<00:00,  1.21s/it, loss=24.6]\n"
     ]
    },
    {
     "name": "stdout",
     "output_type": "stream",
     "text": [
      "Test loss: 51.60015869140625 Test Box IoU: 0.8787034962275256\n"
     ]
    },
    {
     "name": "stderr",
     "output_type": "stream",
     "text": [
      "100%|██████████| 43/43 [00:52<00:00,  1.23s/it, loss=22.1]\n"
     ]
    },
    {
     "name": "stdout",
     "output_type": "stream",
     "text": [
      "Test loss: 44.51362609863281 Test Box IoU: 0.8863805483465326\n"
     ]
    },
    {
     "name": "stderr",
     "output_type": "stream",
     "text": [
      "100%|██████████| 43/43 [00:53<00:00,  1.24s/it, loss=35.8]\n"
     ]
    },
    {
     "name": "stdout",
     "output_type": "stream",
     "text": [
      "Test loss: 41.254269409179685 Test Box IoU: 0.8929219703151755\n"
     ]
    },
    {
     "name": "stderr",
     "output_type": "stream",
     "text": [
      "100%|██████████| 43/43 [00:53<00:00,  1.24s/it, loss=28.4]\n"
     ]
    },
    {
     "name": "stdout",
     "output_type": "stream",
     "text": [
      "Test loss: 40.252899169921875 Test Box IoU: 0.8925325576573202\n"
     ]
    },
    {
     "name": "stderr",
     "output_type": "stream",
     "text": [
      "100%|██████████| 43/43 [00:50<00:00,  1.18s/it, loss=19.5]\n"
     ]
    },
    {
     "name": "stdout",
     "output_type": "stream",
     "text": [
      "Test loss: 53.3953857421875 Test Box IoU: 0.8693742621434878\n"
     ]
    },
    {
     "name": "stderr",
     "output_type": "stream",
     "text": [
      "100%|██████████| 43/43 [00:51<00:00,  1.19s/it, loss=21.3]\n"
     ]
    },
    {
     "name": "stdout",
     "output_type": "stream",
     "text": [
      "Test loss: 45.50061950683594 Test Box IoU: 0.8835061478288206\n"
     ]
    },
    {
     "name": "stderr",
     "output_type": "stream",
     "text": [
      "100%|██████████| 43/43 [00:53<00:00,  1.23s/it, loss=22.6]\n"
     ]
    },
    {
     "name": "stdout",
     "output_type": "stream",
     "text": [
      "Test loss: 43.141552734375 Test Box IoU: 0.9059733560640518\n"
     ]
    },
    {
     "name": "stderr",
     "output_type": "stream",
     "text": [
      "100%|██████████| 43/43 [00:55<00:00,  1.29s/it, loss=16.7]\n"
     ]
    },
    {
     "name": "stdout",
     "output_type": "stream",
     "text": [
      "Test loss: 44.016363525390624 Test Box IoU: 0.9021027447426155\n"
     ]
    },
    {
     "name": "stderr",
     "output_type": "stream",
     "text": [
      "100%|██████████| 43/43 [00:50<00:00,  1.18s/it, loss=31.6]\n"
     ]
    },
    {
     "name": "stdout",
     "output_type": "stream",
     "text": [
      "Test loss: 49.75642700195313 Test Box IoU: 0.8819420174376605\n"
     ]
    },
    {
     "name": "stderr",
     "output_type": "stream",
     "text": [
      "100%|██████████| 43/43 [00:50<00:00,  1.19s/it, loss=19.5]\n"
     ]
    },
    {
     "name": "stdout",
     "output_type": "stream",
     "text": [
      "Test loss: 43.834963989257815 Test Box IoU: 0.8962838159848566\n"
     ]
    },
    {
     "name": "stderr",
     "output_type": "stream",
     "text": [
      "100%|██████████| 43/43 [00:50<00:00,  1.18s/it, loss=53.2]\n"
     ]
    },
    {
     "name": "stdout",
     "output_type": "stream",
     "text": [
      "Test loss: 45.71558837890625 Test Box IoU: 0.8821101776541096\n"
     ]
    },
    {
     "name": "stderr",
     "output_type": "stream",
     "text": [
      "100%|██████████| 43/43 [00:51<00:00,  1.19s/it, loss=30.5]\n"
     ]
    },
    {
     "name": "stdout",
     "output_type": "stream",
     "text": [
      "Test loss: 55.2455078125 Test Box IoU: 0.8603623795182738\n"
     ]
    },
    {
     "name": "stderr",
     "output_type": "stream",
     "text": [
      "100%|██████████| 43/43 [00:50<00:00,  1.18s/it, loss=15.8]\n"
     ]
    },
    {
     "name": "stdout",
     "output_type": "stream",
     "text": [
      "Test loss: 49.817160034179686 Test Box IoU: 0.8812663457165025\n"
     ]
    },
    {
     "name": "stderr",
     "output_type": "stream",
     "text": [
      "100%|██████████| 43/43 [00:50<00:00,  1.16s/it, loss=31.5]\n"
     ]
    },
    {
     "name": "stdout",
     "output_type": "stream",
     "text": [
      "Test loss: 60.054779052734375 Test Box IoU: 0.8780400524400684\n"
     ]
    },
    {
     "name": "stderr",
     "output_type": "stream",
     "text": [
      "100%|██████████| 43/43 [00:50<00:00,  1.17s/it, loss=43.9]\n"
     ]
    },
    {
     "name": "stdout",
     "output_type": "stream",
     "text": [
      "Test loss: 43.58690185546875 Test Box IoU: 0.8987267899186644\n"
     ]
    },
    {
     "name": "stderr",
     "output_type": "stream",
     "text": [
      "100%|██████████| 43/43 [00:50<00:00,  1.17s/it, loss=31.2]\n"
     ]
    },
    {
     "name": "stdout",
     "output_type": "stream",
     "text": [
      "Test loss: 53.187750244140624 Test Box IoU: 0.8895652457459332\n"
     ]
    },
    {
     "name": "stderr",
     "output_type": "stream",
     "text": [
      "100%|██████████| 43/43 [00:49<00:00,  1.16s/it, loss=20.4]\n"
     ]
    },
    {
     "name": "stdout",
     "output_type": "stream",
     "text": [
      "Test loss: 46.42506103515625 Test Box IoU: 0.8904517186831121\n"
     ]
    },
    {
     "name": "stderr",
     "output_type": "stream",
     "text": [
      "100%|██████████| 43/43 [00:50<00:00,  1.17s/it, loss=17.9]\n"
     ]
    },
    {
     "name": "stdout",
     "output_type": "stream",
     "text": [
      "Test loss: 45.641064453125 Test Box IoU: 0.8981562575248823\n"
     ]
    },
    {
     "name": "stderr",
     "output_type": "stream",
     "text": [
      "100%|██████████| 43/43 [00:49<00:00,  1.16s/it, loss=67.7]\n"
     ]
    },
    {
     "name": "stdout",
     "output_type": "stream",
     "text": [
      "Test loss: 44.234170532226564 Test Box IoU: 0.8839524151527718\n"
     ]
    },
    {
     "name": "stderr",
     "output_type": "stream",
     "text": [
      "100%|██████████| 43/43 [00:50<00:00,  1.17s/it, loss=17.1]\n"
     ]
    },
    {
     "name": "stdout",
     "output_type": "stream",
     "text": [
      "Test loss: 38.12425537109375 Test Box IoU: 0.8982808361314747\n",
      "=> Saving checkpoint\n",
      "Test loss: 44.53085632324219 Test Box IoU: 0.8885608829864083\n"
     ]
    },
    {
     "data": {
      "text/html": [
       "<style>\n",
       "    table.wandb td:nth-child(1) { padding: 0 10px; text-align: left ; width: auto;} td:nth-child(2) {text-align: left ; width: 100%}\n",
       "    .wandb-row { display: flex; flex-direction: row; flex-wrap: wrap; justify-content: flex-start; width: 100% }\n",
       "    .wandb-col { display: flex; flex-direction: column; flex-basis: 100%; flex: 1; padding: 10px; }\n",
       "    </style>\n",
       "<div class=\"wandb-row\"><div class=\"wandb-col\"><h3>Run history:</h3><br/><table class=\"wandb\"><tr><td>test Box IoU</td><td>▁</td></tr><tr><td>test loss</td><td>▁</td></tr><tr><td>val Box IoU</td><td>▅█▅▁▇▅▇▆▆▇██▇▇▇▄▇▆▇▆█▆▆█▆▇▇▇▆██▆▆▅▆▆▇▇▇▇</td></tr><tr><td>val loss</td><td>▄▂▃█▃▃▄▂▃▂▂▂▂▂▂▇▃▃▂▂▂▄▄▂▂▂▁▁▂▂▂▂▂▃▂▃▃▂▂▁</td></tr></table><br/></div><div class=\"wandb-col\"><h3>Run summary:</h3><br/><table class=\"wandb\"><tr><td>test Box IoU</td><td>0.88856</td></tr><tr><td>test loss</td><td>44.53086</td></tr><tr><td>val Box IoU</td><td>0.89828</td></tr><tr><td>val loss</td><td>38.12426</td></tr></table><br/></div></div>"
      ],
      "text/plain": [
       "<IPython.core.display.HTML object>"
      ]
     },
     "metadata": {},
     "output_type": "display_data"
    },
    {
     "data": {
      "text/html": [
       " View run <strong style=\"color:#cdcd00\">EffNet & Monai_unet</strong> at: <a href='https://wandb.ai/ulm-university/Fixpoint%20detection%20%2B%20segmentation%20simulated/runs/3abfgmfk' target=\"_blank\">https://wandb.ai/ulm-university/Fixpoint%20detection%20%2B%20segmentation%20simulated/runs/3abfgmfk</a><br/> View project at: <a href='https://wandb.ai/ulm-university/Fixpoint%20detection%20%2B%20segmentation%20simulated' target=\"_blank\">https://wandb.ai/ulm-university/Fixpoint%20detection%20%2B%20segmentation%20simulated</a><br/>Synced 5 W&B file(s), 0 media file(s), 0 artifact file(s) and 0 other file(s)"
      ],
      "text/plain": [
       "<IPython.core.display.HTML object>"
      ]
     },
     "metadata": {},
     "output_type": "display_data"
    },
    {
     "data": {
      "text/html": [
       "Find logs at: <code>./wandb/run-20241024_161220-3abfgmfk/logs</code>"
      ],
      "text/plain": [
       "<IPython.core.display.HTML object>"
      ]
     },
     "metadata": {},
     "output_type": "display_data"
    },
    {
     "data": {
      "text/html": [
       "The new W&B backend becomes opt-out in version 0.18.0; try it out with `wandb.require(\"core\")`! See https://wandb.me/wandb-core for more information."
      ],
      "text/plain": [
       "<IPython.core.display.HTML object>"
      ]
     },
     "metadata": {},
     "output_type": "display_data"
    },
    {
     "ename": "",
     "evalue": "",
     "output_type": "error",
     "traceback": [
      "\u001b[1;31mThe Kernel crashed while executing code in the current cell or a previous cell. \n",
      "\u001b[1;31mPlease review the code in the cell(s) to identify a possible cause of the failure. \n",
      "\u001b[1;31mClick <a href='https://aka.ms/vscodeJupyterKernelCrash'>here</a> for more info. \n",
      "\u001b[1;31mView Jupyter <a href='command:jupyter.viewOutput'>log</a> for further details."
     ]
    }
   ],
   "source": [
    "from monai.networks.nets import UNet\n",
    "BATCH_SIZE = 8\n",
    "\n",
    "for i in range(5):\n",
    "            #Own_unet = UNET(in_channels=1, out_channels=1, features= [16, 32, 64, 128]).to(DEVICE)\n",
    "            #load_checkpoint(Own_unet, r'/home/alex/Documents/new try/Data/Lung Unet/save_states/Own_Unet_gaussian_10.pth.tar') \n",
    "            #seg_model = UNET(in_channels=1, out_channels=1, features= [16, 32, 64, 128]).to(DEVICE)\n",
    "            #load_checkpoint(seg_model, f'/home/alex/Documents/new try/Data/Lung Unet/save_states/simulate_data/Own_Unet_{i}.pth.tar')\n",
    "            model = EfficentNet().to(DEVICE) #KeypointModel().to(device=DEVICE)\n",
    "            load_checkpoint(model, f'/home/alex/Documents/new try/Data/Studie_daten/safe_states/EfficentNet_gaussian_{i}.pth.tar')\n",
    "            Monai_unet = UNet(spatial_dims=2, in_channels=1, out_channels=1, channels=(16, 32, 64, 128), strides=(2, 2, 2), bias = False, num_res_units = 0).to(device=DEVICE)\n",
    "            load_checkpoint(Monai_unet, f'/home/alex/Documents/new try/Data/Lung Unet/save_states/simulate_data/Monai_Unet_gaussian{i}.pth.tar')\n",
    "            training(i, model, Monai_unet, BATCH_SIZE)\n",
    "            "
   ]
  },
  {
   "cell_type": "code",
   "execution_count": null,
   "metadata": {},
   "outputs": [],
   "source": []
  },
  {
   "cell_type": "markdown",
   "metadata": {},
   "source": [
    "# compare error of lungs to spine"
   ]
  },
  {
   "cell_type": "code",
   "execution_count": 8,
   "metadata": {},
   "outputs": [
    {
     "name": "stdout",
     "output_type": "stream",
     "text": [
      "=> Loading checkpoint\n",
      "64.07782454239695\n",
      "127.99258964940121\n"
     ]
    }
   ],
   "source": [
    "train_loader, test_loader = get_loader_keypoint(BATCH_SIZE = 8)\n",
    "n = len(test_loader)\n",
    "loss_fn = nn.MSELoss()\n",
    "Keyp = KeypointModel().to(DEVICE)\n",
    "checkpoint_Keyp = r'/home/alex/Documents/new try/Data/Studie_daten/safe_states/Keypoint_detection_padding_0.001_1_0_6.pth.tar'\n",
    "load_checkpoint(Keyp, checkpoint_Keyp)\n",
    "loss_lung = 0\n",
    "loss_spine = 0\n",
    "for image, targ in test_loader:\n",
    "    img_Keyp = image.to(device = DEVICE)\n",
    "    target = targ.to(DEVICE).squeeze(1)\n",
    "    pred_keyp = Keyp(img_Keyp)\n",
    "    loss_spine += loss_fn(pred_keyp[:,:4], target[:,:4]).item()\n",
    "    loss_lung += loss_fn(pred_keyp[:,4:], target[:,4:]).item()\n",
    "\n",
    "print(loss_spine/n)\n",
    "print(loss_lung/n)"
   ]
  },
  {
   "cell_type": "code",
   "execution_count": null,
   "metadata": {},
   "outputs": [],
   "source": []
  }
 ],
 "metadata": {
  "kernelspec": {
   "display_name": "Python 3",
   "language": "python",
   "name": "python3"
  },
  "language_info": {
   "codemirror_mode": {
    "name": "ipython",
    "version": 3
   },
   "file_extension": ".py",
   "mimetype": "text/x-python",
   "name": "python",
   "nbconvert_exporter": "python",
   "pygments_lexer": "ipython3",
   "version": "3.10.12"
  }
 },
 "nbformat": 4,
 "nbformat_minor": 2
}
